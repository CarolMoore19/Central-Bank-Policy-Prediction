{
  "cells": [
    {
      "cell_type": "markdown",
      "source": [
        "# Overview\n",
        "\n",
        "In this notebook we run three variations on our main models.  The main finding is that these alternative approaches do not markedly improve our results or change our basic findings.\n",
        "\n",
        "1. Macro model with classification target (next rate up or not)\n",
        "\n",
        "2. Text analysis with richer corpus\n",
        "\n",
        "3. Text analysis with noise-based text augmentation.\n",
        "\n",
        "**This notebook uses two datasets:**\n",
        "\n",
        "1. df_train_us_with_aug2.xlsx\n",
        "\n",
        "2. us_ecb_nonumbs_clean_final8.xlsx"
      ],
      "metadata": {
        "id": "d_r3b7gjkXUS"
      }
    },
    {
      "cell_type": "markdown",
      "metadata": {
        "id": "k1jV3IklNUb9"
      },
      "source": [
        "# **Imports**\n",
        "\n"
      ]
    },
    {
      "cell_type": "code",
      "execution_count": null,
      "metadata": {
        "id": "jKJNCSme3J8U"
      },
      "outputs": [],
      "source": [
        "import numpy as np\n",
        "import pandas as pd\n",
        "\n",
        "%matplotlib inline\n",
        "import matplotlib.pyplot as plt\n",
        "import os \n",
        "import json\n",
        "\n",
        "import tensorflow as tf\n",
        "from tensorflow.keras.preprocessing.text import Tokenizer\n",
        "from tensorflow.keras.preprocessing.sequence import pad_sequences\n",
        "from keras import Sequential\n",
        "from keras.layers import Embedding, LSTM, Dense, Dropout\n",
        "from keras.callbacks import EarlyStopping\n",
        "\n",
        "from sklearn.preprocessing import minmax_scale\n",
        "from sklearn.preprocessing import MinMaxScaler\n",
        "\n",
        "pd.options.display.max_colwidth = 999\n"
      ]
    },
    {
      "cell_type": "markdown",
      "metadata": {
        "id": "5Nq8viF3C4Ad"
      },
      "source": [
        "# **Read and View Data**\n"
      ]
    },
    {
      "cell_type": "code",
      "execution_count": null,
      "metadata": {
        "id": "AwvJe8gh3Vth"
      },
      "outputs": [],
      "source": [
        "df=pd.read_excel('us_ecb_nonumbs_clean_final8.xlsx')"
      ]
    },
    {
      "cell_type": "code",
      "execution_count": null,
      "metadata": {
        "colab": {
          "base_uri": "https://localhost:8080/"
        },
        "id": "TUBETiSa3eiY",
        "outputId": "908b0e0b-cc9d-450b-a935-d2090722c63d"
      },
      "outputs": [
        {
          "output_type": "stream",
          "name": "stdout",
          "text": [
            "<class 'pandas.core.frame.DataFrame'>\n",
            "RangeIndex: 434 entries, 0 to 433\n",
            "Data columns (total 15 columns):\n",
            " #   Column                  Non-Null Count  Dtype  \n",
            "---  ------                  --------------  -----  \n",
            " 0   bank                    434 non-null    object \n",
            " 1   filename                434 non-null    object \n",
            " 2   date_dt                 434 non-null    object \n",
            " 3   chron_order_in_country  434 non-null    int64  \n",
            " 4   rate_curr               434 non-null    float64\n",
            " 5   rate_next               434 non-null    float64\n",
            " 6   rate_change             434 non-null    int64  \n",
            " 7   urate                   434 non-null    float64\n",
            " 8   inf                     434 non-null    float64\n",
            " 9   eff_rate                434 non-null    float64\n",
            " 10  statement               434 non-null    object \n",
            " 11  text_include            434 non-null    int64  \n",
            " 12  nairu                   169 non-null    float64\n",
            " 13  twice_urate_less_nairu  169 non-null    float64\n",
            " 14  minutes                 162 non-null    object \n",
            "dtypes: float64(7), int64(3), object(5)\n",
            "memory usage: 51.0+ KB\n"
          ]
        }
      ],
      "source": [
        "df.info()"
      ]
    },
    {
      "cell_type": "code",
      "execution_count": null,
      "metadata": {
        "id": "D9SuoyxbqF7G"
      },
      "outputs": [],
      "source": [
        "#Preprocessing\n",
        "def make_files(data,shuffle):\n",
        "  if shuffle==1:\n",
        "    data=data.sample(frac=1, random_state=42).reset_index()\n",
        "  else:  \n",
        "    data=data\n",
        "  \n",
        "  cut1=int(.6*data.shape[0])\n",
        "  cut2=int(.8*data.shape[0])\n",
        "\n",
        "  data_train=data.iloc[0:cut1,:].reset_index()\n",
        "  data_val=data.iloc[cut1:cut2,:].reset_index()\n",
        "  data_test=data.iloc[cut2:data.shape[0],:].reset_index()\n",
        "\n",
        "  return data_train, data_val, data_test"
      ]
    },
    {
      "cell_type": "code",
      "execution_count": null,
      "metadata": {
        "colab": {
          "base_uri": "https://localhost:8080/"
        },
        "id": "0tOXmLVXh5DY",
        "outputId": "07b91e23-c2b6-4f01-9152-6b5d55733806"
      },
      "outputs": [
        {
          "output_type": "stream",
          "name": "stdout",
          "text": [
            "(101, 17) (34, 17) (34, 17)\n"
          ]
        }
      ],
      "source": [
        "#Files for USFED\n",
        "df_train_us, df_val_us, df_test_us = make_files(df[df.bank=='usfed'], shuffle=1)\n",
        "print(df_train_us.shape, df_val_us.shape, df_test_us.shape)"
      ]
    },
    {
      "cell_type": "code",
      "execution_count": null,
      "metadata": {
        "id": "VX5JFfsHEVq6"
      },
      "outputs": [],
      "source": [
        "def make_matrixes(df,augment,scaled=0): \n",
        "\n",
        "  if scaled==1 and augment !=\"augment\":\n",
        "    xcols=['urate_std','inf_std','eff_rate_std']\n",
        "    y='rate_next'\n",
        "    #y='rate_curr'\n",
        "    X_matrix=df[xcols].values #x_col_list is a subset of columns in a pandas df\n",
        "    y_col=df[y].values\n",
        "\n",
        "  elif scaled==0:\n",
        "    xcols=['urate','inf','eff_rate']\n",
        "    y='rate_next'\n",
        "    #y='rate_curr'\n",
        "    y_col=df[y].values \n",
        "    \n",
        "    #Note: augmentation with noise is only used for training data.\n",
        "    if augment=='augment':\n",
        "      X_matrix = df[xcols].values + tf.random.normal((3,), 0, 0.005, seed=42)\n",
        "  \n",
        "    else :\n",
        "      X_matrix = df[xcols].values\n",
        "    \n",
        "  print(X_matrix.shape, y_col.shape) #check\n",
        "\n",
        "  return X_matrix, y_col"
      ]
    },
    {
      "cell_type": "code",
      "execution_count": null,
      "metadata": {
        "colab": {
          "base_uri": "https://localhost:8080/"
        },
        "id": "M3_F5XL8laSy",
        "outputId": "40385455-c3b9-4ecf-e4e8-990f124087eb"
      },
      "outputs": [
        {
          "output_type": "stream",
          "name": "stdout",
          "text": [
            "(101, 3) (101,)\n",
            "(34, 3) (34,)\n",
            "(34, 3) (34,)\n"
          ]
        }
      ],
      "source": [
        "# Retrieve matrixes for US\n",
        "# Note augmentation can only be used for training data, not validation or test\n",
        "X_train_us, y_train_us = make_matrixes(df_train_us,\"augment\",scaled=0)\n",
        "\n",
        "X_val_us, y_val_us = make_matrixes(df_val_us,\"no aug\",scaled=0)\n",
        "\n",
        "X_test_us, y_test_us = make_matrixes(df_test_us,\"no aug\",scaled=0)"
      ]
    },
    {
      "cell_type": "code",
      "source": [
        "X_train_us[0:5]"
      ],
      "metadata": {
        "colab": {
          "base_uri": "https://localhost:8080/"
        },
        "id": "1yYjLB8grxew",
        "outputId": "c6f78077-0d91-41d0-a7cd-44d9a7b6d36d"
      },
      "execution_count": null,
      "outputs": [
        {
          "output_type": "execute_result",
          "data": {
            "text/plain": [
              "<tf.Tensor: shape=(5, 3), dtype=float32, numpy=\n",
              "array([[3.8985963 , 2.0840611 , 2.3966184 ],\n",
              "       [4.698596  , 2.1425312 , 4.466618  ],\n",
              "       [4.7985964 , 1.5805312 , 0.29661837],\n",
              "       [4.8985963 , 2.2796612 , 4.0866184 ],\n",
              "       [3.6985962 , 1.7576312 , 2.3966184 ]], dtype=float32)>"
            ]
          },
          "metadata": {},
          "execution_count": 26
        }
      ]
    },
    {
      "cell_type": "markdown",
      "source": [
        "# **1.  Macro model with classification (up or not)**\n",
        "\n",
        "Test precision was as high as 75%.  However, the test performance was significantly better than the validation performance which suggests the results are a product of sampling error."
      ],
      "metadata": {
        "id": "qcxh3-aaoXRA"
      }
    },
    {
      "cell_type": "code",
      "source": [
        "def rate_change_var(data):\n",
        "  var=np.where(data['rate_change'] == -1, \n",
        "                               0, data['rate_change'])\n",
        "  return var"
      ],
      "metadata": {
        "id": "8ECep3XjpUbU"
      },
      "execution_count": null,
      "outputs": []
    },
    {
      "cell_type": "code",
      "source": [
        "clf_test_us = np.array(rate_change_var(df_test_us))\n",
        "clf_train_us = np.array(rate_change_var(df_train_us))\n",
        "clf_val_us=np.array(rate_change_var(df_val_us))"
      ],
      "metadata": {
        "id": "pJsAlw_RpUei"
      },
      "execution_count": null,
      "outputs": []
    },
    {
      "cell_type": "code",
      "source": [
        "print(clf_test_us.shape, clf_train_us.shape, clf_val_us.shape)"
      ],
      "metadata": {
        "colab": {
          "base_uri": "https://localhost:8080/"
        },
        "id": "P5UgIjaTrERz",
        "outputId": "7bcb5962-bf8f-4ca3-df74-7556136d151a"
      },
      "execution_count": null,
      "outputs": [
        {
          "output_type": "stream",
          "name": "stdout",
          "text": [
            "(34,) (101,) (34,)\n"
          ]
        }
      ]
    },
    {
      "cell_type": "code",
      "source": [
        "model_mac_precision = tf.keras.Sequential([\n",
        "    tf.keras.layers.InputLayer(input_shape=(3,)),\n",
        "    tf.keras.layers.Dense(480, activation='relu'), \n",
        "    tf.keras.layers.Dense(464, activation='relu'), \n",
        "    tf.keras.layers.Dense(1, activation='sigmoid')])"
      ],
      "metadata": {
        "id": "nSQUGSyJnZcw"
      },
      "execution_count": null,
      "outputs": []
    },
    {
      "cell_type": "code",
      "source": [
        "tf.keras.backend.clear_session()\n",
        "np.random.seed(42)\n",
        "tf.random.set_seed(42)\n",
        "model_mac_precision.compile(loss='binary_crossentropy', \n",
        "              optimizer=tf.keras.optimizers.Adam(learning_rate=0.001),\n",
        "              metrics=[tf.keras.metrics.Precision()])"
      ],
      "metadata": {
        "id": "W-pMslo8nZgA"
      },
      "execution_count": null,
      "outputs": []
    },
    {
      "cell_type": "code",
      "source": [
        "num_epochs = 2500\n",
        "early_stop_clf = EarlyStopping(monitor='val_precision', \n",
        "                           mode='max', patience=300, verbose=False)\n",
        "history = model_mac_precision.fit(X_train_us, clf_train_us, \n",
        "                    epochs=num_epochs, \n",
        "                    callbacks=[early_stop_clf],\n",
        "                    verbose=False,\n",
        "                    validation_data=(X_val_us, clf_val_us))"
      ],
      "metadata": {
        "id": "7psX4DLwnZlG"
      },
      "execution_count": null,
      "outputs": []
    },
    {
      "cell_type": "code",
      "source": [
        "precision = history.history['precision']\n",
        "val_precision = history.history['val_precision']\n",
        "epochs=range(len(precision))\n",
        "plt.plot(epochs, precision, 'r')\n",
        "plt.plot(epochs, val_precision, 'b')\n",
        "plt.title('Training and validation Precision')\n",
        "plt.ylim((0,1.5))\n",
        "plt.figure()"
      ],
      "metadata": {
        "colab": {
          "base_uri": "https://localhost:8080/",
          "height": 317
        },
        "id": "ku_Annnsnjfe",
        "outputId": "4a7fcf6a-bd6b-4d53-adea-b8bd163ac2bb"
      },
      "execution_count": null,
      "outputs": [
        {
          "output_type": "execute_result",
          "data": {
            "text/plain": [
              "<Figure size 432x288 with 0 Axes>"
            ]
          },
          "metadata": {},
          "execution_count": 37
        },
        {
          "output_type": "display_data",
          "data": {
            "text/plain": [
              "<Figure size 432x288 with 1 Axes>"
            ],
            "image/png": "[encoded data removed]"
          },
          "metadata": {
            "needs_background": "light"
          }
        },
        {
          "output_type": "display_data",
          "data": {
            "text/plain": [
              "<Figure size 432x288 with 0 Axes>"
            ]
          },
          "metadata": {}
        }
      ]
    },
    {
      "cell_type": "code",
      "source": [
        "model_mac_precision.evaluate(X_test_us, clf_test_us)"
      ],
      "metadata": {
        "colab": {
          "base_uri": "https://localhost:8080/"
        },
        "id": "VlJNmmhbnji6",
        "outputId": "d2c4b234-f66e-47c1-9fde-778cbcf4a9c9"
      },
      "execution_count": null,
      "outputs": [
        {
          "output_type": "stream",
          "name": "stdout",
          "text": [
            "2/2 [==============================] - 0s 8ms/step - loss: 0.2499 - precision: 0.7500\n"
          ]
        },
        {
          "output_type": "execute_result",
          "data": {
            "text/plain": [
              "[0.24986295402050018, 0.75]"
            ]
          },
          "metadata": {},
          "execution_count": 38
        }
      ]
    },
    {
      "cell_type": "markdown",
      "metadata": {
        "id": "KtWZGAEhurwC"
      },
      "source": [
        "# **2.  Richer Text**\n",
        "\n",
        "Our main dataset consists of short and concise statements which indicate the final considerations for the policy choice.  Most researchers, however, have used the much more extensive meeting minutes.  These may give a better window into the uncertainty, optimism and pessimism of the monetary policy committee.  \n",
        "\n",
        "On the other hand, these long statements may difficult for models that do not use transformers, such as our LSTM model.\n",
        "\n",
        "To determine the impact, we ran the richer text data on our simple LSTM and compared it to the original results.  "
      ]
    },
    {
      "cell_type": "code",
      "source": [
        "#Statistics\n",
        "approx_length = df_train_us['minutes'].str.split(\" \").str.len()\n",
        "approx_length.describe()"
      ],
      "metadata": {
        "colab": {
          "base_uri": "https://localhost:8080/"
        },
        "id": "SWg8jETmuN86",
        "outputId": "fb4df90d-e2ee-480b-8e8c-20ac4b27bf82"
      },
      "execution_count": null,
      "outputs": [
        {
          "output_type": "execute_result",
          "data": {
            "text/plain": [
              "count      98.000000\n",
              "mean     2550.163265\n",
              "std       765.612519\n",
              "min        89.000000\n",
              "25%      2147.750000\n",
              "50%      2992.500000\n",
              "75%      3033.750000\n",
              "max      3131.000000\n",
              "Name: minutes, dtype: float64"
            ]
          },
          "metadata": {},
          "execution_count": 39
        }
      ]
    },
    {
      "cell_type": "markdown",
      "metadata": {
        "id": "_v6l6_9wySCE"
      },
      "source": [
        "## Prepare data for embeddings\n",
        "We must drop the na values for minutes and create the padded sequences.\n"
      ]
    },
    {
      "cell_type": "code",
      "source": [
        "df_train_us=df_train_us.dropna()\n",
        "df_val_us=df_val_us.dropna()\n",
        "df_test_us=df_test_us.dropna()\n",
        "\n",
        "#check\n",
        "df_train_us.info()"
      ],
      "metadata": {
        "colab": {
          "base_uri": "https://localhost:8080/"
        },
        "id": "EGhVmGxmux-M",
        "outputId": "8ad86ba7-783c-4c51-931d-4e900251d89d"
      },
      "execution_count": null,
      "outputs": [
        {
          "output_type": "stream",
          "name": "stdout",
          "text": [
            "<class 'pandas.core.frame.DataFrame'>\n",
            "Int64Index: 98 entries, 0 to 100\n",
            "Data columns (total 17 columns):\n",
            " #   Column                  Non-Null Count  Dtype  \n",
            "---  ------                  --------------  -----  \n",
            " 0   level_0                 98 non-null     int64  \n",
            " 1   index                   98 non-null     int64  \n",
            " 2   bank                    98 non-null     object \n",
            " 3   filename                98 non-null     object \n",
            " 4   date_dt                 98 non-null     object \n",
            " 5   chron_order_in_country  98 non-null     int64  \n",
            " 6   rate_curr               98 non-null     float64\n",
            " 7   rate_next               98 non-null     float64\n",
            " 8   rate_change             98 non-null     int64  \n",
            " 9   urate                   98 non-null     float64\n",
            " 10  inf                     98 non-null     float64\n",
            " 11  eff_rate                98 non-null     float64\n",
            " 12  statement               98 non-null     object \n",
            " 13  text_include            98 non-null     int64  \n",
            " 14  nairu                   98 non-null     float64\n",
            " 15  twice_urate_less_nairu  98 non-null     float64\n",
            " 16  minutes                 98 non-null     object \n",
            "dtypes: float64(7), int64(5), object(5)\n",
            "memory usage: 13.8+ KB\n"
          ]
        }
      ]
    },
    {
      "cell_type": "code",
      "source": [
        "#We will also need to reset the y values and labels\n",
        "y_train_us=np.array(df_train_us.rate_next)\n",
        "y_test_us=np.array(df_test_us.rate_next)\n",
        "y_val_us=np.array(df_val_us.rate_next)"
      ],
      "metadata": {
        "id": "0RxM8J1NvSHU"
      },
      "execution_count": null,
      "outputs": []
    },
    {
      "cell_type": "code",
      "source": [
        "def prep_text(texttrain, textval, texttest):\n",
        "  tr_sentences=np.array(texttrain)\n",
        "  val_sentences=np.array(textval)\n",
        "  test_sentences=np.array(texttest)\n",
        "  return tr_sentences, val_sentences, test_sentences"
      ],
      "metadata": {
        "id": "cQpP5mNJPh2H"
      },
      "execution_count": null,
      "outputs": []
    },
    {
      "cell_type": "code",
      "execution_count": null,
      "metadata": {
        "id": "D7Cey_xKL5ld"
      },
      "outputs": [],
      "source": [
        "#Convert minutes to numpy arrays - US\n",
        "training_sentences_us, val_sentences_us, testing_sentences_us = prep_text(df_train_us.minutes,\\\n",
        "                                                                          df_val_us.minutes,\\\n",
        "                                                                          df_test_us.minutes)"
      ]
    },
    {
      "cell_type": "code",
      "execution_count": null,
      "metadata": {
        "colab": {
          "base_uri": "https://localhost:8080/"
        },
        "id": "p3sV3KW7_MRj",
        "outputId": "85c3c3a5-276c-43c2-c81b-5908f0b73830"
      },
      "outputs": [
        {
          "output_type": "stream",
          "name": "stdout",
          "text": [
            "(98,) (32,) (32,)\n"
          ]
        }
      ],
      "source": [
        "#Convert rename \n",
        "# Continuous target variable\n",
        "training_labels_final_us, val_labels_final_us, test_labels_final_us = prep_text(y_train_us, y_val_us, y_test_us)\n",
        "\n",
        "print(training_labels_final_us.shape, val_labels_final_us.shape, test_labels_final_us.shape)"
      ]
    },
    {
      "cell_type": "code",
      "execution_count": null,
      "metadata": {
        "id": "1dJsVBZp5wgc"
      },
      "outputs": [],
      "source": [
        "#Create embeddings based on the corpus\n",
        "\n",
        "max_length = 3000 #Number of tokens per statement \n",
        "trunc_type = 'post'\n",
        "padding_type = 'post'\n",
        "\n",
        "vocab_size = 6000 \n",
        "oov_tok = '<OOV>' \n",
        "embedding_dim = 16 "
      ]
    },
    {
      "cell_type": "code",
      "execution_count": null,
      "metadata": {
        "id": "wHFQvZHq4-J0"
      },
      "outputs": [],
      "source": [
        "#Apply tokenizer which translates words into numbers\n",
        "tokenizer = Tokenizer(num_words=vocab_size, oov_token=oov_tok)\n",
        "tokenizer.fit_on_texts(training_sentences_us)\n",
        "word_index = tokenizer.word_index"
      ]
    },
    {
      "cell_type": "code",
      "execution_count": null,
      "metadata": {
        "id": "lahsZxxJ6jVt",
        "colab": {
          "base_uri": "https://localhost:8080/"
        },
        "outputId": "6323b529-c722-4e2a-c69f-e9cbf43b0868"
      },
      "outputs": [
        {
          "output_type": "execute_result",
          "data": {
            "text/plain": [
              "[57, 104, 1388, 4127]"
            ]
          },
          "metadata": {},
          "execution_count": 96
        }
      ],
      "source": [
        "#Find the indexes for words we could not find before.\n",
        "check_list=['staff','housing', 'macroeconomic', 'war']\n",
        "      \n",
        "[word_index[i] for i in check_list]"
      ]
    },
    {
      "cell_type": "code",
      "source": [
        "len(word_index) #there are a lot more words - almost 5 times more"
      ],
      "metadata": {
        "colab": {
          "base_uri": "https://localhost:8080/"
        },
        "id": "pDXpqd4kYQz2",
        "outputId": "9dc4d5b7-b78a-4dce-8832-4badaa6a4a99"
      },
      "execution_count": null,
      "outputs": [
        {
          "output_type": "execute_result",
          "data": {
            "text/plain": [
              "5940"
            ]
          },
          "metadata": {},
          "execution_count": 85
        }
      ]
    },
    {
      "cell_type": "code",
      "execution_count": null,
      "metadata": {
        "id": "y9PFBhRj6nbQ"
      },
      "outputs": [],
      "source": [
        "#pad sequences\n",
        "sequences_us = tokenizer.texts_to_sequences(training_sentences_us)\n",
        "padded_us = pad_sequences(sequences_us, maxlen=max_length, truncating=trunc_type)\n",
        "\n",
        "val_sequences_us = tokenizer.texts_to_sequences(val_sentences_us)\n",
        "val_padded_us = pad_sequences(val_sequences_us, maxlen=max_length)\n",
        "\n",
        "test_sequences_us = tokenizer.texts_to_sequences(testing_sentences_us)\n",
        "test_padded_us = pad_sequences(test_sequences_us, maxlen=max_length)"
      ]
    },
    {
      "cell_type": "markdown",
      "metadata": {
        "id": "XyORPwqpvBpD"
      },
      "source": [
        "Let's take a look at these sequences arrays."
      ]
    },
    {
      "cell_type": "code",
      "execution_count": null,
      "metadata": {
        "colab": {
          "base_uri": "https://localhost:8080/"
        },
        "id": "EK-QzS4buLo8",
        "outputId": "cc7cb02a-6a31-4e48-d689-196d1ccedf62"
      },
      "outputs": [
        {
          "output_type": "stream",
          "name": "stdout",
          "text": [
            "(98, 3000) (32, 3000) (32, 3000)\n"
          ]
        }
      ],
      "source": [
        "print(padded_us.shape, val_padded_us.shape, test_padded_us.shape)"
      ]
    },
    {
      "cell_type": "code",
      "execution_count": null,
      "metadata": {
        "colab": {
          "base_uri": "https://localhost:8080/"
        },
        "id": "9Y9Hqj3EWqsW",
        "outputId": "ccb0788f-2443-41a5-becf-322fd0666475"
      },
      "outputs": [
        {
          "output_type": "execute_result",
          "data": {
            "text/plain": [
              "array([[ 135,    5,  155, ...,  648,  269,   59],\n",
              "       [   0,    0,    0, ...,  567,  629,  577],\n",
              "       [ 135,    5,  155, ...,   52,  187,   26],\n",
              "       ...,\n",
              "       [   0,    0,    0, ...,    4,  636, 5907],\n",
              "       [ 135,    5,  155, ...,  774,  212,  140],\n",
              "       [   0,   13,  180, ...,   21,   67, 5940]], dtype=int32)"
            ]
          },
          "metadata": {},
          "execution_count": 99
        }
      ],
      "source": [
        "padded_us"
      ]
    },
    {
      "cell_type": "markdown",
      "source": [
        "### A simple LSTM.  \n",
        "\n",
        "Previously, the test rmse was .52.  With the new data, it was about .8 - much worse.  We also tried doubling the size of the embedding dimensions to accomodate a richer dataset, which did not help. Overall, this model trained very well but was over-fit to the data and did poorly in both sample and validation tests.  It is likey that a different tool was needed for the job of analyzing these long texts."
      ],
      "metadata": {
        "id": "NdJ8x2uKFJGi"
      }
    },
    {
      "cell_type": "code",
      "source": [
        "#Now run the model!\n",
        "model_lstm = tf.keras.Sequential([\n",
        "    tf.keras.layers.Embedding(vocab_size, embedding_dim, input_length=max_length),\n",
        "    tf.keras.layers.LSTM(embedding_dim),\n",
        "    tf.keras.layers.Dense(480,activation='relu'),\n",
        "    tf.keras.layers.Dense(464,activation='relu'),\n",
        "    tf.keras.layers.Dense(1)\n",
        "])"
      ],
      "metadata": {
        "id": "Dm3mJ3iK093K"
      },
      "execution_count": null,
      "outputs": []
    },
    {
      "cell_type": "code",
      "source": [
        "tf.keras.backend.clear_session()\n",
        "np.random.seed(42)\n",
        "tf.random.set_seed(42)\n",
        "model_lstm.compile(loss='mse', \n",
        "              optimizer=tf.keras.optimizers.Adam(learning_rate=0.001),\n",
        "              metrics=[tf.keras.metrics.RootMeanSquaredError()])"
      ],
      "metadata": {
        "id": "khJCAdsYFRji"
      },
      "execution_count": null,
      "outputs": []
    },
    {
      "cell_type": "code",
      "source": [
        "num_epochs = 2500\n",
        "early_stop = EarlyStopping(monitor='val_root_mean_squared_error', \n",
        "                           mode='min', patience=300, verbose=False)\n",
        "history = model_lstm.fit(padded_us, y_train_us, \n",
        "                    epochs=num_epochs, verbose=False, callbacks=[early_stop],\n",
        "                    validation_data=(val_padded_us, y_val_us))"
      ],
      "metadata": {
        "id": "-ihWrv7uFXDy"
      },
      "execution_count": null,
      "outputs": []
    },
    {
      "cell_type": "code",
      "source": [
        "#@title\n",
        "rmse = history.history['root_mean_squared_error']\n",
        "val_rmse = history.history['val_root_mean_squared_error']\n",
        "epochs=range(len(rmse))\n",
        "plt.plot(epochs, rmse, 'r')\n",
        "plt.plot(epochs, val_rmse, 'b')\n",
        "plt.title('Training and validation RMSE - Simple LSTM, US')\n",
        "plt.ylim((0,1.5))\n",
        "plt.figure()"
      ],
      "metadata": {
        "colab": {
          "base_uri": "https://localhost:8080/",
          "height": 317
        },
        "id": "9biNc1BiFZ5P",
        "outputId": "174d25cc-4525-4fde-eb84-36167970aace"
      },
      "execution_count": null,
      "outputs": [
        {
          "output_type": "execute_result",
          "data": {
            "text/plain": [
              "<Figure size 432x288 with 0 Axes>"
            ]
          },
          "metadata": {},
          "execution_count": 103
        },
        {
          "output_type": "display_data",
          "data": {
            "text/plain": [
              "<Figure size 432x288 with 1 Axes>"
            ],
            "image/png": "[encoded data removed]"
          },
          "metadata": {
            "needs_background": "light"
          }
        },
        {
          "output_type": "display_data",
          "data": {
            "text/plain": [
              "<Figure size 432x288 with 0 Axes>"
            ]
          },
          "metadata": {}
        }
      ]
    },
    {
      "cell_type": "code",
      "source": [
        "model_lstm_eval=model_lstm.evaluate(test_padded_us, y_test_us)\n",
        "model_lstm_eval "
      ],
      "metadata": {
        "colab": {
          "base_uri": "https://localhost:8080/"
        },
        "id": "x-rHEQ-cFdVL",
        "outputId": "502f3663-6230-46af-fd01-b5102997e4b9"
      },
      "execution_count": null,
      "outputs": [
        {
          "output_type": "stream",
          "name": "stdout",
          "text": [
            "1/1 [==============================] - 0s 77ms/step - loss: 0.6896 - root_mean_squared_error: 0.8304\n"
          ]
        },
        {
          "output_type": "execute_result",
          "data": {
            "text/plain": [
              "[0.6896129250526428, 0.8304293155670166]"
            ]
          },
          "metadata": {},
          "execution_count": 104
        }
      ]
    },
    {
      "cell_type": "markdown",
      "source": [
        "# **3.  Text augmentation with noise**\n",
        "\n",
        "Result: Test rmse ~.8, higher than original data.\n",
        "\n",
        "We used the Text Attack package to make small perturbations to the post-meeting (shorter) statements.  \n",
        "\n",
        "According to research, noise can force an nlp model to train over a wider range of inputs, increasing its robustness and test performance.  Furthermore the perturbed texts can be appended to the training dataset, increasing its size.  \n",
        "\n",
        "The package offers several augmentation tools and we chose the WordNet Augmenter.  This tool replaces random words in each sample with related in WordNet.  Sometimes it gets teh sense of the word right, other times it substitutes a word that is synonymous only in a sense not used in the text (e.g., \"energy prices\" becomes \"vigor prices\").\n",
        "\n",
        "**The textattack package takes a long time to run even on a small number of samples (we managed 20) and premium GPU.** \n",
        "\n",
        "For this reason we are going to show the code we used to generate the text and read in the data, rather than running the code from this notebook.\n",
        "\n",
        "Reference: https://towardsdatascience.com/text-data-augmentation-f4143571ecd2"
      ],
      "metadata": {
        "id": "6PbOd23o3vj5"
      }
    },
    {
      "cell_type": "code",
      "source": [
        "#Do not run this code block \n",
        "\n",
        "## Set up\n",
        "#! pip install textattack\n",
        "#import textattack\n",
        "#from textattack.augmentation import WordNetAugmenter\n",
        "\n",
        "## Indicate the original datas is not augmented.\n",
        "#df_train_us['text_aug']=\"no\"\n",
        "\n",
        "##Given the time reqiured to run even one sample,choose 20 relatively short ones.\n",
        "#include=[0,1,3,7,10,14,16,20,21,22,23,26,29,30,35,36,38,39,43,65]\n",
        "\n",
        "## Create the dataset that will be augemented\n",
        "#train_aug = df_train_us.iloc[include, :] \n",
        "\n",
        "## Specify parameters\n",
        "#aug = WordNetAugmenter(pct_words_to_swap = 0.1, transformations_per_example = 1,\n",
        "                      #fast_augment=True)\n",
        "\n",
        "## Augment\n",
        "#train_aug['statement'] = train_aug['statement'].apply(lambda x: str(aug.augment(x)))\n",
        "\n",
        "##Indicate new data is augmented.\n",
        "#train_aug['text_aug']=train_aug.text_aug.str.replace('no','yes')\n",
        "\n",
        "##Add new samples to training data\n",
        "#df_train_us=df_train_us.append(train_aug)"
      ],
      "metadata": {
        "id": "1GA03ZRt3uL7"
      },
      "execution_count": null,
      "outputs": []
    },
    {
      "cell_type": "markdown",
      "source": [
        "Now that we have some augmented training data we can read it in.  The file includes BOTH the 20 augmented samples and their original counterparts, bringing up the number of observations from 101 to 121.\n",
        "\n",
        "The test and validation sets are unchanged. "
      ],
      "metadata": {
        "id": "bXDqGrd1-e3b"
      }
    },
    {
      "cell_type": "code",
      "source": [
        "# Now that we have created some augmented text let's read it in.\n",
        "# \n",
        "df_train_us=pd.read_excel('/content/df_train_us_with_aug2.xlsx')"
      ],
      "metadata": {
        "id": "a2cCVK503ueU"
      },
      "execution_count": null,
      "outputs": []
    },
    {
      "cell_type": "code",
      "source": [
        "df_train_us.shape"
      ],
      "metadata": {
        "colab": {
          "base_uri": "https://localhost:8080/"
        },
        "id": "3iSLQIJJN64m",
        "outputId": "3541a0a7-9b49-4a41-fede-55fab2c95cab"
      },
      "execution_count": null,
      "outputs": [
        {
          "output_type": "execute_result",
          "data": {
            "text/plain": [
              "(121, 13)"
            ]
          },
          "metadata": {},
          "execution_count": 132
        }
      ]
    },
    {
      "cell_type": "code",
      "source": [
        "#Examples of perturbed text\n",
        "df_train_us.loc[111,'statement']"
      ],
      "metadata": {
        "colab": {
          "base_uri": "https://localhost:8080/",
          "height": 196
        },
        "id": "u7-3yX7n3uhe",
        "outputId": "60445d20-0abb-47ab-dbb0-614b362945bb"
      },
      "execution_count": null,
      "outputs": [
        {
          "output_type": "execute_result",
          "data": {
            "text/plain": [
              "\"indicates proletariat mart remains warm economic activity uprise moderate rate. job gains solid average recent months unemployment rate remained low. although growth household spending piece earlier year growth business fixed investment soft. month basis overall inflation inflation items food energy range. market based measures inflation compensation remain grim; survey based measures longer term inflation expectations little changed. consistent statutory mandate committee seeks foster maximum employment price stability. light implications global developments economic outlook well muted inflation pressures committee decided lower target range federal funds rate. action supports committee's view sustained expansion economic activity strong labor market term inflation near committee's symmetric   objective likely outcomes uncertainties outlook remain. committee contemplates future path target tramp federal funds rate preserve monitor implications incoming information economic outlook act appropriate sustain expansion strong labor market inflation near symmetric   objective. determining timing size future adjustments target range federal funds rate committee appraise realized expected economic conditions comparative maximum employment objective symmetric   inflation objective. assessment take account wide array information including measures labor market conditions indicators inflation pressures inflation expectations translate financial international developments. committee conclude reduction aggregate securities arrest organization open market account two months early previously indicated. rosengren pet contact maintain target range federal funds rate.\""
            ],
            "application/vnd.google.colaboratory.intrinsic+json": {
              "type": "string"
            }
          },
          "metadata": {},
          "execution_count": 133
        }
      ]
    },
    {
      "cell_type": "code",
      "source": [
        "#Original version\n",
        "df_train_us.loc[112,'statement']"
      ],
      "metadata": {
        "colab": {
          "base_uri": "https://localhost:8080/",
          "height": 196
        },
        "id": "7EPb-fdlN9Bz",
        "outputId": "9ae18f61-aa6a-4928-f681-b1460a5e96fb"
      },
      "execution_count": null,
      "outputs": [
        {
          "output_type": "execute_result",
          "data": {
            "text/plain": [
              "\"indicates labor market remains strong economic activity rising moderate rate. job gains solid average recent months unemployment rate remained low. although growth household spending picked earlier year growth business fixed investment soft. month basis overall inflation inflation items food energy running. market based measures inflation compensation remain low; survey based measures longer term inflation expectations little changed. consistent statutory mandate committee seeks foster maximum employment price stability. light implications global developments economic outlook well muted inflation pressures committee decided lower target range federal funds rate. action supports committee's view sustained expansion economic activity strong labor market conditions inflation near committee's symmetric   objective likely outcomes uncertainties outlook remain. committee contemplates future path target range federal funds rate continue monitor implications incoming information economic outlook act appropriate sustain expansion strong labor market inflation near symmetric   objective. determining timing size future adjustments target range federal funds rate committee assess realized expected economic conditions relative maximum employment objective symmetric   inflation objective. assessment take account wide range information including measures labor market conditions indicators inflation pressures inflation expectations readings financial international developments. committee conclude reduction aggregate securities holdings system open market account two months earlier previously indicated. rosengren preferred meeting maintain target range federal funds rate.\""
            ],
            "application/vnd.google.colaboratory.intrinsic+json": {
              "type": "string"
            }
          },
          "metadata": {},
          "execution_count": 3
        }
      ]
    },
    {
      "cell_type": "markdown",
      "source": [
        "Perturbed sentence: indicates proletariat mart remains warm economic activity uprise moderate rate.\n",
        "\n",
        "Original:  indicates labor market remains strong economic activity rising moderate rate."
      ],
      "metadata": {
        "id": "Y55Jo-LuAGfL"
      }
    },
    {
      "cell_type": "code",
      "source": [
        "#Now feed the new data into our functions for formatting.  \n",
        "\n",
        "#We will also need to reset the y values and labels since we have more cases.\n",
        "y_train_us=np.array(df_train_us.rate_next)\n",
        "#confirm new shape\n",
        "\n",
        "y_train_us.shape"
      ],
      "metadata": {
        "colab": {
          "base_uri": "https://localhost:8080/"
        },
        "id": "FZYrlqZKPK9u",
        "outputId": "b8f529a3-9404-49ed-e98b-e2aaf6838359"
      },
      "execution_count": null,
      "outputs": [
        {
          "output_type": "execute_result",
          "data": {
            "text/plain": [
              "(121,)"
            ]
          },
          "metadata": {},
          "execution_count": 134
        }
      ]
    },
    {
      "cell_type": "code",
      "source": [
        "#In the prior excursion we looked at the (long) minutes; \n",
        "#change text to 'statements'\n",
        "training_sentences_us, val_sentences_us, testing_sentences_us = prep_text(df_train_us.statement,\\\n",
        "                                                                          df_val_us.statement,\\\n",
        "                                                                          df_test_us.statement)"
      ],
      "metadata": {
        "id": "VtlqMMpGPO7J"
      },
      "execution_count": null,
      "outputs": []
    },
    {
      "cell_type": "code",
      "source": [
        "#Ensure all the target variables are in the right format and shape\n",
        "training_labels_final_us, val_labels_final_us, test_labels_final_us = prep_text(y_train_us, y_val_us, y_test_us)\n"
      ],
      "metadata": {
        "id": "5eReGpyOPO_J"
      },
      "execution_count": null,
      "outputs": []
    },
    {
      "cell_type": "code",
      "source": [
        "print(training_labels_final_us.shape,val_labels_final_us.shape,test_labels_final_us.shape)"
      ],
      "metadata": {
        "colab": {
          "base_uri": "https://localhost:8080/"
        },
        "id": "vIvp2Kt9PPG1",
        "outputId": "7165e73a-bcc9-4d3b-c585-154ed6cb9a0f"
      },
      "execution_count": null,
      "outputs": [
        {
          "output_type": "stream",
          "name": "stdout",
          "text": [
            "(121,) (32,) (32,)\n"
          ]
        }
      ]
    },
    {
      "cell_type": "code",
      "source": [
        "#Create new embeddings based on the corpus\n",
        "\n",
        "max_length = 1200 #Number of tokens per statement \n",
        "trunc_type = 'post'\n",
        "padding_type = 'post'\n",
        "\n",
        "vocab_size = 1400\n",
        "oov_tok = '<OOV>' \n",
        "embedding_dim = 16 "
      ],
      "metadata": {
        "id": "HyatdLCi3uoJ"
      },
      "execution_count": null,
      "outputs": []
    },
    {
      "cell_type": "code",
      "source": [
        "#Apply tokenizer which translates words into numbers\n",
        "tokenizer = Tokenizer(num_words=vocab_size, oov_token=oov_tok)\n",
        "tokenizer.fit_on_texts(training_sentences_us)\n",
        "word_index = tokenizer.word_index"
      ],
      "metadata": {
        "id": "gSDEM8sDSe5n"
      },
      "execution_count": null,
      "outputs": []
    },
    {
      "cell_type": "code",
      "source": [
        "#Find the indexes for some new words\n",
        "check_list=['mart','drudge', 'mate', 'proletariat','pet']\n",
        "      \n",
        "[word_index[i] for i in check_list]"
      ],
      "metadata": {
        "colab": {
          "base_uri": "https://localhost:8080/"
        },
        "id": "wekBbX2eSoYx",
        "outputId": "9b470c7e-7a99-45a9-cb99-a4b0fdc67d73"
      },
      "execution_count": null,
      "outputs": [
        {
          "output_type": "execute_result",
          "data": {
            "text/plain": [
              "[1343, 858, 980, 1342, 1353]"
            ]
          },
          "metadata": {},
          "execution_count": 157
        }
      ]
    },
    {
      "cell_type": "code",
      "source": [
        "len(word_index) #About 200 more words than in the original vocab"
      ],
      "metadata": {
        "colab": {
          "base_uri": "https://localhost:8080/"
        },
        "id": "S0hgxoClSolP",
        "outputId": "b6f22176-19b3-47d8-daf1-3d8cf85ef906"
      },
      "execution_count": null,
      "outputs": [
        {
          "output_type": "execute_result",
          "data": {
            "text/plain": [
              "1370"
            ]
          },
          "metadata": {},
          "execution_count": 151
        }
      ]
    },
    {
      "cell_type": "code",
      "source": [
        "#pad sequences\n",
        "sequences_us = tokenizer.texts_to_sequences(training_sentences_us)\n",
        "padded_us = pad_sequences(sequences_us, maxlen=max_length, truncating=trunc_type)\n",
        "\n",
        "val_sequences_us = tokenizer.texts_to_sequences(val_sentences_us)\n",
        "val_padded_us = pad_sequences(val_sequences_us, maxlen=max_length)\n",
        "\n",
        "test_sequences_us = tokenizer.texts_to_sequences(testing_sentences_us)\n",
        "test_padded_us = pad_sequences(test_sequences_us, maxlen=max_length)"
      ],
      "metadata": {
        "id": "EE5eY0E3VEyS"
      },
      "execution_count": null,
      "outputs": []
    },
    {
      "cell_type": "code",
      "source": [
        "#Now run the model!\n",
        "model_lstm = tf.keras.Sequential([\n",
        "    tf.keras.layers.Embedding(vocab_size, embedding_dim, input_length=max_length),\n",
        "    tf.keras.layers.LSTM(embedding_dim),\n",
        "    tf.keras.layers.Dense(480,activation='relu'),\n",
        "    tf.keras.layers.Dense(464,activation='relu'),\n",
        "    tf.keras.layers.Dense(1)\n",
        "])"
      ],
      "metadata": {
        "id": "FjWGgFtXVvbW"
      },
      "execution_count": null,
      "outputs": []
    },
    {
      "cell_type": "code",
      "source": [
        "tf.keras.backend.clear_session()\n",
        "np.random.seed(42)\n",
        "tf.random.set_seed(42)\n",
        "model_lstm.compile(loss='mse', \n",
        "              optimizer=tf.keras.optimizers.Adam(learning_rate=0.001),\n",
        "              metrics=[tf.keras.metrics.RootMeanSquaredError()])"
      ],
      "metadata": {
        "id": "drbXmaLo3url"
      },
      "execution_count": null,
      "outputs": []
    },
    {
      "cell_type": "code",
      "source": [
        "num_epochs = 2500\n",
        "early_stop = EarlyStopping(monitor='val_root_mean_squared_error', \n",
        "                           mode='min', patience=300, verbose=False)\n",
        "history = model_lstm.fit(padded_us, y_train_us, \n",
        "                    epochs=num_epochs, verbose=False, callbacks=[early_stop],\n",
        "                    validation_data=(val_padded_us, y_val_us))"
      ],
      "metadata": {
        "id": "UtbFe92nVD4s"
      },
      "execution_count": null,
      "outputs": []
    },
    {
      "cell_type": "code",
      "source": [
        "#@title\n",
        "rmse = history.history['root_mean_squared_error']\n",
        "val_rmse = history.history['val_root_mean_squared_error']\n",
        "epochs=range(len(rmse))\n",
        "plt.plot(epochs, rmse, 'r')\n",
        "plt.plot(epochs, val_rmse, 'b')\n",
        "plt.title('Training and validation RMSE - Simple LSTM, US, Perturbed')\n",
        "plt.ylim((0,1.5))\n",
        "plt.figure()"
      ],
      "metadata": {
        "colab": {
          "base_uri": "https://localhost:8080/",
          "height": 317
        },
        "id": "0bNon96UVMKB",
        "outputId": "d8930cd8-5853-4ef7-c2fc-c0f03a4684af"
      },
      "execution_count": null,
      "outputs": [
        {
          "output_type": "execute_result",
          "data": {
            "text/plain": [
              "<Figure size 432x288 with 0 Axes>"
            ]
          },
          "metadata": {},
          "execution_count": 162
        },
        {
          "output_type": "display_data",
          "data": {
            "text/plain": [
              "<Figure size 432x288 with 1 Axes>"
            ],
            "image/png": "[encoded data removed]"
          },
          "metadata": {
            "needs_background": "light"
          }
        },
        {
          "output_type": "display_data",
          "data": {
            "text/plain": [
              "<Figure size 432x288 with 0 Axes>"
            ]
          },
          "metadata": {}
        }
      ]
    },
    {
      "cell_type": "code",
      "source": [
        "model_lstm_eval=model_lstm.evaluate(test_padded_us, y_test_us)\n",
        "model_lstm_eval "
      ],
      "metadata": {
        "colab": {
          "base_uri": "https://localhost:8080/"
        },
        "id": "nlzZFYVHVD8n",
        "outputId": "9e85ef63-40f3-4781-9b24-a3fee1fe9935"
      },
      "execution_count": null,
      "outputs": [
        {
          "output_type": "stream",
          "name": "stdout",
          "text": [
            "1/1 [==============================] - 0s 44ms/step - loss: 0.5468 - root_mean_squared_error: 0.7395\n"
          ]
        },
        {
          "output_type": "execute_result",
          "data": {
            "text/plain": [
              "[0.5468456745147705, 0.7394901514053345]"
            ]
          },
          "metadata": {},
          "execution_count": 163
        }
      ]
    },
    {
      "cell_type": "code",
      "source": [],
      "metadata": {
        "id": "Um_NkzQsVEBr"
      },
      "execution_count": null,
      "outputs": []
    }
  ],
  "metadata": {
    "colab": {
      "provenance": [],
      "collapsed_sections": [
        "KtWZGAEhurwC",
        "_v6l6_9wySCE",
        "NdJ8x2uKFJGi",
        "6PbOd23o3vj5"
      ]
    },
    "gpuClass": "standard",
    "kernelspec": {
      "display_name": "Python 3 (ipykernel)",
      "language": "python",
      "name": "python3"
    },
    "language_info": {
      "codemirror_mode": {
        "name": "ipython",
        "version": 3
      },
      "file_extension": ".py",
      "mimetype": "text/x-python",
      "name": "python",
      "nbconvert_exporter": "python",
      "pygments_lexer": "ipython3",
      "version": "3.9.7"
    },
    "accelerator": "GPU"
  },
  "nbformat": 4,
  "nbformat_minor": 0
}