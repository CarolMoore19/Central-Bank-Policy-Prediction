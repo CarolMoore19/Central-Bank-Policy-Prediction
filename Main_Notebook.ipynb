{
  "cells": [
    {
      "cell_type": "markdown",
      "source": [
        "# **Roadmap**\n",
        "\n",
        "In this project, we ask if the texts of central bank monetary policy announcements can foreshadow the interest rate policy decision in the subsequent policy meeting.  After importing modules and preprocessing the data, we:\n",
        "\n",
        "* Create dense networks to predict policy interest rates set by the US Federal Reserve and the European Central Bank.  The Keras Tuner helped us refine the model.\n",
        "\n",
        "* Add text to the model of the US interest rate policy.  The main model combines bidirectional LSTM layers and Dense layers.  \n",
        "\n",
        "* We test the main model on three different embeddings: trained on the corpus itself, a pre-train set of specialized embeddings for central banks, and GloVe.\n",
        "\n",
        "* Variations of the model are tested using the corpus-derived embeddings.  These include testing the model on a small sample data from the European Central Bank (ECB).\n",
        "\n",
        "**This is the first of two notebooks for this project.  The second notebook is used for additional experiments.**"
      ],
      "metadata": {
        "id": "l0Cwic0L8X4-"
      }
    },
    {
      "cell_type": "markdown",
      "metadata": {
        "id": "k1jV3IklNUb9"
      },
      "source": [
        "# **Imports**\n",
        "\n"
      ]
    },
    {
      "cell_type": "code",
      "execution_count": null,
      "metadata": {
        "id": "jKJNCSme3J8U"
      },
      "outputs": [],
      "source": [
        "import numpy as np\n",
        "import pandas as pd\n",
        "\n",
        "%matplotlib inline\n",
        "import matplotlib.pyplot as plt\n",
        "import os \n",
        "import json\n",
        "\n",
        "import tensorflow as tf\n",
        "from tensorflow.keras.preprocessing.text import Tokenizer\n",
        "from tensorflow.keras.preprocessing.sequence import pad_sequences\n",
        "from keras import Sequential\n",
        "from keras.layers import Embedding, LSTM, Dense, Dropout\n",
        "from keras.callbacks import EarlyStopping\n",
        "\n",
        "from sklearn.preprocessing import minmax_scale\n",
        "from sklearn.preprocessing import MinMaxScaler\n",
        "\n",
        "pd.options.display.max_colwidth = 999\n"
      ]
    },
    {
      "cell_type": "markdown",
      "metadata": {
        "id": "5Nq8viF3C4Ad"
      },
      "source": [
        "# **Read and View Data**\n",
        "\n",
        "The dataset was compiled from the files for the United States Federal Reserve Bank and the (usa_df.csv) and the European Union Euporean Central Bank (ecb_df.csv) the initial corpus at https://github.com/CarolMoore19/Central-Bank-Texts-Parsed, which contains announcements following all scheduled meetings of monetary policy committees. These data were further cleaned and prepared offline, and combined with macroeconomic variables downloaded from the Fed's public site for economic data, https://fred.stlouisfed.org/ and various sites covering the Euro Area. "
      ]
    },
    {
      "cell_type": "code",
      "execution_count": null,
      "metadata": {
        "id": "AwvJe8gh3Vth"
      },
      "outputs": [],
      "source": [
        "df=pd.read_excel('us_ecb_nonumbs_clean_final8.xlsx')"
      ]
    },
    {
      "cell_type": "markdown",
      "metadata": {
        "id": "AVNwmSyvPWGp"
      },
      "source": [
        "## Key Variables\n",
        "\n",
        "* *Bank*:  The US Federal Reserve or European Central Bank, which conducts monetary policy for the Euro Area.\n",
        "\n",
        "* *rate_curr*:  the policy (target) interest rate set at the monetary policy committee meeting.  For the US, this is the median of the upper and lower target range (which differ by .25 points).  The most relevant interest rate, the main refinancing operations rate, was not available for the mid-2000s. Instead we used the median of the rate paid to banks for deposits into the ECB and the rate on marginal lending.  The main refinancing operations always lies between these two rates and follows the same trend.\n",
        "\n",
        "* *rate_next*:  the rate set at the subsequent meeting.\n",
        "\n",
        "* *rate_change*:  -1 if the rate fell, 0 if remained the same, and 1 if increased.\n",
        "\n",
        "Macroeconomic variables are:\n",
        "\n",
        "* *urate*:  the unemployment rate on the first day of the month of the meeting. Seasonally adjusted.\n",
        "\n",
        "* *nairu and twice_urate_less_nairu*:  The natural rate of unemployment (nairu) represents unemployment rate consistent with full resource utilization. Twice_urate_less_nairu is a more theoretically correct measure of economic slack (only available for the US). Only available for the US.\n",
        "\n",
        "* *pce_inf*:  inflation for personal consumption expenditures, less food and energy, on the first day of the month of the meeting.  This is the inflation concept that both the Federal Reserve and the ECB use for policy. Seasonally adjustd.\n",
        "\n",
        "* *effective_ffr*:  The market federal funds rate on the first day of the month of the meeting.  When setting policy, the fed is trying to influence this interest rate.  For the ECB, analagous short-term bank interest rate is the Euro Short Term Rate (ESTR) and its predecessor the Eonia.\n",
        "\n",
        "Text variables are:\n",
        "\n",
        "* statement:  Press announcements following monetary policy committee meetings.  We removed numbers, dates, names and stopwords from the text.  We also removed boilerplate phrases which changed gradually over time and may be spuriously correlated with interest rate trends.  Because the Keras tokenizer does not handle hyphenated words that are common in these documents (e.g., \"long-term\"), we replaced hyphens with white space.\n",
        "\n",
        "* text_include:  if 1, can be included in a text analysis.  Otherwise, can only be used for quantitative analysis.  All ECB texts before 2017 are excluded because they consist entirely of boilerplate.\n",
        "\n",
        "Other variables - filename, date_dt, and chron_order_in_country - exist to to keep track of the meeting dates and do not enter into the analysis below."
      ]
    },
    {
      "cell_type": "code",
      "execution_count": null,
      "metadata": {
        "colab": {
          "base_uri": "https://localhost:8080/"
        },
        "id": "TUBETiSa3eiY",
        "outputId": "71be9659-2fc9-4e5e-bec4-1bd59b3aa6a5"
      },
      "outputs": [
        {
          "output_type": "stream",
          "name": "stdout",
          "text": [
            "<class 'pandas.core.frame.DataFrame'>\n",
            "RangeIndex: 434 entries, 0 to 433\n",
            "Data columns (total 15 columns):\n",
            " #   Column                  Non-Null Count  Dtype  \n",
            "---  ------                  --------------  -----  \n",
            " 0   bank                    434 non-null    object \n",
            " 1   filename                434 non-null    object \n",
            " 2   date_dt                 434 non-null    object \n",
            " 3   chron_order_in_country  434 non-null    int64  \n",
            " 4   rate_curr               434 non-null    float64\n",
            " 5   rate_next               434 non-null    float64\n",
            " 6   rate_change             434 non-null    int64  \n",
            " 7   urate                   434 non-null    float64\n",
            " 8   inf                     434 non-null    float64\n",
            " 9   eff_rate                434 non-null    float64\n",
            " 10  statement               434 non-null    object \n",
            " 11  text_include            434 non-null    int64  \n",
            " 12  nairu                   169 non-null    float64\n",
            " 13  twice_urate_less_nairu  169 non-null    float64\n",
            " 14  minutes                 162 non-null    object \n",
            "dtypes: float64(7), int64(3), object(5)\n",
            "memory usage: 51.0+ KB\n"
          ]
        }
      ],
      "source": [
        "df.info()"
      ]
    },
    {
      "cell_type": "markdown",
      "metadata": {
        "id": "aYcKWHkNSJUP"
      },
      "source": [
        "## Structure\n",
        "\n",
        "Although we can think of the problem as time-series prediction, our data structure also enables us to treat this as a standard supervised learning problem.  The target, _rate_next_ , is on the same row as other data about the current meeting including the text.  Example:"
      ]
    },
    {
      "cell_type": "code",
      "execution_count": null,
      "metadata": {
        "id": "9ppLNOo_Reuw",
        "colab": {
          "base_uri": "https://localhost:8080/",
          "height": 548
        },
        "outputId": "5ac98e74-629d-46ce-f1b2-7f159e1bff97"
      },
      "outputs": [
        {
          "output_type": "execute_result",
          "data": {
            "text/plain": [
              "    bank  date_dt  rate_curr  rate_next  urate  twice_urate_less_nairu  \\\n",
              "3  usfed  9/24/02       1.75       1.25    5.7                1.161582   \n",
              "4  usfed  11/6/02       1.25       1.25    5.9                1.582877   \n",
              "\n",
              "       inf  eff_rate  \\\n",
              "3  2.43474      1.85   \n",
              "4  1.69805      1.23   \n",
              "\n",
              "                                                                                                                                                                                                                                                                                                                                                                                                                                                                                                                                                                                                                                                                                                                                                                                                                                                                                                                                                                                                                                statement  \n",
              "3                                                                                                                                             keep its target for the federal funds rate unchanged at. the information that has become available since the last meeting of the committee suggests that aggregate demand is growing at a moderate pace. over time the current accommodative stance of monetary policy coupled with still robust underlying growth in productivity should be sufficient to foster an improving business climate. however considerable uncertainty persists about the extent and timing of the expected pickup in production and employment owing in part to the emergence of heightened geopolitical risks. consequently the committee believes that for the foreseeable future against the background of its long run goals of price stability and sustainable economic growth and of the information currently available the risks are weighted mainly toward conditions that generate economic weakness.  \n",
              "4  lower its target for the federal funds rate by basis points to. in a related action the board of governors approved a basis point reduction in the discount rate to. the committee continues to believe that an accommodative stance of monetary policy coupled with still robust underlying growth in productivity is providing important ongoing support to economic activity. however incoming economic data have tended to confirm that greater uncertainty in part attributable to heightened geopolitical risks is currently inhibiting spending production and employment. in these circumstances the committee believes that todays additional monetary easing should prove helpful as the economy works its way through this current soft spot. with this action the committee believes that against the background of its long run goals of price stability and sustainable economic growth and of the information currently available the risks are balanced with respect to the prospects for both goals in the foresee...  "
            ],
            "text/html": [
              "\n",
              "  <div id=\"df-f6e0bc75-7ed4-4831-aa63-91f6abc489fc\">\n",
              "    <div class=\"colab-df-container\">\n",
              "      <div>\n",
              "<style scoped>\n",
              "    .dataframe tbody tr th:only-of-type {\n",
              "        vertical-align: middle;\n",
              "    }\n",
              "\n",
              "    .dataframe tbody tr th {\n",
              "        vertical-align: top;\n",
              "    }\n",
              "\n",
              "    .dataframe thead th {\n",
              "        text-align: right;\n",
              "    }\n",
              "</style>\n",
              "<table border=\"1\" class=\"dataframe\">\n",
              "  <thead>\n",
              "    <tr style=\"text-align: right;\">\n",
              "      <th></th>\n",
              "      <th>bank</th>\n",
              "      <th>date_dt</th>\n",
              "      <th>rate_curr</th>\n",
              "      <th>rate_next</th>\n",
              "      <th>urate</th>\n",
              "      <th>twice_urate_less_nairu</th>\n",
              "      <th>inf</th>\n",
              "      <th>eff_rate</th>\n",
              "      <th>statement</th>\n",
              "    </tr>\n",
              "  </thead>\n",
              "  <tbody>\n",
              "    <tr>\n",
              "      <th>3</th>\n",
              "      <td>usfed</td>\n",
              "      <td>9/24/02</td>\n",
              "      <td>1.75</td>\n",
              "      <td>1.25</td>\n",
              "      <td>5.7</td>\n",
              "      <td>1.161582</td>\n",
              "      <td>2.43474</td>\n",
              "      <td>1.85</td>\n",
              "      <td>keep its target for the federal funds rate unchanged at. the information that has become available since the last meeting of the committee suggests that aggregate demand is growing at a moderate pace. over time the current accommodative stance of monetary policy coupled with still robust underlying growth in productivity should be sufficient to foster an improving business climate. however considerable uncertainty persists about the extent and timing of the expected pickup in production and employment owing in part to the emergence of heightened geopolitical risks. consequently the committee believes that for the foreseeable future against the background of its long run goals of price stability and sustainable economic growth and of the information currently available the risks are weighted mainly toward conditions that generate economic weakness.</td>\n",
              "    </tr>\n",
              "    <tr>\n",
              "      <th>4</th>\n",
              "      <td>usfed</td>\n",
              "      <td>11/6/02</td>\n",
              "      <td>1.25</td>\n",
              "      <td>1.25</td>\n",
              "      <td>5.9</td>\n",
              "      <td>1.582877</td>\n",
              "      <td>1.69805</td>\n",
              "      <td>1.23</td>\n",
              "      <td>lower its target for the federal funds rate by basis points to. in a related action the board of governors approved a basis point reduction in the discount rate to. the committee continues to believe that an accommodative stance of monetary policy coupled with still robust underlying growth in productivity is providing important ongoing support to economic activity. however incoming economic data have tended to confirm that greater uncertainty in part attributable to heightened geopolitical risks is currently inhibiting spending production and employment. in these circumstances the committee believes that todays additional monetary easing should prove helpful as the economy works its way through this current soft spot. with this action the committee believes that against the background of its long run goals of price stability and sustainable economic growth and of the information currently available the risks are balanced with respect to the prospects for both goals in the foresee...</td>\n",
              "    </tr>\n",
              "  </tbody>\n",
              "</table>\n",
              "</div>\n",
              "      <button class=\"colab-df-convert\" onclick=\"convertToInteractive('df-f6e0bc75-7ed4-4831-aa63-91f6abc489fc')\"\n",
              "              title=\"Convert this dataframe to an interactive table.\"\n",
              "              style=\"display:none;\">\n",
              "        \n",
              "  <svg xmlns=\"http://www.w3.org/2000/svg\" height=\"24px\"viewBox=\"0 0 24 24\"\n",
              "       width=\"24px\">\n",
              "    <path d=\"M0 0h24v24H0V0z\" fill=\"none\"/>\n",
              "    <path d=\"M18.56 5.44l.94 2.06.94-2.06 2.06-.94-2.06-.94-.94-2.06-.94 2.06-2.06.94zm-11 1L8.5 8.5l.94-2.06 2.06-.94-2.06-.94L8.5 2.5l-.94 2.06-2.06.94zm10 10l.94 2.06.94-2.06 2.06-.94-2.06-.94-.94-2.06-.94 2.06-2.06.94z\"/><path d=\"M17.41 7.96l-1.37-1.37c-.4-.4-.92-.59-1.43-.59-.52 0-1.04.2-1.43.59L10.3 9.45l-7.72 7.72c-.78.78-.78 2.05 0 2.83L4 21.41c.39.39.9.59 1.41.59.51 0 1.02-.2 1.41-.59l7.78-7.78 2.81-2.81c.8-.78.8-2.07 0-2.86zM5.41 20L4 18.59l7.72-7.72 1.47 1.35L5.41 20z\"/>\n",
              "  </svg>\n",
              "      </button>\n",
              "      \n",
              "  <style>\n",
              "    .colab-df-container {\n",
              "      display:flex;\n",
              "      flex-wrap:wrap;\n",
              "      gap: 12px;\n",
              "    }\n",
              "\n",
              "    .colab-df-convert {\n",
              "      background-color: #E8F0FE;\n",
              "      border: none;\n",
              "      border-radius: 50%;\n",
              "      cursor: pointer;\n",
              "      display: none;\n",
              "      fill: #1967D2;\n",
              "      height: 32px;\n",
              "      padding: 0 0 0 0;\n",
              "      width: 32px;\n",
              "    }\n",
              "\n",
              "    .colab-df-convert:hover {\n",
              "      background-color: #E2EBFA;\n",
              "      box-shadow: 0px 1px 2px rgba(60, 64, 67, 0.3), 0px 1px 3px 1px rgba(60, 64, 67, 0.15);\n",
              "      fill: #174EA6;\n",
              "    }\n",
              "\n",
              "    [theme=dark] .colab-df-convert {\n",
              "      background-color: #3B4455;\n",
              "      fill: #D2E3FC;\n",
              "    }\n",
              "\n",
              "    [theme=dark] .colab-df-convert:hover {\n",
              "      background-color: #434B5C;\n",
              "      box-shadow: 0px 1px 3px 1px rgba(0, 0, 0, 0.15);\n",
              "      filter: drop-shadow(0px 1px 2px rgba(0, 0, 0, 0.3));\n",
              "      fill: #FFFFFF;\n",
              "    }\n",
              "  </style>\n",
              "\n",
              "      <script>\n",
              "        const buttonEl =\n",
              "          document.querySelector('#df-f6e0bc75-7ed4-4831-aa63-91f6abc489fc button.colab-df-convert');\n",
              "        buttonEl.style.display =\n",
              "          google.colab.kernel.accessAllowed ? 'block' : 'none';\n",
              "\n",
              "        async function convertToInteractive(key) {\n",
              "          const element = document.querySelector('#df-f6e0bc75-7ed4-4831-aa63-91f6abc489fc');\n",
              "          const dataTable =\n",
              "            await google.colab.kernel.invokeFunction('convertToInteractive',\n",
              "                                                     [key], {});\n",
              "          if (!dataTable) return;\n",
              "\n",
              "          const docLinkHtml = 'Like what you see? Visit the ' +\n",
              "            '<a target=\"_blank\" href=https://colab.research.google.com/notebooks/data_table.ipynb>data table notebook</a>'\n",
              "            + ' to learn more about interactive tables.';\n",
              "          element.innerHTML = '';\n",
              "          dataTable['output_type'] = 'display_data';\n",
              "          await google.colab.output.renderOutput(dataTable, element);\n",
              "          const docLink = document.createElement('div');\n",
              "          docLink.innerHTML = docLinkHtml;\n",
              "          element.appendChild(docLink);\n",
              "        }\n",
              "      </script>\n",
              "    </div>\n",
              "  </div>\n",
              "  "
            ]
          },
          "metadata": {},
          "execution_count": 5
        }
      ],
      "source": [
        "df.loc[3:4,['bank','date_dt','rate_curr','rate_next','urate','twice_urate_less_nairu','inf','eff_rate','statement']]"
      ]
    },
    {
      "cell_type": "markdown",
      "metadata": {
        "id": "XavLnh2RlHof"
      },
      "source": [
        "## Summary Statistics by Bank"
      ]
    },
    {
      "cell_type": "code",
      "execution_count": null,
      "metadata": {
        "colab": {
          "base_uri": "https://localhost:8080/",
          "height": 291
        },
        "id": "2Silh3iJArKw",
        "outputId": "78f454a4-df60-40e7-cb6a-0a60b593203f"
      },
      "outputs": [
        {
          "output_type": "execute_result",
          "data": {
            "text/plain": [
              "       rate_curr  rate_next   urate  twice_urate_less_nairu     inf  eff_rate\n",
              "count     169.00     169.00  169.00                  169.00  169.00    169.00\n",
              "mean        1.38       1.38    6.04                    2.54    1.89      1.26\n",
              "std         1.50       1.50    1.99                    3.94    0.78      1.56\n",
              "min         0.25       0.25    3.50                   -2.07    0.65      0.04\n",
              "25%         0.25       0.25    4.60                   -0.45    1.53      0.09\n",
              "50%         0.75       0.75    5.40                    1.16    1.70      0.30\n",
              "75%         2.00       2.00    7.30                    4.96    2.08      1.94\n",
              "max         5.25       5.25   14.70                   20.40    5.36      5.34"
            ],
            "text/html": [
              "\n",
              "  <div id=\"df-d2e7171a-7003-4509-95c9-b8a0691f9b5c\">\n",
              "    <div class=\"colab-df-container\">\n",
              "      <div>\n",
              "<style scoped>\n",
              "    .dataframe tbody tr th:only-of-type {\n",
              "        vertical-align: middle;\n",
              "    }\n",
              "\n",
              "    .dataframe tbody tr th {\n",
              "        vertical-align: top;\n",
              "    }\n",
              "\n",
              "    .dataframe thead th {\n",
              "        text-align: right;\n",
              "    }\n",
              "</style>\n",
              "<table border=\"1\" class=\"dataframe\">\n",
              "  <thead>\n",
              "    <tr style=\"text-align: right;\">\n",
              "      <th></th>\n",
              "      <th>rate_curr</th>\n",
              "      <th>rate_next</th>\n",
              "      <th>urate</th>\n",
              "      <th>twice_urate_less_nairu</th>\n",
              "      <th>inf</th>\n",
              "      <th>eff_rate</th>\n",
              "    </tr>\n",
              "  </thead>\n",
              "  <tbody>\n",
              "    <tr>\n",
              "      <th>count</th>\n",
              "      <td>169.00</td>\n",
              "      <td>169.00</td>\n",
              "      <td>169.00</td>\n",
              "      <td>169.00</td>\n",
              "      <td>169.00</td>\n",
              "      <td>169.00</td>\n",
              "    </tr>\n",
              "    <tr>\n",
              "      <th>mean</th>\n",
              "      <td>1.38</td>\n",
              "      <td>1.38</td>\n",
              "      <td>6.04</td>\n",
              "      <td>2.54</td>\n",
              "      <td>1.89</td>\n",
              "      <td>1.26</td>\n",
              "    </tr>\n",
              "    <tr>\n",
              "      <th>std</th>\n",
              "      <td>1.50</td>\n",
              "      <td>1.50</td>\n",
              "      <td>1.99</td>\n",
              "      <td>3.94</td>\n",
              "      <td>0.78</td>\n",
              "      <td>1.56</td>\n",
              "    </tr>\n",
              "    <tr>\n",
              "      <th>min</th>\n",
              "      <td>0.25</td>\n",
              "      <td>0.25</td>\n",
              "      <td>3.50</td>\n",
              "      <td>-2.07</td>\n",
              "      <td>0.65</td>\n",
              "      <td>0.04</td>\n",
              "    </tr>\n",
              "    <tr>\n",
              "      <th>25%</th>\n",
              "      <td>0.25</td>\n",
              "      <td>0.25</td>\n",
              "      <td>4.60</td>\n",
              "      <td>-0.45</td>\n",
              "      <td>1.53</td>\n",
              "      <td>0.09</td>\n",
              "    </tr>\n",
              "    <tr>\n",
              "      <th>50%</th>\n",
              "      <td>0.75</td>\n",
              "      <td>0.75</td>\n",
              "      <td>5.40</td>\n",
              "      <td>1.16</td>\n",
              "      <td>1.70</td>\n",
              "      <td>0.30</td>\n",
              "    </tr>\n",
              "    <tr>\n",
              "      <th>75%</th>\n",
              "      <td>2.00</td>\n",
              "      <td>2.00</td>\n",
              "      <td>7.30</td>\n",
              "      <td>4.96</td>\n",
              "      <td>2.08</td>\n",
              "      <td>1.94</td>\n",
              "    </tr>\n",
              "    <tr>\n",
              "      <th>max</th>\n",
              "      <td>5.25</td>\n",
              "      <td>5.25</td>\n",
              "      <td>14.70</td>\n",
              "      <td>20.40</td>\n",
              "      <td>5.36</td>\n",
              "      <td>5.34</td>\n",
              "    </tr>\n",
              "  </tbody>\n",
              "</table>\n",
              "</div>\n",
              "      <button class=\"colab-df-convert\" onclick=\"convertToInteractive('df-d2e7171a-7003-4509-95c9-b8a0691f9b5c')\"\n",
              "              title=\"Convert this dataframe to an interactive table.\"\n",
              "              style=\"display:none;\">\n",
              "        \n",
              "  <svg xmlns=\"http://www.w3.org/2000/svg\" height=\"24px\"viewBox=\"0 0 24 24\"\n",
              "       width=\"24px\">\n",
              "    <path d=\"M0 0h24v24H0V0z\" fill=\"none\"/>\n",
              "    <path d=\"M18.56 5.44l.94 2.06.94-2.06 2.06-.94-2.06-.94-.94-2.06-.94 2.06-2.06.94zm-11 1L8.5 8.5l.94-2.06 2.06-.94-2.06-.94L8.5 2.5l-.94 2.06-2.06.94zm10 10l.94 2.06.94-2.06 2.06-.94-2.06-.94-.94-2.06-.94 2.06-2.06.94z\"/><path d=\"M17.41 7.96l-1.37-1.37c-.4-.4-.92-.59-1.43-.59-.52 0-1.04.2-1.43.59L10.3 9.45l-7.72 7.72c-.78.78-.78 2.05 0 2.83L4 21.41c.39.39.9.59 1.41.59.51 0 1.02-.2 1.41-.59l7.78-7.78 2.81-2.81c.8-.78.8-2.07 0-2.86zM5.41 20L4 18.59l7.72-7.72 1.47 1.35L5.41 20z\"/>\n",
              "  </svg>\n",
              "      </button>\n",
              "      \n",
              "  <style>\n",
              "    .colab-df-container {\n",
              "      display:flex;\n",
              "      flex-wrap:wrap;\n",
              "      gap: 12px;\n",
              "    }\n",
              "\n",
              "    .colab-df-convert {\n",
              "      background-color: #E8F0FE;\n",
              "      border: none;\n",
              "      border-radius: 50%;\n",
              "      cursor: pointer;\n",
              "      display: none;\n",
              "      fill: #1967D2;\n",
              "      height: 32px;\n",
              "      padding: 0 0 0 0;\n",
              "      width: 32px;\n",
              "    }\n",
              "\n",
              "    .colab-df-convert:hover {\n",
              "      background-color: #E2EBFA;\n",
              "      box-shadow: 0px 1px 2px rgba(60, 64, 67, 0.3), 0px 1px 3px 1px rgba(60, 64, 67, 0.15);\n",
              "      fill: #174EA6;\n",
              "    }\n",
              "\n",
              "    [theme=dark] .colab-df-convert {\n",
              "      background-color: #3B4455;\n",
              "      fill: #D2E3FC;\n",
              "    }\n",
              "\n",
              "    [theme=dark] .colab-df-convert:hover {\n",
              "      background-color: #434B5C;\n",
              "      box-shadow: 0px 1px 3px 1px rgba(0, 0, 0, 0.15);\n",
              "      filter: drop-shadow(0px 1px 2px rgba(0, 0, 0, 0.3));\n",
              "      fill: #FFFFFF;\n",
              "    }\n",
              "  </style>\n",
              "\n",
              "      <script>\n",
              "        const buttonEl =\n",
              "          document.querySelector('#df-d2e7171a-7003-4509-95c9-b8a0691f9b5c button.colab-df-convert');\n",
              "        buttonEl.style.display =\n",
              "          google.colab.kernel.accessAllowed ? 'block' : 'none';\n",
              "\n",
              "        async function convertToInteractive(key) {\n",
              "          const element = document.querySelector('#df-d2e7171a-7003-4509-95c9-b8a0691f9b5c');\n",
              "          const dataTable =\n",
              "            await google.colab.kernel.invokeFunction('convertToInteractive',\n",
              "                                                     [key], {});\n",
              "          if (!dataTable) return;\n",
              "\n",
              "          const docLinkHtml = 'Like what you see? Visit the ' +\n",
              "            '<a target=\"_blank\" href=https://colab.research.google.com/notebooks/data_table.ipynb>data table notebook</a>'\n",
              "            + ' to learn more about interactive tables.';\n",
              "          element.innerHTML = '';\n",
              "          dataTable['output_type'] = 'display_data';\n",
              "          await google.colab.output.renderOutput(dataTable, element);\n",
              "          const docLink = document.createElement('div');\n",
              "          docLink.innerHTML = docLinkHtml;\n",
              "          element.appendChild(docLink);\n",
              "        }\n",
              "      </script>\n",
              "    </div>\n",
              "  </div>\n",
              "  "
            ]
          },
          "metadata": {},
          "execution_count": 3
        }
      ],
      "source": [
        "round(df[df.bank=='usfed'][['rate_curr','rate_next','urate','twice_urate_less_nairu','inf','eff_rate']].describe(),2)\n"
      ]
    },
    {
      "cell_type": "code",
      "execution_count": null,
      "metadata": {
        "colab": {
          "base_uri": "https://localhost:8080/",
          "height": 291
        },
        "id": "WVOrguLboY1T",
        "outputId": "8b7339c1-6e03-49ce-e5d7-daa22de6492e"
      },
      "outputs": [
        {
          "output_type": "execute_result",
          "data": {
            "text/plain": [
              "       rate_curr  rate_next   urate     inf  eff_rate\n",
              "count     265.00     265.00  265.00  265.00    265.00\n",
              "mean        1.89       1.88    9.24    1.40      1.73\n",
              "std         1.65       1.65    1.35    0.52      1.84\n",
              "min        -0.12      -0.12    6.70    0.21     -0.49\n",
              "25%         0.38       0.38    8.40    1.01      0.07\n",
              "50%         2.00       2.00    9.10    1.34      1.97\n",
              "75%         3.25       3.25   10.10    1.73      3.50\n",
              "max         4.75       4.75   12.20    3.95      5.06"
            ],
            "text/html": [
              "\n",
              "  <div id=\"df-2e5112e8-fddf-4c43-9d38-9a6432900f12\">\n",
              "    <div class=\"colab-df-container\">\n",
              "      <div>\n",
              "<style scoped>\n",
              "    .dataframe tbody tr th:only-of-type {\n",
              "        vertical-align: middle;\n",
              "    }\n",
              "\n",
              "    .dataframe tbody tr th {\n",
              "        vertical-align: top;\n",
              "    }\n",
              "\n",
              "    .dataframe thead th {\n",
              "        text-align: right;\n",
              "    }\n",
              "</style>\n",
              "<table border=\"1\" class=\"dataframe\">\n",
              "  <thead>\n",
              "    <tr style=\"text-align: right;\">\n",
              "      <th></th>\n",
              "      <th>rate_curr</th>\n",
              "      <th>rate_next</th>\n",
              "      <th>urate</th>\n",
              "      <th>inf</th>\n",
              "      <th>eff_rate</th>\n",
              "    </tr>\n",
              "  </thead>\n",
              "  <tbody>\n",
              "    <tr>\n",
              "      <th>count</th>\n",
              "      <td>265.00</td>\n",
              "      <td>265.00</td>\n",
              "      <td>265.00</td>\n",
              "      <td>265.00</td>\n",
              "      <td>265.00</td>\n",
              "    </tr>\n",
              "    <tr>\n",
              "      <th>mean</th>\n",
              "      <td>1.89</td>\n",
              "      <td>1.88</td>\n",
              "      <td>9.24</td>\n",
              "      <td>1.40</td>\n",
              "      <td>1.73</td>\n",
              "    </tr>\n",
              "    <tr>\n",
              "      <th>std</th>\n",
              "      <td>1.65</td>\n",
              "      <td>1.65</td>\n",
              "      <td>1.35</td>\n",
              "      <td>0.52</td>\n",
              "      <td>1.84</td>\n",
              "    </tr>\n",
              "    <tr>\n",
              "      <th>min</th>\n",
              "      <td>-0.12</td>\n",
              "      <td>-0.12</td>\n",
              "      <td>6.70</td>\n",
              "      <td>0.21</td>\n",
              "      <td>-0.49</td>\n",
              "    </tr>\n",
              "    <tr>\n",
              "      <th>25%</th>\n",
              "      <td>0.38</td>\n",
              "      <td>0.38</td>\n",
              "      <td>8.40</td>\n",
              "      <td>1.01</td>\n",
              "      <td>0.07</td>\n",
              "    </tr>\n",
              "    <tr>\n",
              "      <th>50%</th>\n",
              "      <td>2.00</td>\n",
              "      <td>2.00</td>\n",
              "      <td>9.10</td>\n",
              "      <td>1.34</td>\n",
              "      <td>1.97</td>\n",
              "    </tr>\n",
              "    <tr>\n",
              "      <th>75%</th>\n",
              "      <td>3.25</td>\n",
              "      <td>3.25</td>\n",
              "      <td>10.10</td>\n",
              "      <td>1.73</td>\n",
              "      <td>3.50</td>\n",
              "    </tr>\n",
              "    <tr>\n",
              "      <th>max</th>\n",
              "      <td>4.75</td>\n",
              "      <td>4.75</td>\n",
              "      <td>12.20</td>\n",
              "      <td>3.95</td>\n",
              "      <td>5.06</td>\n",
              "    </tr>\n",
              "  </tbody>\n",
              "</table>\n",
              "</div>\n",
              "      <button class=\"colab-df-convert\" onclick=\"convertToInteractive('df-2e5112e8-fddf-4c43-9d38-9a6432900f12')\"\n",
              "              title=\"Convert this dataframe to an interactive table.\"\n",
              "              style=\"display:none;\">\n",
              "        \n",
              "  <svg xmlns=\"http://www.w3.org/2000/svg\" height=\"24px\"viewBox=\"0 0 24 24\"\n",
              "       width=\"24px\">\n",
              "    <path d=\"M0 0h24v24H0V0z\" fill=\"none\"/>\n",
              "    <path d=\"M18.56 5.44l.94 2.06.94-2.06 2.06-.94-2.06-.94-.94-2.06-.94 2.06-2.06.94zm-11 1L8.5 8.5l.94-2.06 2.06-.94-2.06-.94L8.5 2.5l-.94 2.06-2.06.94zm10 10l.94 2.06.94-2.06 2.06-.94-2.06-.94-.94-2.06-.94 2.06-2.06.94z\"/><path d=\"M17.41 7.96l-1.37-1.37c-.4-.4-.92-.59-1.43-.59-.52 0-1.04.2-1.43.59L10.3 9.45l-7.72 7.72c-.78.78-.78 2.05 0 2.83L4 21.41c.39.39.9.59 1.41.59.51 0 1.02-.2 1.41-.59l7.78-7.78 2.81-2.81c.8-.78.8-2.07 0-2.86zM5.41 20L4 18.59l7.72-7.72 1.47 1.35L5.41 20z\"/>\n",
              "  </svg>\n",
              "      </button>\n",
              "      \n",
              "  <style>\n",
              "    .colab-df-container {\n",
              "      display:flex;\n",
              "      flex-wrap:wrap;\n",
              "      gap: 12px;\n",
              "    }\n",
              "\n",
              "    .colab-df-convert {\n",
              "      background-color: #E8F0FE;\n",
              "      border: none;\n",
              "      border-radius: 50%;\n",
              "      cursor: pointer;\n",
              "      display: none;\n",
              "      fill: #1967D2;\n",
              "      height: 32px;\n",
              "      padding: 0 0 0 0;\n",
              "      width: 32px;\n",
              "    }\n",
              "\n",
              "    .colab-df-convert:hover {\n",
              "      background-color: #E2EBFA;\n",
              "      box-shadow: 0px 1px 2px rgba(60, 64, 67, 0.3), 0px 1px 3px 1px rgba(60, 64, 67, 0.15);\n",
              "      fill: #174EA6;\n",
              "    }\n",
              "\n",
              "    [theme=dark] .colab-df-convert {\n",
              "      background-color: #3B4455;\n",
              "      fill: #D2E3FC;\n",
              "    }\n",
              "\n",
              "    [theme=dark] .colab-df-convert:hover {\n",
              "      background-color: #434B5C;\n",
              "      box-shadow: 0px 1px 3px 1px rgba(0, 0, 0, 0.15);\n",
              "      filter: drop-shadow(0px 1px 2px rgba(0, 0, 0, 0.3));\n",
              "      fill: #FFFFFF;\n",
              "    }\n",
              "  </style>\n",
              "\n",
              "      <script>\n",
              "        const buttonEl =\n",
              "          document.querySelector('#df-2e5112e8-fddf-4c43-9d38-9a6432900f12 button.colab-df-convert');\n",
              "        buttonEl.style.display =\n",
              "          google.colab.kernel.accessAllowed ? 'block' : 'none';\n",
              "\n",
              "        async function convertToInteractive(key) {\n",
              "          const element = document.querySelector('#df-2e5112e8-fddf-4c43-9d38-9a6432900f12');\n",
              "          const dataTable =\n",
              "            await google.colab.kernel.invokeFunction('convertToInteractive',\n",
              "                                                     [key], {});\n",
              "          if (!dataTable) return;\n",
              "\n",
              "          const docLinkHtml = 'Like what you see? Visit the ' +\n",
              "            '<a target=\"_blank\" href=https://colab.research.google.com/notebooks/data_table.ipynb>data table notebook</a>'\n",
              "            + ' to learn more about interactive tables.';\n",
              "          element.innerHTML = '';\n",
              "          dataTable['output_type'] = 'display_data';\n",
              "          await google.colab.output.renderOutput(dataTable, element);\n",
              "          const docLink = document.createElement('div');\n",
              "          docLink.innerHTML = docLinkHtml;\n",
              "          element.appendChild(docLink);\n",
              "        }\n",
              "      </script>\n",
              "    </div>\n",
              "  </div>\n",
              "  "
            ]
          },
          "metadata": {},
          "execution_count": 4
        }
      ],
      "source": [
        "#ECB\n",
        "round(df[df.bank=='ecb'][['rate_curr','rate_next','urate','inf','eff_rate']].describe(),2)\n"
      ]
    },
    {
      "cell_type": "markdown",
      "metadata": {
        "id": "HdP2v8GvD7hS"
      },
      "source": [
        "# **Preprocessing**"
      ]
    },
    {
      "cell_type": "markdown",
      "metadata": {
        "id": "NR76ZNv_ZU5z"
      },
      "source": [
        "## For each Central Bank, shuffle the data and split it into test, train and validation sets.\n",
        "\n",
        "We have structured the data to accomodate both time-series and cross-sectional analyses of the data.  Shuffling is appropriate for the latter.  The function below allows us to set the order of the data.  \n",
        "\n",
        "The function also takes the train/test/validate splits.  This is a small dataset and to allow enough samples for useful validation and testing we use a 60-20-20 split. \n"
      ]
    },
    {
      "cell_type": "code",
      "execution_count": null,
      "metadata": {
        "id": "D9SuoyxbqF7G"
      },
      "outputs": [],
      "source": [
        "def make_files(data,shuffle):\n",
        "  if shuffle==1:\n",
        "    data=data.sample(frac=1, random_state=42).reset_index()\n",
        "  else:  \n",
        "    data=data\n",
        "  \n",
        "  cut1=int(.6*data.shape[0])\n",
        "  cut2=int(.8*data.shape[0])\n",
        "\n",
        "  data_train=data.iloc[0:cut1,:].reset_index()\n",
        "  data_val=data.iloc[cut1:cut2,:].reset_index()\n",
        "  data_test=data.iloc[cut2:data.shape[0],:].reset_index()\n",
        "\n",
        "  return data_train, data_val, data_test"
      ]
    },
    {
      "cell_type": "code",
      "execution_count": null,
      "metadata": {
        "colab": {
          "base_uri": "https://localhost:8080/"
        },
        "id": "0tOXmLVXh5DY",
        "outputId": "fc49a20c-744e-4292-fea9-10cdfcd93a09"
      },
      "outputs": [
        {
          "output_type": "stream",
          "name": "stdout",
          "text": [
            "(101, 17) (34, 17) (34, 17)\n"
          ]
        }
      ],
      "source": [
        "#Files for USFED\n",
        "df_train_us, df_val_us, df_test_us = make_files(df[df.bank=='usfed'], shuffle=1)\n",
        "print(df_train_us.shape, df_val_us.shape, df_test_us.shape)"
      ]
    },
    {
      "cell_type": "code",
      "execution_count": null,
      "metadata": {
        "colab": {
          "base_uri": "https://localhost:8080/"
        },
        "id": "Nbks1rWiiYTh",
        "outputId": "f648a2ef-fde2-4ed9-b2cb-5d4d44de57d5"
      },
      "outputs": [
        {
          "output_type": "stream",
          "name": "stdout",
          "text": [
            "(159, 17) (53, 17) (53, 17)\n"
          ]
        }
      ],
      "source": [
        "#Files for ECB\n",
        "df_train_ecb, df_val_ecb, df_test_ecb = make_files(df[df.bank=='ecb'], shuffle=1)\n",
        "print(df_train_ecb.shape, df_val_ecb.shape, df_test_ecb.shape)"
      ]
    },
    {
      "cell_type": "markdown",
      "metadata": {
        "id": "p-ZC7xHqSV2W"
      },
      "source": [
        "## Scaling of Continuous Variables\n",
        "* All of the continuous variables are on the same scale already (percentages) and scaling is not essential.  **Use of the scaling function below is optional**.\n",
        "\n",
        "* Because all of the features are non-Gaussian, we use min-max scaling to standardize the variables.  The scaled features will range from 0 to 1 in value.\n",
        "\n",
        "* Note that the central bank communications are tailored for their own jurisdictions and economic conditions.  Each bank is scaled separately.\n",
        "\n",
        "* The training, tesing and validation data sets are scaled separately to prevent leakage of information across datasets."
      ]
    },
    {
      "cell_type": "code",
      "execution_count": null,
      "metadata": {
        "id": "gpxJtl5Nj0pW"
      },
      "outputs": [],
      "source": [
        "def scale_vars(data):\n",
        "\n",
        "    # Target Variable\n",
        "    data['y_std'] = minmax_scale(data.rate_next)\n",
        " \n",
        "    # Current Policy Rate\n",
        "    data['y_std_curr'] = minmax_scale(data.rate_curr)\n",
        " \n",
        "    # Unemployment Rate\n",
        "    data['urate_std'] = minmax_scale(data.urate)\n",
        "\n",
        "    # Inflation Rate\n",
        "    data['inf_std'] = minmax_scale(data.inf)\n",
        "\n",
        "    # Market Interest Rate\n",
        "    data['effr_std'] = minmax_scale(data.eff_rate)\n",
        "    \n",
        "    #Confirm standardization\n",
        "    for var in ['y_std','y_std_curr','urate_std','inf_std','effr_std']:\n",
        "      print(var, \": \",min(data[var]), max(data[var]))\n",
        "\n",
        "    newdata=data[['bank','statement','y_std','y_std_curr','urate_std','inf_std','effr_std',\n",
        "                'rate_next','urate','inf','eff_rate','rate_change']] \n",
        "                # rate change is not scaled because it is a categorial variable \n",
        "                #but is part of the new data\n",
        "    return newdata"
      ]
    },
    {
      "cell_type": "markdown",
      "metadata": {
        "id": "RtjN8c-4DuZs"
      },
      "source": [
        "## Adjust \"rate change\" classification output variable\n",
        "\n",
        "In addition to predicting the interest rate we also try to predict various qualitative outcomes, such as change/no change or up/other.  The function rate_change_var allows us to choose the classification problem (e.g., up or not up, change or no change)."
      ]
    },
    {
      "cell_type": "code",
      "execution_count": null,
      "metadata": {
        "id": "JETPSSLOrU1V"
      },
      "outputs": [],
      "source": [
        "def rate_change_var(data):\n",
        "  data['rate_change']=np.where(data['rate_change'] == -1, \n",
        "                               0, data['rate_change'])\n",
        "  return data"
      ]
    },
    {
      "cell_type": "code",
      "execution_count": null,
      "metadata": {
        "id": "SE4yn2PjND1R",
        "scrolled": true
      },
      "outputs": [],
      "source": [
        "df_test_us = rate_change_var(df_test_us)\n",
        "df_train_us = rate_change_var(df_train_us)\n",
        "df_val_us=rate_change_var(df_val_us)\n"
      ]
    },
    {
      "cell_type": "code",
      "execution_count": null,
      "metadata": {
        "id": "iYldhaW8s2zQ"
      },
      "outputs": [],
      "source": [
        "df_test_ecb = rate_change_var(df_test_ecb)\n",
        "df_train_ecb = rate_change_var(df_train_ecb)\n",
        "df_val_ecb=rate_change_var(df_val_ecb)"
      ]
    },
    {
      "cell_type": "code",
      "execution_count": null,
      "metadata": {
        "colab": {
          "base_uri": "https://localhost:8080/"
        },
        "id": "54wb54pOsOgF",
        "outputId": "7b5297aa-baed-4475-9039-d7cfe77d3f55"
      },
      "outputs": [
        {
          "output_type": "execute_result",
          "data": {
            "text/plain": [
              "0    79\n",
              "1    22\n",
              "Name: rate_change, dtype: int64"
            ]
          },
          "metadata": {},
          "execution_count": 14
        }
      ],
      "source": [
        "#Checks\n",
        "df_train_us.rate_change.value_counts()"
      ]
    },
    {
      "cell_type": "markdown",
      "metadata": {
        "id": "FiWhheeis_48"
      },
      "source": [
        "## Create X and Y arrays for quantitative variables\n",
        "\n",
        "Function allows augmentation of X values via noise and to determine if scaling is used.  Note that augmentation is only 'allowed' on the unscaled data which by designed ranges from 0 to 1.\n",
        "\n",
        "The function can either 'rate_next' or 'rate_curr' as for y.  "
      ]
    },
    {
      "cell_type": "code",
      "execution_count": null,
      "metadata": {
        "id": "VX5JFfsHEVq6"
      },
      "outputs": [],
      "source": [
        "def make_matrixes(df,augment,scaled=0): \n",
        "\n",
        "  if scaled==1 and augment !=\"augment\":\n",
        "    xcols=['urate_std','inf_std','eff_rate_std']\n",
        "    y='rate_next'\n",
        "    #y='rate_curr'\n",
        "    X_matrix=df[xcols].values #x_col_list is a subset of columns in a pandas df\n",
        "    y_col=df[y].values\n",
        "\n",
        "  elif scaled==0:\n",
        "    xcols=['urate','inf','eff_rate']\n",
        "    y='rate_next'\n",
        "    #y='rate_curr'\n",
        "    y_col=df[y].values \n",
        "    \n",
        "    #Note: augmentation with noise is only used for training data.\n",
        "    if augment=='augment':\n",
        "      X_matrix = df[xcols].values + tf.random.normal((3,), 0, 0.005, seed=42)\n",
        "  \n",
        "    else :\n",
        "      X_matrix = df[xcols].values\n",
        "    \n",
        "  print(X_matrix.shape, y_col.shape) #check\n",
        "\n",
        "  return X_matrix, y_col"
      ]
    },
    {
      "cell_type": "code",
      "execution_count": null,
      "metadata": {
        "colab": {
          "base_uri": "https://localhost:8080/"
        },
        "id": "M3_F5XL8laSy",
        "outputId": "662999f4-6e64-4770-ebdd-03e257c6a80d"
      },
      "outputs": [
        {
          "output_type": "stream",
          "name": "stdout",
          "text": [
            "(101, 3) (101,)\n",
            "(34, 3) (34,)\n",
            "(34, 3) (34,)\n"
          ]
        }
      ],
      "source": [
        "# Retrieve matrixes for US\n",
        "# Note augmentation can only be used for training data, not validation or test\n",
        "X_train_us, y_train_us = make_matrixes(df_train_us,\"augment\",scaled=0)\n",
        "\n",
        "X_val_us, y_val_us = make_matrixes(df_val_us,\"no aug\",scaled=0)\n",
        "\n",
        "X_test_us, y_test_us = make_matrixes(df_test_us,\"no aug\",scaled=0)"
      ]
    },
    {
      "cell_type": "code",
      "execution_count": null,
      "metadata": {
        "colab": {
          "base_uri": "https://localhost:8080/"
        },
        "id": "FTiP-Zp1-swN",
        "outputId": "a992241a-0e3d-4793-f4e5-fdf553ded8ac"
      },
      "outputs": [
        {
          "output_type": "execute_result",
          "data": {
            "text/plain": [
              "<tf.Tensor: shape=(5, 3), dtype=float32, numpy=\n",
              "array([[3.8985963 , 2.0840611 , 2.3966184 ],\n",
              "       [4.698596  , 2.1425312 , 4.466618  ],\n",
              "       [4.7985964 , 1.5805312 , 0.29661837],\n",
              "       [4.8985963 , 2.2796612 , 4.0866184 ],\n",
              "       [3.6985962 , 1.7576312 , 2.3966184 ]], dtype=float32)>"
            ]
          },
          "metadata": {},
          "execution_count": 10
        }
      ],
      "source": [
        "X_train_us[:5,]"
      ]
    },
    {
      "cell_type": "code",
      "execution_count": null,
      "metadata": {
        "colab": {
          "base_uri": "https://localhost:8080/"
        },
        "id": "9nTKbuRKtNN2",
        "outputId": "48bdac5d-66a4-4117-c149-262186899323"
      },
      "outputs": [
        {
          "output_type": "stream",
          "name": "stdout",
          "text": [
            "(159, 3) (159,)\n",
            "(53, 3) (53,)\n",
            "(53, 3) (53,)\n"
          ]
        }
      ],
      "source": [
        "# Retrieve matrixes for ECB\n",
        "# Note augmentation can only be used for training data, not validation or test\n",
        "X_train_ecb, y_train_ecb = make_matrixes(df_train_ecb, \"augment\",scaled=0)\n",
        "\n",
        "X_val_ecb, y_val_ecb = make_matrixes(df_val_ecb, \"no aug\", scaled=0)\n",
        "\n",
        "X_test_ecb, y_test_ecb = make_matrixes(df_test_ecb, \"no aug\", scaled=0)"
      ]
    },
    {
      "cell_type": "code",
      "execution_count": null,
      "metadata": {
        "colab": {
          "base_uri": "https://localhost:8080/"
        },
        "id": "ZPIM6dc79JKe",
        "outputId": "9a46a382-d0e6-4034-a53e-0eedc0c5f320"
      },
      "outputs": [
        {
          "output_type": "execute_result",
          "data": {
            "text/plain": [
              "<tf.Tensor: shape=(5, 3), dtype=float32, numpy=\n",
              "array([[11.909206  ,  1.4439659 ,  0.07369605],\n",
              "       [ 7.5092063 ,  1.909966  ,  4.041696  ],\n",
              "       [ 8.909206  ,  1.2390159 ,  2.3196962 ],\n",
              "       [ 8.509207  ,  1.0009559 ,  4.750696  ],\n",
              "       [ 9.009207  ,  0.85627604,  3.9146962 ]], dtype=float32)>"
            ]
          },
          "metadata": {},
          "execution_count": 19
        }
      ],
      "source": [
        "X_train_ecb[0:5,]"
      ]
    },
    {
      "cell_type": "code",
      "source": [
        "#df_test_us['rate_change'] # only 6 positive rate changes in the test set"
      ],
      "metadata": {
        "id": "X4q3TWsRVHdb"
      },
      "execution_count": null,
      "outputs": []
    },
    {
      "cell_type": "markdown",
      "metadata": {
        "id": "fxEFik35sW3l"
      },
      "source": [
        "# **Baseline Model with No Text**\n",
        "\n",
        "Using macroeconomic indicators alone we develop a simple neural network to predict the policy rate that will be chosen at the next meeting.\n",
        "\n",
        "We experimented with several model types including a an RNN with an LSTM Layer, and a model consisting only of a few densely connected layers.  All models had similar performance.  \n",
        "\n",
        "Below, we show the Dense model.  The final model is influenced (but not identical) to the Keras tuner results,"
      ]
    },
    {
      "cell_type": "code",
      "execution_count": null,
      "metadata": {
        "colab": {
          "base_uri": "https://localhost:8080/"
        },
        "id": "aMpTh4fZnTQZ",
        "outputId": "17bb9688-9b33-44a2-c87b-fed37ade9dc0"
      },
      "outputs": [
        {
          "output_type": "stream",
          "name": "stdout",
          "text": [
            "Looking in indexes: https://pypi.org/simple, https://us-python.pkg.dev/colab-wheels/public/simple/\n",
            "Collecting keras-tuner\n",
            "  Downloading keras_tuner-1.1.3-py3-none-any.whl (135 kB)\n",
            "\u001b[K     |████████████████████████████████| 135 kB 5.0 MB/s \n",
            "\u001b[?25hRequirement already satisfied: ipython in /usr/local/lib/python3.8/dist-packages (from keras-tuner) (7.9.0)\n",
            "Requirement already satisfied: numpy in /usr/local/lib/python3.8/dist-packages (from keras-tuner) (1.21.6)\n",
            "Requirement already satisfied: tensorboard in /usr/local/lib/python3.8/dist-packages (from keras-tuner) (2.9.1)\n",
            "Requirement already satisfied: packaging in /usr/local/lib/python3.8/dist-packages (from keras-tuner) (21.3)\n",
            "Requirement already satisfied: requests in /usr/local/lib/python3.8/dist-packages (from keras-tuner) (2.23.0)\n",
            "Collecting kt-legacy\n",
            "  Downloading kt_legacy-1.0.4-py3-none-any.whl (9.6 kB)\n",
            "Requirement already satisfied: prompt-toolkit<2.1.0,>=2.0.0 in /usr/local/lib/python3.8/dist-packages (from ipython->keras-tuner) (2.0.10)\n",
            "Collecting jedi>=0.10\n",
            "  Downloading jedi-0.18.2-py2.py3-none-any.whl (1.6 MB)\n",
            "\u001b[K     |████████████████████████████████| 1.6 MB 43.2 MB/s \n",
            "\u001b[?25hRequirement already satisfied: traitlets>=4.2 in /usr/local/lib/python3.8/dist-packages (from ipython->keras-tuner) (5.1.1)\n",
            "Requirement already satisfied: pexpect in /usr/local/lib/python3.8/dist-packages (from ipython->keras-tuner) (4.8.0)\n",
            "Requirement already satisfied: backcall in /usr/local/lib/python3.8/dist-packages (from ipython->keras-tuner) (0.2.0)\n",
            "Requirement already satisfied: decorator in /usr/local/lib/python3.8/dist-packages (from ipython->keras-tuner) (4.4.2)\n",
            "Requirement already satisfied: setuptools>=18.5 in /usr/local/lib/python3.8/dist-packages (from ipython->keras-tuner) (57.4.0)\n",
            "Requirement already satisfied: pygments in /usr/local/lib/python3.8/dist-packages (from ipython->keras-tuner) (2.6.1)\n",
            "Requirement already satisfied: pickleshare in /usr/local/lib/python3.8/dist-packages (from ipython->keras-tuner) (0.7.5)\n",
            "Requirement already satisfied: parso<0.9.0,>=0.8.0 in /usr/local/lib/python3.8/dist-packages (from jedi>=0.10->ipython->keras-tuner) (0.8.3)\n",
            "Requirement already satisfied: six>=1.9.0 in /usr/local/lib/python3.8/dist-packages (from prompt-toolkit<2.1.0,>=2.0.0->ipython->keras-tuner) (1.15.0)\n",
            "Requirement already satisfied: wcwidth in /usr/local/lib/python3.8/dist-packages (from prompt-toolkit<2.1.0,>=2.0.0->ipython->keras-tuner) (0.2.5)\n",
            "Requirement already satisfied: pyparsing!=3.0.5,>=2.0.2 in /usr/local/lib/python3.8/dist-packages (from packaging->keras-tuner) (3.0.9)\n",
            "Requirement already satisfied: ptyprocess>=0.5 in /usr/local/lib/python3.8/dist-packages (from pexpect->ipython->keras-tuner) (0.7.0)\n",
            "Requirement already satisfied: certifi>=2017.4.17 in /usr/local/lib/python3.8/dist-packages (from requests->keras-tuner) (2022.9.24)\n",
            "Requirement already satisfied: chardet<4,>=3.0.2 in /usr/local/lib/python3.8/dist-packages (from requests->keras-tuner) (3.0.4)\n",
            "Requirement already satisfied: idna<3,>=2.5 in /usr/local/lib/python3.8/dist-packages (from requests->keras-tuner) (2.10)\n",
            "Requirement already satisfied: urllib3!=1.25.0,!=1.25.1,<1.26,>=1.21.1 in /usr/local/lib/python3.8/dist-packages (from requests->keras-tuner) (1.24.3)\n",
            "Requirement already satisfied: google-auth<3,>=1.6.3 in /usr/local/lib/python3.8/dist-packages (from tensorboard->keras-tuner) (2.14.1)\n",
            "Requirement already satisfied: werkzeug>=1.0.1 in /usr/local/lib/python3.8/dist-packages (from tensorboard->keras-tuner) (1.0.1)\n",
            "Requirement already satisfied: markdown>=2.6.8 in /usr/local/lib/python3.8/dist-packages (from tensorboard->keras-tuner) (3.4.1)\n",
            "Requirement already satisfied: tensorboard-plugin-wit>=1.6.0 in /usr/local/lib/python3.8/dist-packages (from tensorboard->keras-tuner) (1.8.1)\n",
            "Requirement already satisfied: google-auth-oauthlib<0.5,>=0.4.1 in /usr/local/lib/python3.8/dist-packages (from tensorboard->keras-tuner) (0.4.6)\n",
            "Requirement already satisfied: absl-py>=0.4 in /usr/local/lib/python3.8/dist-packages (from tensorboard->keras-tuner) (1.3.0)\n",
            "Requirement already satisfied: tensorboard-data-server<0.7.0,>=0.6.0 in /usr/local/lib/python3.8/dist-packages (from tensorboard->keras-tuner) (0.6.1)\n",
            "Requirement already satisfied: protobuf<3.20,>=3.9.2 in /usr/local/lib/python3.8/dist-packages (from tensorboard->keras-tuner) (3.19.6)\n",
            "Requirement already satisfied: grpcio>=1.24.3 in /usr/local/lib/python3.8/dist-packages (from tensorboard->keras-tuner) (1.50.0)\n",
            "Requirement already satisfied: wheel>=0.26 in /usr/local/lib/python3.8/dist-packages (from tensorboard->keras-tuner) (0.38.4)\n",
            "Requirement already satisfied: rsa<5,>=3.1.4 in /usr/local/lib/python3.8/dist-packages (from google-auth<3,>=1.6.3->tensorboard->keras-tuner) (4.9)\n",
            "Requirement already satisfied: pyasn1-modules>=0.2.1 in /usr/local/lib/python3.8/dist-packages (from google-auth<3,>=1.6.3->tensorboard->keras-tuner) (0.2.8)\n",
            "Requirement already satisfied: cachetools<6.0,>=2.0.0 in /usr/local/lib/python3.8/dist-packages (from google-auth<3,>=1.6.3->tensorboard->keras-tuner) (5.2.0)\n",
            "Requirement already satisfied: requests-oauthlib>=0.7.0 in /usr/local/lib/python3.8/dist-packages (from google-auth-oauthlib<0.5,>=0.4.1->tensorboard->keras-tuner) (1.3.1)\n",
            "Requirement already satisfied: importlib-metadata>=4.4 in /usr/local/lib/python3.8/dist-packages (from markdown>=2.6.8->tensorboard->keras-tuner) (4.13.0)\n",
            "Requirement already satisfied: zipp>=0.5 in /usr/local/lib/python3.8/dist-packages (from importlib-metadata>=4.4->markdown>=2.6.8->tensorboard->keras-tuner) (3.10.0)\n",
            "Requirement already satisfied: pyasn1<0.5.0,>=0.4.6 in /usr/local/lib/python3.8/dist-packages (from pyasn1-modules>=0.2.1->google-auth<3,>=1.6.3->tensorboard->keras-tuner) (0.4.8)\n",
            "Requirement already satisfied: oauthlib>=3.0.0 in /usr/local/lib/python3.8/dist-packages (from requests-oauthlib>=0.7.0->google-auth-oauthlib<0.5,>=0.4.1->tensorboard->keras-tuner) (3.2.2)\n",
            "Installing collected packages: jedi, kt-legacy, keras-tuner\n",
            "Successfully installed jedi-0.18.2 keras-tuner-1.1.3 kt-legacy-1.0.4\n"
          ]
        }
      ],
      "source": [
        "!pip install keras-tuner"
      ]
    },
    {
      "cell_type": "code",
      "execution_count": null,
      "metadata": {
        "id": "1KrvvViIntfi"
      },
      "outputs": [],
      "source": [
        "import keras_tuner"
      ]
    },
    {
      "cell_type": "code",
      "execution_count": null,
      "metadata": {
        "id": "DwvCskK6nwpS"
      },
      "outputs": [],
      "source": [
        "#Tuning function with 2 hidden layers\n",
        "tf.keras.backend.clear_session() \n",
        "def tune(hp): \n",
        "  model = tf.keras.models.Sequential() \n",
        "  model.add(tf.keras.layers.InputLayer(input_shape=(3,))),\n",
        "\n",
        "  activations = hp.Choice(\"activation\", values = ['relu', 'tanh'])\n",
        "  \n",
        "  #tune layer 1\n",
        "  hp_units1 = hp.Int('units1', min_value=16, max_value=512, step=16) \n",
        "  model.add(tf.keras.layers.Dense(units=hp_units1, activation=activations))\n",
        "  \n",
        "  #tune layer 2\n",
        "  hp_units2 = hp.Int('units2', min_value=16, max_value=512, step=16) \n",
        "  model.add(tf.keras.layers.Dense(units=hp_units2, activation=activations))\n",
        "\n",
        "  if hp.Boolean(\"dropout\"): \n",
        "    model.add(tf.keras.layers.Dropout(rate=0.30))\n",
        "\n",
        "  model.add(tf.keras.layers.Dense(1))\n",
        "\n",
        "  #Tune the learning rate\n",
        "  hp_learning_rate = hp.Choice('learning_rate', values=[1e-2,1e-3]) \n",
        "\n",
        "  \n",
        "  model.compile(optimizer=tf.keras.optimizers.Adam(learning_rate=hp_learning_rate, \n",
        "                                                   ), \n",
        "                loss='mse',metrics=[tf.keras.metrics.RootMeanSquaredError()])\n",
        "\n",
        "  return model"
      ]
    },
    {
      "cell_type": "code",
      "source": [
        "tuner.search_space_summary()"
      ],
      "metadata": {
        "colab": {
          "base_uri": "https://localhost:8080/"
        },
        "id": "-pBpXuUbcTgM",
        "outputId": "8b16ceb3-25d4-47fa-bed2-87ffbb40e339"
      },
      "execution_count": null,
      "outputs": [
        {
          "output_type": "stream",
          "name": "stdout",
          "text": [
            "Search space summary\n",
            "Default search space size: 5\n",
            "activation (Choice)\n",
            "{'default': 'relu', 'conditions': [], 'values': ['relu', 'tanh'], 'ordered': False}\n",
            "units1 (Int)\n",
            "{'default': None, 'conditions': [], 'min_value': 16, 'max_value': 512, 'step': 16, 'sampling': None}\n",
            "units2 (Int)\n",
            "{'default': None, 'conditions': [], 'min_value': 16, 'max_value': 512, 'step': 16, 'sampling': None}\n",
            "dropout (Boolean)\n",
            "{'default': False, 'conditions': []}\n",
            "learning_rate (Choice)\n",
            "{'default': 0.01, 'conditions': [], 'values': [0.01, 0.001], 'ordered': True}\n"
          ]
        }
      ]
    },
    {
      "cell_type": "markdown",
      "metadata": {
        "id": "QR-CKC0ozGFD"
      },
      "source": [
        "## ECB Macro Model\n"
      ]
    },
    {
      "cell_type": "code",
      "execution_count": null,
      "metadata": {
        "id": "QMx8bvOE0gKu"
      },
      "outputs": [],
      "source": [
        "tf.keras.backend.clear_session()\n",
        "ecb_tuner = keras_tuner.RandomSearch(tune,\n",
        "                     objective='val_loss',\n",
        "                     max_trials=30,\n",
        "                     seed=42)"
      ]
    },
    {
      "cell_type": "code",
      "execution_count": null,
      "metadata": {
        "id": "KbQr6-ZE0gOX"
      },
      "outputs": [],
      "source": [
        "np.random.seed(42)\n",
        "tf.random.set_seed(42)\n",
        "\n",
        "ecb_tuner.search(X_train_ecb, y_train_ecb, epochs=300, \n",
        "                 validation_data=(X_val_ecb, y_val_ecb))"
      ]
    },
    {
      "cell_type": "code",
      "execution_count": null,
      "metadata": {
        "id": "d0b0MOKc0gSy",
        "colab": {
          "base_uri": "https://localhost:8080/"
        },
        "outputId": "a9900cdc-7e66-4767-89d8-213738bbed6d"
      },
      "outputs": [
        {
          "output_type": "stream",
          "name": "stdout",
          "text": [
            "Results summary\n",
            "Results in ./untitled_project\n",
            "Showing 10 best trials\n",
            "<keras_tuner.engine.objective.Objective object at 0x7f2c0fecc490>\n",
            "Trial summary\n",
            "Hyperparameters:\n",
            "activation: tanh\n",
            "units1: 288\n",
            "units2: 48\n",
            "dropout: False\n",
            "learning_rate: 0.01\n",
            "Score: 0.028035221621394157\n",
            "Trial summary\n",
            "Hyperparameters:\n",
            "activation: tanh\n",
            "units1: 464\n",
            "units2: 240\n",
            "dropout: False\n",
            "learning_rate: 0.01\n",
            "Score: 0.028588950634002686\n",
            "Trial summary\n",
            "Hyperparameters:\n",
            "activation: tanh\n",
            "units1: 384\n",
            "units2: 320\n",
            "dropout: False\n",
            "learning_rate: 0.01\n",
            "Score: 0.029413394629955292\n",
            "Trial summary\n",
            "Hyperparameters:\n",
            "activation: relu\n",
            "units1: 368\n",
            "units2: 480\n",
            "dropout: True\n",
            "learning_rate: 0.01\n",
            "Score: 0.029434697702527046\n",
            "Trial summary\n",
            "Hyperparameters:\n",
            "activation: relu\n",
            "units1: 48\n",
            "units2: 496\n",
            "dropout: True\n",
            "learning_rate: 0.01\n",
            "Score: 0.03057444840669632\n",
            "Trial summary\n",
            "Hyperparameters:\n",
            "activation: relu\n",
            "units1: 48\n",
            "units2: 192\n",
            "dropout: True\n",
            "learning_rate: 0.01\n",
            "Score: 0.03093603439629078\n",
            "Trial summary\n",
            "Hyperparameters:\n",
            "activation: relu\n",
            "units1: 480\n",
            "units2: 464\n",
            "dropout: True\n",
            "learning_rate: 0.01\n",
            "Score: 0.031075838953256607\n",
            "Trial summary\n",
            "Hyperparameters:\n",
            "activation: relu\n",
            "units1: 208\n",
            "units2: 64\n",
            "dropout: True\n",
            "learning_rate: 0.01\n",
            "Score: 0.03172409161925316\n",
            "Trial summary\n",
            "Hyperparameters:\n",
            "activation: relu\n",
            "units1: 288\n",
            "units2: 64\n",
            "dropout: True\n",
            "learning_rate: 0.01\n",
            "Score: 0.03177744522690773\n",
            "Trial summary\n",
            "Hyperparameters:\n",
            "activation: relu\n",
            "units1: 80\n",
            "units2: 160\n",
            "dropout: False\n",
            "learning_rate: 0.01\n",
            "Score: 0.03188576549291611\n"
          ]
        }
      ],
      "source": [
        "#The following code block requires\n",
        "ecb_tuner.results_summary()"
      ]
    },
    {
      "cell_type": "code",
      "execution_count": null,
      "metadata": {
        "id": "UCDj2zXn0gYc",
        "colab": {
          "base_uri": "https://localhost:8080/"
        },
        "outputId": "5e2829d0-2800-4e2e-de05-ab6b6d77a142"
      },
      "outputs": [
        {
          "output_type": "stream",
          "name": "stdout",
          "text": [
            "Model: \"sequential_2\"\n",
            "_________________________________________________________________\n",
            " Layer (type)                Output Shape              Param #   \n",
            "=================================================================\n",
            " dense_6 (Dense)             (None, 288)               1152      \n",
            "                                                                 \n",
            " dense_7 (Dense)             (None, 48)                13872     \n",
            "                                                                 \n",
            " dense_8 (Dense)             (None, 1)                 49        \n",
            "                                                                 \n",
            "=================================================================\n",
            "Total params: 15,073\n",
            "Trainable params: 15,073\n",
            "Non-trainable params: 0\n",
            "_________________________________________________________________\n"
          ]
        }
      ],
      "source": [
        "ecb_best_hps_tuned=ecb_tuner.get_best_hyperparameters()[0]\n",
        "ecb_hypermodel = ecb_tuner.hypermodel.build(ecb_best_hps_tuned)\n",
        "ecb_hypermodel.summary()"
      ]
    },
    {
      "cell_type": "code",
      "execution_count": null,
      "metadata": {
        "id": "u0jyiLdg3UR1"
      },
      "outputs": [],
      "source": [
        "# Train the tuned model\n",
        "macro_ecb_history=ecb_hypermodel.fit(X_train_ecb, y_train_ecb, epochs=300, \n",
        "                       validation_data=(X_val_ecb, y_val_ecb), verbose=False)"
      ]
    },
    {
      "cell_type": "code",
      "execution_count": null,
      "metadata": {
        "id": "I1ADRifD3UVK",
        "colab": {
          "base_uri": "https://localhost:8080/",
          "height": 287
        },
        "outputId": "80af775a-e1fc-4f72-dfc3-3c50ac011b80"
      },
      "outputs": [
        {
          "output_type": "execute_result",
          "data": {
            "text/plain": [
              "(0.0, 0.4)"
            ]
          },
          "metadata": {},
          "execution_count": 387
        },
        {
          "output_type": "display_data",
          "data": {
            "text/plain": [
              "<Figure size 432x288 with 1 Axes>"
            ],
            "image/png": "[encoded data removed]"
          },
          "metadata": {
            "needs_background": "light"
          }
        }
      ],
      "source": [
        "#plot result\n",
        "plt.plot(macro_ecb_history.history['root_mean_squared_error'])\n",
        "plt.plot(macro_ecb_history.history['val_root_mean_squared_error'])\n",
        "plt.ylim(0,.4)"
      ]
    },
    {
      "cell_type": "code",
      "execution_count": null,
      "metadata": {
        "colab": {
          "base_uri": "https://localhost:8080/"
        },
        "id": "OYTBGBTU5W4C",
        "outputId": "29f35c83-e466-4a3b-b24d-b812e121f98d"
      },
      "outputs": [
        {
          "output_type": "stream",
          "name": "stdout",
          "text": [
            "2/2 [==============================] - 0s 5ms/step - loss: 0.0123 - root_mean_squared_error: 0.1109\n"
          ]
        }
      ],
      "source": [
        "#evaluate on test data\n",
        "macro_ecb_eval=ecb_hypermodel.evaluate(X_test_ecb, y_test_ecb)"
      ]
    },
    {
      "cell_type": "code",
      "source": [
        "#The following code saves the model structure, history, and test results \n",
        "#to a the colab working directory. \n",
        "\n",
        "model_structure = ecb_hypermodel.to_json()\n",
        "\n",
        "model_storage = [model_structure,macro_ecb_history.history['root_mean_squared_error'], \n",
        "                 macro_ecb_history.history['val_root_mean_squared_error'],\n",
        "                 macro_ecb_history.params, macro_ecb_eval]\n",
        "\n",
        "#Write to local colab drive\n",
        "\n",
        "with open(\"/content/baseline_ecb_model_tuned\", \"w\") as fp:\n",
        "  json.dump(model_storage, fp)"
      ],
      "metadata": {
        "id": "xMivNUrBZAEq"
      },
      "execution_count": null,
      "outputs": []
    },
    {
      "cell_type": "markdown",
      "metadata": {
        "id": "YYRg4SO2nBX6"
      },
      "source": [
        "## Tune US Model\n",
        "\n",
        "### **Must disconnect and delete run time to run additional Keras Tuner Model.**"
      ]
    },
    {
      "cell_type": "code",
      "execution_count": null,
      "metadata": {
        "id": "DHydxh0dnxJt"
      },
      "outputs": [],
      "source": [
        "tuner2 = keras_tuner.RandomSearch(tune,\n",
        "                     objective='val_loss',\n",
        "                     max_trials=50,\n",
        "                     seed=42)"
      ]
    },
    {
      "cell_type": "code",
      "execution_count": null,
      "metadata": {
        "id": "4xtCuv_0nxuI"
      },
      "outputs": [],
      "source": [
        "np.random.seed(42)\n",
        "tf.random.set_seed(42)\n",
        "\n",
        "tuner2.search(X_train_us, y_train_us, epochs=300, validation_data=(X_val_us, y_val_us))"
      ]
    },
    {
      "cell_type": "code",
      "execution_count": null,
      "metadata": {
        "id": "s8Hid7_pnyB2",
        "colab": {
          "base_uri": "https://localhost:8080/"
        },
        "outputId": "8b459f29-ca00-4fd0-cc56-3445e2e09eb8"
      },
      "outputs": [
        {
          "output_type": "stream",
          "name": "stdout",
          "text": [
            "Results summary\n",
            "Results in ./untitled_project\n",
            "Showing 10 best trials\n",
            "<keras_tuner.engine.objective.Objective object at 0x7f2c0e8878e0>\n",
            "Trial summary\n",
            "Hyperparameters:\n",
            "activation: tanh\n",
            "units1: 288\n",
            "units2: 48\n",
            "dropout: False\n",
            "learning_rate: 0.01\n",
            "Score: 0.028035221621394157\n",
            "Trial summary\n",
            "Hyperparameters:\n",
            "activation: tanh\n",
            "units1: 464\n",
            "units2: 240\n",
            "dropout: False\n",
            "learning_rate: 0.01\n",
            "Score: 0.028588950634002686\n",
            "Trial summary\n",
            "Hyperparameters:\n",
            "activation: tanh\n",
            "units1: 384\n",
            "units2: 320\n",
            "dropout: False\n",
            "learning_rate: 0.01\n",
            "Score: 0.029413394629955292\n",
            "Trial summary\n",
            "Hyperparameters:\n",
            "activation: relu\n",
            "units1: 368\n",
            "units2: 480\n",
            "dropout: True\n",
            "learning_rate: 0.01\n",
            "Score: 0.029434697702527046\n",
            "Trial summary\n",
            "Hyperparameters:\n",
            "activation: relu\n",
            "units1: 48\n",
            "units2: 496\n",
            "dropout: True\n",
            "learning_rate: 0.01\n",
            "Score: 0.03057444840669632\n",
            "Trial summary\n",
            "Hyperparameters:\n",
            "activation: relu\n",
            "units1: 48\n",
            "units2: 192\n",
            "dropout: True\n",
            "learning_rate: 0.01\n",
            "Score: 0.03093603439629078\n",
            "Trial summary\n",
            "Hyperparameters:\n",
            "activation: relu\n",
            "units1: 480\n",
            "units2: 464\n",
            "dropout: True\n",
            "learning_rate: 0.01\n",
            "Score: 0.031075838953256607\n",
            "Trial summary\n",
            "Hyperparameters:\n",
            "activation: relu\n",
            "units1: 208\n",
            "units2: 64\n",
            "dropout: True\n",
            "learning_rate: 0.01\n",
            "Score: 0.03172409161925316\n",
            "Trial summary\n",
            "Hyperparameters:\n",
            "activation: relu\n",
            "units1: 288\n",
            "units2: 64\n",
            "dropout: True\n",
            "learning_rate: 0.01\n",
            "Score: 0.03177744522690773\n",
            "Trial summary\n",
            "Hyperparameters:\n",
            "activation: relu\n",
            "units1: 80\n",
            "units2: 160\n",
            "dropout: False\n",
            "learning_rate: 0.01\n",
            "Score: 0.03188576549291611\n"
          ]
        }
      ],
      "source": [
        "tuner2.results_summary()"
      ]
    },
    {
      "cell_type": "code",
      "source": [
        "us_best_hps_tuned=tuner2.get_best_hyperparameters()[0]\n",
        "us_hypermodel = tuner2.hypermodel.build(us_best_hps_tuned)\n",
        "us_hypermodel.summary()"
      ],
      "metadata": {
        "colab": {
          "base_uri": "https://localhost:8080/"
        },
        "id": "twtxuZBVeNNu",
        "outputId": "87c4f138-10c9-409b-9d9a-eb66e68515f2"
      },
      "execution_count": null,
      "outputs": [
        {
          "output_type": "stream",
          "name": "stdout",
          "text": [
            "Model: \"sequential_1\"\n",
            "_________________________________________________________________\n",
            " Layer (type)                Output Shape              Param #   \n",
            "=================================================================\n",
            " dense_3 (Dense)             (None, 288)               1152      \n",
            "                                                                 \n",
            " dense_4 (Dense)             (None, 48)                13872     \n",
            "                                                                 \n",
            " dense_5 (Dense)             (None, 1)                 49        \n",
            "                                                                 \n",
            "=================================================================\n",
            "Total params: 15,073\n",
            "Trainable params: 15,073\n",
            "Non-trainable params: 0\n",
            "_________________________________________________________________\n"
          ]
        }
      ]
    },
    {
      "cell_type": "code",
      "source": [
        "# Train the tuned model\n",
        "macro_us_history=us_hypermodel.fit(X_train_us, y_train_us, epochs=2500, \n",
        "                       validation_data=(X_val_us, y_val_us), verbose=False)"
      ],
      "metadata": {
        "id": "cZzd9TV2ejaC"
      },
      "execution_count": null,
      "outputs": []
    },
    {
      "cell_type": "code",
      "source": [
        "#plot result\n",
        "rmse = macro_us_history.history['root_mean_squared_error']\n",
        "val_rmse = macro_us_history.history['val_root_mean_squared_error']\n",
        "epochs=range(len(rmse))\n",
        "plt.plot(epochs, rmse, 'r')\n",
        "plt.plot(epochs, val_rmse, 'b')\n",
        "plt.title('Training and validation RMSE')\n",
        "plt.ylim((0,1))\n",
        "plt.figure()"
      ],
      "metadata": {
        "colab": {
          "base_uri": "https://localhost:8080/",
          "height": 317
        },
        "id": "EfGcX7u3e4ot",
        "outputId": "c18b7509-646e-46e8-cd00-4c973b63e457"
      },
      "execution_count": null,
      "outputs": [
        {
          "output_type": "execute_result",
          "data": {
            "text/plain": [
              "<Figure size 432x288 with 0 Axes>"
            ]
          },
          "metadata": {},
          "execution_count": 530
        },
        {
          "output_type": "display_data",
          "data": {
            "text/plain": [
              "<Figure size 432x288 with 1 Axes>"
            ],
            "image/png": "[encoded data removed]"
          },
          "metadata": {
            "needs_background": "light"
          }
        },
        {
          "output_type": "display_data",
          "data": {
            "text/plain": [
              "<Figure size 432x288 with 0 Axes>"
            ]
          },
          "metadata": {}
        }
      ]
    },
    {
      "cell_type": "code",
      "source": [
        "macro_us_eval=us_hypermodel.evaluate(X_test_us, y_test_us)"
      ],
      "metadata": {
        "colab": {
          "base_uri": "https://localhost:8080/"
        },
        "id": "ENyn0_O3fUv_",
        "outputId": "f830914b-9715-4a2e-f115-abf37d0df042"
      },
      "execution_count": null,
      "outputs": [
        {
          "output_type": "stream",
          "name": "stdout",
          "text": [
            "2/2 [==============================] - 0s 5ms/step - loss: 0.0713 - root_mean_squared_error: 0.2670\n"
          ]
        }
      ]
    },
    {
      "cell_type": "code",
      "source": [
        "\n",
        "model_structure = us_hypermodel.to_json()\n",
        "\n",
        "model_storage = [model_structure,macro_us_history.history['root_mean_squared_error'], \n",
        "                 macro_us_history.history['val_root_mean_squared_error'],\n",
        "                 macro_us_history.params, macro_us_eval]\n",
        "\n",
        "#Write to local colab drive\n",
        "\n",
        "with open(\"/content/baseline_us_from_tuner3\", \"w\") as fp:\n",
        "  json.dump(model_storage, fp)\n"
      ],
      "metadata": {
        "id": "MxbzcBstptve"
      },
      "execution_count": null,
      "outputs": []
    },
    {
      "cell_type": "markdown",
      "metadata": {
        "id": "2Bapmi-PEJ7b"
      },
      "source": [
        "## Final US Model\n",
        "\n",
        "For the US model, we found that the best results in practice was informed by the top 10 tuner results, but not identical.  Outperforming the best performing tuned model was one with 2 dense layers with 480 and 460 nodes; no drop out layer and a slower learning rate (.001 vs. .01)."
      ]
    },
    {
      "cell_type": "code",
      "execution_count": null,
      "metadata": {
        "id": "uxGiZkShEIfh"
      },
      "outputs": [],
      "source": [
        "tf.keras.backend.clear_session() \n",
        "baseline_us = tf.keras.Sequential([\n",
        "    tf.keras.layers.InputLayer(input_shape=(3)),  #3 variables \n",
        "    tf.keras.layers.Dense(480, activation='relu'), \n",
        "    tf.keras.layers.Dense(464, activation='relu'), \n",
        "    tf.keras.layers.Dense(1)\n",
        "])"
      ]
    },
    {
      "cell_type": "code",
      "execution_count": null,
      "metadata": {
        "id": "PLNUEQoSEIqA"
      },
      "outputs": [],
      "source": [
        "#Compile\n",
        "tf.keras.backend.clear_session()\n",
        "np.random.seed(42)\n",
        "tf.random.set_seed(42)\n",
        "baseline_us.compile(loss='mse', \n",
        "              optimizer=tf.keras.optimizers.Adam(learning_rate=0.001),\n",
        "              metrics=[tf.keras.metrics.RootMeanSquaredError()])"
      ]
    },
    {
      "cell_type": "code",
      "execution_count": null,
      "metadata": {
        "colab": {
          "base_uri": "https://localhost:8080/"
        },
        "id": "i71YE4KkEIs_",
        "outputId": "ebe0c785-d0aa-433e-b952-4dfedb4083c2"
      },
      "outputs": [
        {
          "output_type": "stream",
          "name": "stdout",
          "text": [
            "Model: \"sequential\"\n",
            "_________________________________________________________________\n",
            " Layer (type)                Output Shape              Param #   \n",
            "=================================================================\n",
            " dense (Dense)               (None, 480)               1920      \n",
            "                                                                 \n",
            " dense_1 (Dense)             (None, 464)               223184    \n",
            "                                                                 \n",
            " dense_2 (Dense)             (None, 1)                 465       \n",
            "                                                                 \n",
            "=================================================================\n",
            "Total params: 225,569\n",
            "Trainable params: 225,569\n",
            "Non-trainable params: 0\n",
            "_________________________________________________________________\n"
          ]
        }
      ],
      "source": [
        "baseline_us.summary()"
      ]
    },
    {
      "cell_type": "code",
      "execution_count": null,
      "metadata": {
        "id": "F-K4_WVeEIwT",
        "outputId": "6a2b0bc0-90fa-4d58-dafa-19b5a95b7f07",
        "colab": {
          "base_uri": "https://localhost:8080/"
        }
      },
      "outputs": [
        {
          "output_type": "stream",
          "name": "stdout",
          "text": [
            "Epoch 146: early stopping\n"
          ]
        }
      ],
      "source": [
        "num_epochs = 2500\n",
        "early_stop = EarlyStopping(monitor='val_root_mean_squared_error', \n",
        "                           mode='min', patience=50, verbose=True)\n",
        "history = baseline_us.fit(X_train_us, y_train_us, \n",
        "                    epochs=num_epochs, \n",
        "                    verbose=False, \n",
        "                    callbacks=[early_stop],\n",
        "                    validation_data=(X_val_us, y_val_us))"
      ]
    },
    {
      "cell_type": "code",
      "execution_count": null,
      "metadata": {
        "colab": {
          "base_uri": "https://localhost:8080/",
          "height": 312
        },
        "id": "1FJYHRmkEI0q",
        "outputId": "8a585367-48d3-49be-e966-856c4bee09cc"
      },
      "outputs": [
        {
          "output_type": "execute_result",
          "data": {
            "text/plain": [
              "<Figure size 432x288 with 0 Axes>"
            ]
          },
          "metadata": {},
          "execution_count": 25
        },
        {
          "output_type": "display_data",
          "data": {
            "text/plain": [
              "<Figure size 432x288 with 1 Axes>"
            ],
            "image/png": "[encoded data removed]"
          },
          "metadata": {
            "needs_background": "light"
          }
        },
        {
          "output_type": "display_data",
          "data": {
            "text/plain": [
              "<Figure size 432x288 with 0 Axes>"
            ]
          },
          "metadata": {}
        }
      ],
      "source": [
        "#@title\n",
        "rmse = history.history['root_mean_squared_error']\n",
        "val_rmse = history.history['val_root_mean_squared_error']\n",
        "epochs=range(len(rmse))\n",
        "plt.plot(epochs, rmse, 'r')\n",
        "plt.plot(epochs, val_rmse, 'b')\n",
        "plt.title('Training and validation RMSE')\n",
        "plt.ylim((0,.8))\n",
        "plt.figure()"
      ]
    },
    {
      "cell_type": "code",
      "execution_count": null,
      "metadata": {
        "colab": {
          "base_uri": "https://localhost:8080/"
        },
        "id": "pZ9EaVmJEI4D",
        "outputId": "ed1a3a90-e708-4c10-f66c-74692ddbb88e"
      },
      "outputs": [
        {
          "output_type": "stream",
          "name": "stdout",
          "text": [
            "2/2 [==============================] - 0s 6ms/step - loss: 0.0379 - root_mean_squared_error: 0.1948\n"
          ]
        },
        {
          "output_type": "execute_result",
          "data": {
            "text/plain": [
              "[0.03794848546385765, 0.19480371475219727]"
            ]
          },
          "metadata": {},
          "execution_count": 26
        }
      ],
      "source": [
        "#Evaluate on test data\n",
        "baseline_us_eval=baseline_us.evaluate(X_test_us, y_test_us)\n",
        "baseline_us_eval #2500 epochs"
      ]
    },
    {
      "cell_type": "code",
      "execution_count": null,
      "metadata": {
        "id": "QGnO4Vq4DfGf"
      },
      "outputs": [],
      "source": [
        "model_structure = baseline_us.to_json()\n",
        "\n",
        "model_storage1 = [model_structure,history.history['root_mean_squared_error'], \n",
        "                 history.history['val_root_mean_squared_error'],\n",
        "                 history.params, baseline_us_eval]\n",
        "\n",
        "#Write to local colab drive\n",
        "\n",
        "with open(\"/content/baseline_us\", \"w\") as fp:\n",
        "  json.dump(model_storage1, fp)"
      ]
    },
    {
      "cell_type": "markdown",
      "source": [
        "## US Model with faster learning rate (.01)"
      ],
      "metadata": {
        "id": "6bPHVEAwsY39"
      }
    },
    {
      "cell_type": "code",
      "source": [
        "#Compile\n",
        "tf.keras.backend.clear_session()\n",
        "np.random.seed(42)\n",
        "tf.random.set_seed(42)\n",
        "baseline_us.compile(loss='mse', \n",
        "              optimizer=tf.keras.optimizers.Adam(learning_rate=0.01),\n",
        "              metrics=[tf.keras.metrics.RootMeanSquaredError()])"
      ],
      "metadata": {
        "id": "QR_drCHdsI3a"
      },
      "execution_count": null,
      "outputs": []
    },
    {
      "cell_type": "code",
      "source": [
        "num_epochs = 2500\n",
        "#early_stop = EarlyStopping(monitor='val_root_mean_squared_error', \n",
        "                           #mode='min', patience=50, verbose=False)\n",
        "history_fast = baseline_us.fit(X_train_us, y_train_us, \n",
        "                    epochs=num_epochs, verbose=False, \n",
        "                    #callbacks=[early_stop],\n",
        "                    validation_data=(X_val_us, y_val_us))"
      ],
      "metadata": {
        "id": "koC2bzgVsRJx"
      },
      "execution_count": null,
      "outputs": []
    },
    {
      "cell_type": "code",
      "source": [
        "#@title\n",
        "rmse = history_fast.history['root_mean_squared_error']\n",
        "val_rmse = history_fast.history['val_root_mean_squared_error']\n",
        "epochs=range(len(rmse))\n",
        "plt.plot(epochs, rmse, 'r')\n",
        "plt.plot(epochs, val_rmse, 'b')\n",
        "plt.title('Training and validation RMSE')\n",
        "plt.ylim((0,.8))\n",
        "plt.figure()"
      ],
      "metadata": {
        "colab": {
          "base_uri": "https://localhost:8080/",
          "height": 317
        },
        "id": "kDIv1yENsf1j",
        "outputId": "78736f28-77bf-4439-ff71-86f67e51a559"
      },
      "execution_count": null,
      "outputs": [
        {
          "output_type": "execute_result",
          "data": {
            "text/plain": [
              "<Figure size 432x288 with 0 Axes>"
            ]
          },
          "metadata": {},
          "execution_count": 534
        },
        {
          "output_type": "display_data",
          "data": {
            "text/plain": [
              "<Figure size 432x288 with 1 Axes>"
            ],
            "image/png": "[encoded data removed]"
          },
          "metadata": {
            "needs_background": "light"
          }
        },
        {
          "output_type": "display_data",
          "data": {
            "text/plain": [
              "<Figure size 432x288 with 0 Axes>"
            ]
          },
          "metadata": {}
        }
      ]
    },
    {
      "cell_type": "code",
      "source": [
        "#Evaluate on test data\n",
        "baseline_us_eval=baseline_us.evaluate(X_test_us, y_test_us)\n",
        "baseline_us_eval #2500 epochs"
      ],
      "metadata": {
        "colab": {
          "base_uri": "https://localhost:8080/"
        },
        "id": "6ryyin9MsnGQ",
        "outputId": "c9dabc62-6855-4bf5-f8ff-2c24db87c572"
      },
      "execution_count": null,
      "outputs": [
        {
          "output_type": "stream",
          "name": "stdout",
          "text": [
            "2/2 [==============================] - 0s 5ms/step - loss: 0.1030 - root_mean_squared_error: 0.3210\n"
          ]
        },
        {
          "output_type": "execute_result",
          "data": {
            "text/plain": [
              "[0.10303634405136108, 0.32099273800849915]"
            ]
          },
          "metadata": {},
          "execution_count": 535
        }
      ]
    },
    {
      "cell_type": "code",
      "source": [
        "model_structure = baseline_us.to_json()\n",
        "\n",
        "model_storage1 = [model_structure,history_fast.history['root_mean_squared_error'], \n",
        "                 history_fast.history['val_root_mean_squared_error'],\n",
        "                 history_fast.params, baseline_us_eval]\n",
        "\n",
        "#Write to local colab drive\n",
        "\n",
        "with open(\"/content/baseline_us_fast\", \"w\") as fp:\n",
        "  json.dump(model_storage1, fp)"
      ],
      "metadata": {
        "id": "G5wdfk81s5lW"
      },
      "execution_count": null,
      "outputs": []
    },
    {
      "cell_type": "markdown",
      "metadata": {
        "id": "Wsbq308VVHoE"
      },
      "source": [
        "# **Models with text**\n",
        "\n",
        "In this model, our own corpus is the source of the embedding layer.  By using our own embeddings we may be making training less efficient and generalizable than if we used a pre-trained model.  Given the small size of our data set, however, training is still very fast and because of the highly specialized nature of our corpus, self-created embeddings could be more predictive.  "
      ]
    },
    {
      "cell_type": "markdown",
      "metadata": {
        "id": "V5IMWYFUVHoE"
      },
      "source": [
        "The next section of code was demonstrated by Sucky in:\n",
        "https://towardsdatascience.com/a-complete-step-by-step-tutorial-on-sentiment-analysis-in-keras-and-tensorflow-ea420cc8913f. It offers a straightforward way to create embeddings in Keras and incorporate them into a neural network.\n",
        "\n",
        "The first step is to ensure that the data are in the correct format:  the statement should be a string and the target variables, y_std_curr and y_std should be floats."
      ]
    },
    {
      "cell_type": "code",
      "execution_count": null,
      "metadata": {
        "colab": {
          "base_uri": "https://localhost:8080/"
        },
        "outputId": "68839598-6e90-48a2-a40e-86debc812f92",
        "id": "EBkx8CVcVfp6"
      },
      "outputs": [
        {
          "output_type": "stream",
          "name": "stdout",
          "text": [
            "<class 'pandas.core.frame.DataFrame'>\n",
            "RangeIndex: 34 entries, 0 to 33\n",
            "Data columns (total 17 columns):\n",
            " #   Column                  Non-Null Count  Dtype  \n",
            "---  ------                  --------------  -----  \n",
            " 0   level_0                 34 non-null     int64  \n",
            " 1   index                   34 non-null     int64  \n",
            " 2   bank                    34 non-null     object \n",
            " 3   filename                34 non-null     object \n",
            " 4   date_dt                 34 non-null     object \n",
            " 5   chron_order_in_country  34 non-null     int64  \n",
            " 6   rate_curr               34 non-null     float64\n",
            " 7   rate_next               34 non-null     float64\n",
            " 8   rate_change             34 non-null     int64  \n",
            " 9   urate                   34 non-null     float64\n",
            " 10  inf                     34 non-null     float64\n",
            " 11  eff_rate                34 non-null     float64\n",
            " 12  statement               34 non-null     object \n",
            " 13  text_include            34 non-null     int64  \n",
            " 14  nairu                   34 non-null     float64\n",
            " 15  twice_urate_less_nairu  34 non-null     float64\n",
            " 16  minutes                 32 non-null     object \n",
            "dtypes: float64(7), int64(5), object(5)\n",
            "memory usage: 4.6+ KB\n"
          ]
        }
      ],
      "source": [
        "df_test_us.info()"
      ]
    },
    {
      "cell_type": "markdown",
      "metadata": {
        "id": "aIDI1AWhmQ3O"
      },
      "source": [
        "## Statistics\n",
        "\n",
        "Knowing the length of each statement will guide our choice of dimensions later.  \n",
        "\n",
        "The max approximate length of the statements is 475."
      ]
    },
    {
      "cell_type": "code",
      "execution_count": null,
      "metadata": {
        "colab": {
          "base_uri": "https://localhost:8080/"
        },
        "id": "qqWTRpVMND1S",
        "outputId": "3c9bbd06-6c06-49e4-ace6-86a3569158c4"
      },
      "outputs": [
        {
          "output_type": "execute_result",
          "data": {
            "text/plain": [
              "count    101.000000\n",
              "mean     338.821782\n",
              "std      171.129623\n",
              "min      105.000000\n",
              "25%      179.000000\n",
              "50%      338.000000\n",
              "75%      453.000000\n",
              "max      764.000000\n",
              "Name: statement, dtype: float64"
            ]
          },
          "metadata": {},
          "execution_count": 20
        }
      ],
      "source": [
        "approx_length = df_train_us['statement'].str.split(\" \").str.len()\n",
        "approx_length.describe()"
      ]
    },
    {
      "cell_type": "markdown",
      "metadata": {
        "id": "_v6l6_9wySCE"
      },
      "source": [
        "## Prepare data for embeddings\n",
        " As a reminder the y values are defined in the function make_matrixes and are called:\n",
        "\n",
        "* y_train_us, y_val_us, y_test_us\n",
        "\n",
        "Also, note that rate_change should be in the necessary form if we ran the function rate_change_var above.  "
      ]
    },
    {
      "cell_type": "code",
      "source": [
        "def prep_text(texttrain, textval, texttest):\n",
        "  tr_sentences=np.array(texttrain)\n",
        "  val_sentences=np.array(textval)\n",
        "  test_sentences=np.array(texttest)\n",
        "  return tr_sentences, val_sentences, test_sentences"
      ],
      "metadata": {
        "id": "cQpP5mNJPh2H"
      },
      "execution_count": null,
      "outputs": []
    },
    {
      "cell_type": "code",
      "execution_count": null,
      "metadata": {
        "id": "D7Cey_xKL5ld"
      },
      "outputs": [],
      "source": [
        "#Convert text statements to numpy arrays - US\n",
        "training_sentences_us, val_sentences_us, testing_sentences_us = prep_text(df_train_us.statement,\\\n",
        "                                                                          df_val_us.statement,\\\n",
        "                                                                          df_test_us.statement)"
      ]
    },
    {
      "cell_type": "code",
      "execution_count": null,
      "metadata": {
        "colab": {
          "base_uri": "https://localhost:8080/"
        },
        "id": "p3sV3KW7_MRj",
        "outputId": "e1ca6fa3-274e-46ba-bdbf-21ba09fd5264"
      },
      "outputs": [
        {
          "output_type": "stream",
          "name": "stdout",
          "text": [
            "(101,) (34,) (34,)\n"
          ]
        }
      ],
      "source": [
        "#Convert rename \n",
        "# Continuous target variable\n",
        "training_labels_final_us, val_labels_final_us, test_labels_final_us = prep_text(y_train_us, y_val_us, y_test_us)\n",
        "\n",
        "print(training_labels_final_us.shape, val_labels_final_us.shape, test_labels_final_us.shape)"
      ]
    },
    {
      "cell_type": "code",
      "source": [
        "# Classification (up or not) - this code is just to match naming conventions below.\n",
        "clf_train_us = np.array(df_train_us.rate_change)\n",
        "clf_test_us = np.array(df_test_us.rate_change)\n",
        "clf_val_us = np.array(df_val_us.rate_change)\n",
        "print(clf_train_us.shape, clf_val_us.shape, clf_test_us.shape)"
      ],
      "metadata": {
        "id": "jK-THJM_W7ZK",
        "colab": {
          "base_uri": "https://localhost:8080/"
        },
        "outputId": "f4025f1f-4ac0-48c2-8927-26efb45e1d40"
      },
      "execution_count": null,
      "outputs": [
        {
          "output_type": "stream",
          "name": "stdout",
          "text": [
            "(101,) (34,) (34,)\n"
          ]
        }
      ]
    },
    {
      "cell_type": "code",
      "source": [
        "#Convert rename \n",
        "# Continuous target variable\n",
        "training_labels_final_ecb, val_labels_final_ecb, test_labels_final_ecb = prep_text(y_train_ecb, y_val_ecb, y_test_ecb)\n",
        "\n",
        "print(training_labels_final_ecb.shape, val_labels_final_ecb.shape, test_labels_final_ecb.shape)"
      ],
      "metadata": {
        "id": "1VU-iB0rel2u",
        "colab": {
          "base_uri": "https://localhost:8080/"
        },
        "outputId": "1db919ec-2978-46fc-f245-0047654ac79d"
      },
      "execution_count": null,
      "outputs": [
        {
          "output_type": "stream",
          "name": "stdout",
          "text": [
            "(159,) (53,) (53,)\n"
          ]
        }
      ]
    },
    {
      "cell_type": "markdown",
      "metadata": {
        "id": "Sd7uVBbiWW8j"
      },
      "source": [
        "# Embedding based on the corpus\n",
        "\n",
        "We first examine embeddings based on the corpus.  \n",
        "\n",
        "* The embedding will look at the first 800 words in each statement. Since the maximum length in our dataset is only about 765 words, this is not binding.  However, we choose a larger value to accomodate potentially longer statements in the future.\n",
        "\n",
        "* There is no need to truncate statements in the current file, but to accomodate future data we set the tokenizer to truncate words at the end of each statement.\n",
        "\n",
        "* To ensure the embeddings are all the same length, statements padded with zeros to make them all 800 in length.\n",
        "\n",
        "* We choose a vocab_size for the corpus\n",
        "\n",
        "* The 'OOV' token represents words that occur with low frequency and are not part of the vocabulary.\n",
        "\n",
        "* An embedding dimension of 16 means that the embedding will be a matrix of 1300 (number of tokens) by 16 (size of the vector for each token).  These vectors can be thought of as the 'features' for each token, and help the model understand the similarity between tokens and statements."
      ]
    },
    {
      "cell_type": "code",
      "execution_count": null,
      "metadata": {
        "id": "1dJsVBZp5wgc"
      },
      "outputs": [],
      "source": [
        "max_length = 800 #Number of tokens per statement \n",
        "trunc_type = 'post'\n",
        "padding_type = 'post'\n",
        "\n",
        "vocab_size = 1300 #changed this based on word_index below\n",
        "oov_tok = '<OOV>' #indicate out of vocabularly words\n",
        "\n",
        "embedding_dim = 16 #number of features per word in vocabulary"
      ]
    },
    {
      "cell_type": "markdown",
      "metadata": {
        "id": "tXJ2YPOBvh2-"
      },
      "source": [
        "### From here, I am dealing only with US text data."
      ]
    },
    {
      "cell_type": "code",
      "execution_count": null,
      "metadata": {
        "id": "wHFQvZHq4-J0"
      },
      "outputs": [],
      "source": [
        "tokenizer = Tokenizer(num_words=vocab_size, oov_token=oov_tok)\n",
        "tokenizer.fit_on_texts(training_sentences_us)\n",
        "word_index = tokenizer.word_index"
      ]
    },
    {
      "cell_type": "code",
      "execution_count": null,
      "metadata": {
        "id": "lahsZxxJ6jVt",
        "colab": {
          "base_uri": "https://localhost:8080/"
        },
        "outputId": "b00f58c1-22f5-4b51-9e47-859736465bc1"
      },
      "outputs": [
        {
          "output_type": "execute_result",
          "data": {
            "text/plain": [
              "[7,\n",
              " 164,\n",
              " 205,\n",
              " 1166,\n",
              " 303,\n",
              " 53,\n",
              " 115,\n",
              " 454,\n",
              " 821,\n",
              " 41,\n",
              " 40,\n",
              " 95,\n",
              " 662,\n",
              " 561,\n",
              " 883,\n",
              " 120,\n",
              " 125]"
            ]
          },
          "metadata": {},
          "execution_count": 28
        }
      ],
      "source": [
        "#Find the indexes for select words from the word index\n",
        "check_list=['inflation',\n",
        "            'debt','current','projections','expansion','mortgage',\n",
        "            'near', 'vaccinations',\n",
        "            'short','stability','price','unemployment','hurricane',\n",
        "            'covid','weather',\n",
        "            'basis','asset']\n",
        "      \n",
        "[word_index[i] for i in check_list]"
      ]
    },
    {
      "cell_type": "code",
      "source": [
        "len(word_index)"
      ],
      "metadata": {
        "colab": {
          "base_uri": "https://localhost:8080/"
        },
        "id": "pDXpqd4kYQz2",
        "outputId": "3c713710-bbfc-43a4-a5bd-461557ec8369"
      },
      "execution_count": null,
      "outputs": [
        {
          "output_type": "execute_result",
          "data": {
            "text/plain": [
              "1258"
            ]
          },
          "metadata": {},
          "execution_count": 32
        }
      ]
    },
    {
      "cell_type": "code",
      "source": [
        "#Get a count of select words\n",
        "[tokenizer.word_counts[i] for i in check_list[1:]]"
      ],
      "metadata": {
        "colab": {
          "base_uri": "https://localhost:8080/"
        },
        "id": "ALeu2sER4ifd",
        "outputId": "35033212-dffe-4229-8866-e9bbb18c3ed8"
      },
      "execution_count": null,
      "outputs": [
        {
          "output_type": "execute_result",
          "data": {
            "text/plain": [
              "[38, 31, 1, 17, 122, 55, 9, 2, 143, 147, 72, 4, 6, 2, 54, 51]"
            ]
          },
          "metadata": {},
          "execution_count": 33
        }
      ]
    },
    {
      "cell_type": "markdown",
      "metadata": {
        "id": "wK6R12s_-gD5"
      },
      "source": [
        "Assure that the arrays fed into the neural network are all the same length.  We \"pad\" the sequences that are less than the maximum length so they are all the same size."
      ]
    },
    {
      "cell_type": "code",
      "execution_count": null,
      "metadata": {
        "id": "y9PFBhRj6nbQ"
      },
      "outputs": [],
      "source": [
        "#For the US ONLY\n",
        "sequences_us = tokenizer.texts_to_sequences(training_sentences_us)\n",
        "padded_us = pad_sequences(sequences_us, maxlen=max_length, truncating=trunc_type)\n",
        "\n",
        "val_sequences_us = tokenizer.texts_to_sequences(val_sentences_us)\n",
        "val_padded_us = pad_sequences(val_sequences_us, maxlen=max_length)\n",
        "\n",
        "test_sequences_us = tokenizer.texts_to_sequences(testing_sentences_us)\n",
        "test_padded_us = pad_sequences(test_sequences_us, maxlen=max_length)"
      ]
    },
    {
      "cell_type": "markdown",
      "metadata": {
        "id": "XyORPwqpvBpD"
      },
      "source": [
        "Let's take a look at these sequences arrays."
      ]
    },
    {
      "cell_type": "code",
      "execution_count": null,
      "metadata": {
        "colab": {
          "base_uri": "https://localhost:8080/"
        },
        "id": "EK-QzS4buLo8",
        "outputId": "95174d9e-4927-4d74-dcb9-d1f869ed7666"
      },
      "outputs": [
        {
          "output_type": "stream",
          "name": "stdout",
          "text": [
            "(101, 800) (34, 800) (34, 800)\n"
          ]
        }
      ],
      "source": [
        "print(padded_us.shape, val_padded_us.shape, test_padded_us.shape)"
      ]
    },
    {
      "cell_type": "code",
      "execution_count": null,
      "metadata": {
        "colab": {
          "base_uri": "https://localhost:8080/"
        },
        "id": "9Y9Hqj3EWqsW",
        "outputId": "2facbdef-c886-4987-881a-a9b780f8b835"
      },
      "outputs": [
        {
          "output_type": "execute_result",
          "data": {
            "text/plain": [
              "array([[  0,   0,   0, ...,   3, 183,  57],\n",
              "       [  0,   0,   0, ..., 101, 107, 203],\n",
              "       [  0,   0,   0, ...,  15,   4,   4],\n",
              "       ...,\n",
              "       [  0,   0,   0, ...,  18,  25,  15],\n",
              "       [  0,   0,   0, ...,  52, 111, 252],\n",
              "       [  0,   0,   0, ..., 740,  27, 563]], dtype=int32)"
            ]
          },
          "metadata": {},
          "execution_count": 36
        }
      ],
      "source": [
        "padded_us"
      ]
    },
    {
      "cell_type": "markdown",
      "source": [
        "## A simple LSTM on the text data only: RMSE 0.50\n",
        "\n",
        "For the sake of consistency and after some experimentation, we decided to use the same dense layers as in macro model."
      ],
      "metadata": {
        "id": "NdJ8x2uKFJGi"
      }
    },
    {
      "cell_type": "code",
      "source": [
        "#LSTM\n",
        "model_lstm = tf.keras.Sequential([\n",
        "    tf.keras.layers.Embedding(vocab_size, embedding_dim, input_length=max_length),\n",
        "    tf.keras.layers.LSTM(embedding_dim),\n",
        "    tf.keras.layers.Dense(480, activation='relu'), #16 had RMSE of .62\n",
        "    tf.keras.layers.Dense(464, activation='relu'), \n",
        "    tf.keras.layers.Dense(1)\n",
        "])"
      ],
      "metadata": {
        "id": "Dm3mJ3iK093K"
      },
      "execution_count": null,
      "outputs": []
    },
    {
      "cell_type": "code",
      "source": [
        "tf.keras.backend.clear_session()\n",
        "np.random.seed(42)\n",
        "tf.random.set_seed(42)\n",
        "model_lstm.compile(loss='mse', \n",
        "              optimizer=tf.keras.optimizers.Adam(learning_rate=0.001),\n",
        "              metrics=[tf.keras.metrics.RootMeanSquaredError()])"
      ],
      "metadata": {
        "id": "khJCAdsYFRji"
      },
      "execution_count": null,
      "outputs": []
    },
    {
      "cell_type": "code",
      "source": [
        "num_epochs = 2500\n",
        "early_stop = EarlyStopping(monitor='val_root_mean_squared_error', mode='min', patience=200, verbose=False)\n",
        "history = model_lstm.fit(padded_us, y_train_us, \n",
        "                    epochs=num_epochs, verbose=False, callbacks=[early_stop],\n",
        "                    validation_data=(val_padded_us, y_val_us))"
      ],
      "metadata": {
        "id": "-ihWrv7uFXDy"
      },
      "execution_count": null,
      "outputs": []
    },
    {
      "cell_type": "code",
      "source": [
        "#@title\n",
        "rmse = history.history['root_mean_squared_error']\n",
        "val_rmse = history.history['val_root_mean_squared_error']\n",
        "epochs=range(len(rmse))\n",
        "plt.plot(epochs, rmse, 'r')\n",
        "plt.plot(epochs, val_rmse, 'b')\n",
        "plt.title('Training and validation RMSE - Simple LSTM, US')\n",
        "plt.ylim((0,1.5))\n",
        "plt.figure()"
      ],
      "metadata": {
        "colab": {
          "base_uri": "https://localhost:8080/",
          "height": 316
        },
        "id": "9biNc1BiFZ5P",
        "outputId": "bb109165-b6c6-41de-b08f-461883b55c5e"
      },
      "execution_count": null,
      "outputs": [
        {
          "output_type": "execute_result",
          "data": {
            "text/plain": [
              "<Figure size 432x288 with 0 Axes>"
            ]
          },
          "metadata": {},
          "execution_count": 105
        },
        {
          "output_type": "display_data",
          "data": {
            "text/plain": [
              "<Figure size 432x288 with 1 Axes>"
            ],
            "image/png": "[encoded data removed]"
          },
          "metadata": {
            "needs_background": "light"
          }
        },
        {
          "output_type": "display_data",
          "data": {
            "text/plain": [
              "<Figure size 432x288 with 0 Axes>"
            ]
          },
          "metadata": {}
        }
      ]
    },
    {
      "cell_type": "code",
      "source": [
        "model_lstm_eval=model_lstm.evaluate(test_padded_us, y_test_us)\n",
        "model_lstm_eval "
      ],
      "metadata": {
        "colab": {
          "base_uri": "https://localhost:8080/"
        },
        "id": "x-rHEQ-cFdVL",
        "outputId": "3f61545c-b8bf-45ba-a688-91a325feaaee"
      },
      "execution_count": null,
      "outputs": [
        {
          "output_type": "stream",
          "name": "stdout",
          "text": [
            "2/2 [==============================] - 0s 18ms/step - loss: 0.3411 - root_mean_squared_error: 0.5840\n"
          ]
        },
        {
          "output_type": "execute_result",
          "data": {
            "text/plain": [
              "[0.3410837948322296, 0.5840237736701965]"
            ]
          },
          "metadata": {},
          "execution_count": 106
        }
      ]
    },
    {
      "cell_type": "markdown",
      "source": [
        "## Model with both text and macro variables, embeddings from our corpus, US data.  RMSE: 0.196."
      ],
      "metadata": {
        "id": "I4DT-lwHFlpu"
      }
    },
    {
      "cell_type": "code",
      "execution_count": null,
      "metadata": {
        "id": "1hLNUK9D0-Q7"
      },
      "outputs": [],
      "source": [
        "from keras.layers import Dense, Embedding, LSTM, Bidirectional, Input\n",
        "from keras.models import Model\n",
        "\n",
        "def make_model_no_matrix(max_length,embedding_dim):\n",
        "\n",
        "    # Defining the embedding layer\n",
        "    input1=Input(shape=(max_length,)) # max_length is the length of each input sequence\n",
        "    \n",
        "    embedding_layer = Embedding(vocab_size, embedding_dim,   #len(word_index)+1,100\n",
        "                                input_length=max_length,trainable=True\n",
        "                                )(input1)\n",
        "\n",
        "                                \n",
        "    # Building LSTM for text features                          \n",
        "      \n",
        "    bi_lstm_1 = Bidirectional(LSTM(embedding_dim,return_sequences=True))(embedding_layer) # original first layer - \n",
        "    # the return_sequences=True gives it an extra dimension that then has to be fixed with the second lstm before concatenation\n",
        "\n",
        "    bi_lstm_2 = Bidirectional(LSTM(embedding_dim))(bi_lstm_1)  #original second LSTM\n",
        "    lstm_output =  Model(inputs = input1,outputs = bi_lstm_2) # original output of layered LSTM's\n",
        "    \n",
        "#Inputting Number features\n",
        "    input2=Input(shape=(3,))  \n",
        "    \n",
        "    # Merging inputs\n",
        "    merge = tf.keras.layers.concatenate([lstm_output.output,input2])\n",
        "    \n",
        "    # Building dense layers for regression with number features\n",
        "    reg_dense1 = Dense(480, activation='relu')(merge) \n",
        "    reg_dense2 = Dense(464, activation='relu')(reg_dense1)\n",
        "    output1 = Dense(1, activation='linear')(reg_dense2)\n",
        "  \n",
        " \n",
        "    model = Model(inputs=[lstm_output.input,input2], outputs=[output1])  #outputs=[output1,output2]\n",
        " \n",
        "    return model"
      ]
    },
    {
      "cell_type": "code",
      "execution_count": null,
      "metadata": {
        "id": "tdTu_asf0-Q9"
      },
      "outputs": [],
      "source": [
        "tf.keras.backend.clear_session() \n",
        "np.random.seed(42)\n",
        "tf.random.set_seed(42)"
      ]
    },
    {
      "cell_type": "code",
      "execution_count": null,
      "metadata": {
        "id": "nPUV3pe_0-Q-"
      },
      "outputs": [],
      "source": [
        "import keras\n",
        "from keras.optimizers import Adam\n",
        "\n",
        "model = make_model_no_matrix(max_length,16)"
      ]
    },
    {
      "cell_type": "code",
      "execution_count": null,
      "metadata": {
        "colab": {
          "base_uri": "https://localhost:8080/"
        },
        "outputId": "ab3050a5-45cb-47e2-ab26-a2e7294ab821",
        "id": "2BOMUjfa0-Q_"
      },
      "outputs": [
        {
          "output_type": "stream",
          "name": "stdout",
          "text": [
            "Model: \"model_1\"\n",
            "__________________________________________________________________________________________________\n",
            " Layer (type)                   Output Shape         Param #     Connected to                     \n",
            "==================================================================================================\n",
            " input_1 (InputLayer)           [(None, 800)]        0           []                               \n",
            "                                                                                                  \n",
            " embedding (Embedding)          (None, 800, 16)      20800       ['input_1[0][0]']                \n",
            "                                                                                                  \n",
            " bidirectional (Bidirectional)  (None, 800, 32)      4224        ['embedding[0][0]']              \n",
            "                                                                                                  \n",
            " bidirectional_1 (Bidirectional  (None, 32)          6272        ['bidirectional[0][0]']          \n",
            " )                                                                                                \n",
            "                                                                                                  \n",
            " input_2 (InputLayer)           [(None, 3)]          0           []                               \n",
            "                                                                                                  \n",
            " concatenate (Concatenate)      (None, 35)           0           ['bidirectional_1[0][0]',        \n",
            "                                                                  'input_2[0][0]']                \n",
            "                                                                                                  \n",
            " dense (Dense)                  (None, 480)          17280       ['concatenate[0][0]']            \n",
            "                                                                                                  \n",
            " dense_1 (Dense)                (None, 464)          223184      ['dense[0][0]']                  \n",
            "                                                                                                  \n",
            " dense_2 (Dense)                (None, 1)            465         ['dense_1[0][0]']                \n",
            "                                                                                                  \n",
            "==================================================================================================\n",
            "Total params: 272,225\n",
            "Trainable params: 272,225\n",
            "Non-trainable params: 0\n",
            "__________________________________________________________________________________________________\n"
          ]
        }
      ],
      "source": [
        "model.summary()"
      ]
    },
    {
      "cell_type": "code",
      "execution_count": null,
      "metadata": {
        "id": "leDDLuzC0-RA"
      },
      "outputs": [],
      "source": [
        "regression_losses ={ 'dense_2':\"mse\"}\n",
        "regression_metrics = {'dense_2': tf.keras.metrics.RootMeanSquaredError()}\n",
        "opt = Adam(learning_rate=0.001) "
      ]
    },
    {
      "cell_type": "code",
      "execution_count": null,
      "metadata": {
        "id": "mRATdCj80-RB"
      },
      "outputs": [],
      "source": [
        "# Model Compiling\n",
        "model.compile(optimizer=opt, loss=regression_losses,metrics=regression_metrics) # original was model.compile(optimizer=opt, loss=\"mse\",metrics=metrics)"
      ]
    },
    {
      "cell_type": "code",
      "execution_count": null,
      "metadata": {
        "id": "Z9q6j0gf0-RB"
      },
      "outputs": [],
      "source": [
        "# Model Fitting \n",
        "num_epochs = 2500\n",
        "early_stop = EarlyStopping(monitor='val_root_mean_squared_error', mode='min', patience=200, verbose=False)\n",
        "H = model.fit(x=[padded_us, X_train_us], # text training input first, then numerical training in put\n",
        "y={'dense_2': training_labels_final_us},\n",
        "validation_data=([val_padded_us, X_val_us],{'dense_2': val_labels_final_us}),\n",
        "epochs=num_epochs,verbose=1, callbacks=[early_stop]) \n"
      ]
    },
    {
      "cell_type": "code",
      "execution_count": null,
      "metadata": {
        "colab": {
          "base_uri": "https://localhost:8080/"
        },
        "outputId": "8a862c94-0daf-43c4-85f4-2cfad4619687",
        "id": "vQhyTuu20-RC"
      },
      "outputs": [
        {
          "output_type": "stream",
          "name": "stdout",
          "text": [
            "2/2 [==============================] - 1s 58ms/step - loss: 0.0484 - root_mean_squared_error: 0.2199\n"
          ]
        },
        {
          "output_type": "execute_result",
          "data": {
            "text/plain": [
              "[0.04836930334568024, 0.21993021667003632]"
            ]
          },
          "metadata": {},
          "execution_count": 37
        }
      ],
      "source": [
        "model.evaluate({'input_1': test_padded_us,'input_2': X_test_us}, {'dense_2': y_test_us}) \n"
      ]
    },
    {
      "cell_type": "code",
      "source": [
        "rmse = H.H['root_mean_squared_error']\n",
        "val_rmse = H.H['val_root_mean_squared_error']\n",
        "epochs=range(len(rmse))\n",
        "plt.plot(epochs, rmse, 'r')\n",
        "plt.plot(epochs, val_rmse, 'b')\n",
        "plt.title('Training and validation RMSE - Embeddings from Corpus')\n",
        "plt.ylim((0,1.5))\n",
        "plt.figure()"
      ],
      "metadata": {
        "id": "fUcD9cfw6GuW"
      },
      "execution_count": null,
      "outputs": []
    },
    {
      "cell_type": "markdown",
      "source": [
        "### Again for the sake of comparison, we use a single LSTM on the text and macrovariables."
      ],
      "metadata": {
        "id": "5mr8q1RONb8p"
      }
    },
    {
      "cell_type": "code",
      "execution_count": null,
      "metadata": {
        "id": "SlwdxdYjNdGw"
      },
      "outputs": [],
      "source": [
        "from keras.layers import Dense, Embedding, LSTM, Bidirectional, Input\n",
        "from keras.models import Model\n",
        "\n",
        "def make_model_no_matrix_single_lstm(max_length,embedding_dim):\n",
        "\n",
        "    # Defining the embedding layer\n",
        "    input1=Input(shape=(max_length,)) # max_length is the length of each input sequence\n",
        "    \n",
        "    embedding_layer = Embedding(vocab_size, embedding_dim,   #len(word_index)+1,100\n",
        "                                input_length=max_length,trainable=True\n",
        "                                )(input1)\n",
        "\n",
        "                                \n",
        "    # Building LSTM for text features                          \n",
        "      \n",
        "    lstm_1 = LSTM(embedding_dim)(embedding_layer) # original first layer - \n",
        "    # the return_sequences=True gives it an extra dimension that then has to be fixed with the second lstm before concatenation\n",
        "\n",
        "    #bi_lstm_2 = Bidirectional(LSTM(embedding_dim))(bi_lstm_1)  #original second LSTM\n",
        "    lstm_output =  Model(inputs = input1,outputs = lstm_1) # original output of layered LSTM's\n",
        "    \n",
        "#Inputting Number features\n",
        "    input2=Input(shape=(3,))  \n",
        "    \n",
        "    # Merging inputs\n",
        "    merge = tf.keras.layers.concatenate([lstm_output.output,input2])\n",
        "    \n",
        "    # Building dense layers for regression with number features\n",
        "    reg_dense1 = Dense(480, activation='relu')(merge) \n",
        "    reg_dense2 = Dense(464, activation='relu')(reg_dense1)\n",
        "    output1 = Dense(1, activation='linear')(reg_dense2)\n",
        "  \n",
        " \n",
        "    model = Model(inputs=[lstm_output.input,input2], outputs=[output1])  #outputs=[output1,output2]\n",
        " \n",
        "    return model"
      ]
    },
    {
      "cell_type": "code",
      "execution_count": null,
      "metadata": {
        "id": "FqcxGeBDNdGy"
      },
      "outputs": [],
      "source": [
        "tf.keras.backend.clear_session() \n",
        "np.random.seed(42)\n",
        "tf.random.set_seed(42)"
      ]
    },
    {
      "cell_type": "code",
      "execution_count": null,
      "metadata": {
        "id": "BTHQrfBeNdGy"
      },
      "outputs": [],
      "source": [
        "import keras\n",
        "from keras.optimizers import Adam\n",
        "\n",
        "model_single_lstm = make_model_no_matrix_single_lstm(max_length,16)"
      ]
    },
    {
      "cell_type": "code",
      "execution_count": null,
      "metadata": {
        "colab": {
          "base_uri": "https://localhost:8080/"
        },
        "outputId": "fcb2ecc4-0777-435e-8026-1c040873ed42",
        "id": "Huj4s4GtNdGz"
      },
      "outputs": [
        {
          "output_type": "stream",
          "name": "stdout",
          "text": [
            "Model: \"model_1\"\n",
            "__________________________________________________________________________________________________\n",
            " Layer (type)                   Output Shape         Param #     Connected to                     \n",
            "==================================================================================================\n",
            " input_1 (InputLayer)           [(None, 800)]        0           []                               \n",
            "                                                                                                  \n",
            " embedding (Embedding)          (None, 800, 16)      20800       ['input_1[0][0]']                \n",
            "                                                                                                  \n",
            " lstm (LSTM)                    (None, 16)           2112        ['embedding[0][0]']              \n",
            "                                                                                                  \n",
            " input_2 (InputLayer)           [(None, 3)]          0           []                               \n",
            "                                                                                                  \n",
            " concatenate (Concatenate)      (None, 19)           0           ['lstm[0][0]',                   \n",
            "                                                                  'input_2[0][0]']                \n",
            "                                                                                                  \n",
            " dense (Dense)                  (None, 480)          9600        ['concatenate[0][0]']            \n",
            "                                                                                                  \n",
            " dense_1 (Dense)                (None, 464)          223184      ['dense[0][0]']                  \n",
            "                                                                                                  \n",
            " dense_2 (Dense)                (None, 1)            465         ['dense_1[0][0]']                \n",
            "                                                                                                  \n",
            "==================================================================================================\n",
            "Total params: 256,161\n",
            "Trainable params: 256,161\n",
            "Non-trainable params: 0\n",
            "__________________________________________________________________________________________________\n"
          ]
        }
      ],
      "source": [
        "model_single_lstm.summary()"
      ]
    },
    {
      "cell_type": "code",
      "execution_count": null,
      "metadata": {
        "id": "pHGhtrMINdG0"
      },
      "outputs": [],
      "source": [
        "regression_losses ={ 'dense_2':\"mse\"}\n",
        "regression_metrics = {'dense_2': tf.keras.metrics.RootMeanSquaredError()}\n",
        "opt = Adam(learning_rate=0.001) "
      ]
    },
    {
      "cell_type": "code",
      "execution_count": null,
      "metadata": {
        "id": "AjVL5ugSNdG0"
      },
      "outputs": [],
      "source": [
        "# Model Compiling\n",
        "model_single_lstm.compile(optimizer=opt, loss=regression_losses,metrics=regression_metrics) # original was model.compile(optimizer=opt, loss=\"mse\",metrics=metrics)"
      ]
    },
    {
      "cell_type": "code",
      "execution_count": null,
      "metadata": {
        "id": "hSXkbgg7NdG1"
      },
      "outputs": [],
      "source": [
        "# Model Fitting \n",
        "num_epochs = 2500\n",
        "early_stop = EarlyStopping(monitor='val_root_mean_squared_error', mode='min', patience=200, verbose=False)\n",
        "H = model_single_lstm.fit(x=[padded_us, X_train_us], # text training input first, then numerical training in put\n",
        "y={'dense_2': training_labels_final_us},\n",
        "validation_data=([val_padded_us, X_val_us],{'dense_2': val_labels_final_us}),\n",
        "epochs=num_epochs,verbose=0, callbacks=[early_stop]) \n"
      ]
    },
    {
      "cell_type": "code",
      "execution_count": null,
      "metadata": {
        "colab": {
          "base_uri": "https://localhost:8080/"
        },
        "outputId": "b2f231ad-5948-4091-99c4-1a42c7bbab30",
        "id": "ueHT_UzANdG2"
      },
      "outputs": [
        {
          "output_type": "stream",
          "name": "stdout",
          "text": [
            "2/2 [==============================] - 1s 17ms/step - loss: 0.0677 - root_mean_squared_error: 0.2601\n"
          ]
        },
        {
          "output_type": "execute_result",
          "data": {
            "text/plain": [
              "[0.0676666796207428, 0.2601282000541687]"
            ]
          },
          "metadata": {},
          "execution_count": 43
        }
      ],
      "source": [
        "model_single_lstm.evaluate({'input_1': test_padded_us,'input_2': X_test_us}, {'dense_2': y_test_us}) \n"
      ]
    },
    {
      "cell_type": "markdown",
      "source": [
        "## Testing on ECB data.  \n",
        "\n",
        "Although the ECB text data was too limited to use for training purposes, we use it to test the model created from our US data.  As seen, the RMSE is very close at 0.2268.  "
      ],
      "metadata": {
        "id": "FkcHoX-iXCIM"
      }
    },
    {
      "cell_type": "code",
      "source": [
        "#Restrict the dataframe to ECB entries with rows that have text sturdy enough to use.\n",
        "df_ecb_text = df.loc[(df['bank']=='ecb') & (df['text_include']==1)] #get the relevant entries"
      ],
      "metadata": {
        "id": "uIjPQ1LeZ3a2"
      },
      "execution_count": null,
      "outputs": []
    },
    {
      "cell_type": "code",
      "source": [
        "#Convert text statements to numpy arrays - ECB\n",
        "testing_sentences_ecb = np.array(df_ecb_text.statement)"
      ],
      "metadata": {
        "id": "HnG2GgrZhfDa"
      },
      "execution_count": null,
      "outputs": []
    },
    {
      "cell_type": "code",
      "source": [
        "test_sequences_ecb = tokenizer.texts_to_sequences(testing_sentences_ecb)\n",
        "test_padded_ecb = pad_sequences(test_sequences_ecb, maxlen=max_length)"
      ],
      "metadata": {
        "id": "82c8Gm9KZu-P"
      },
      "execution_count": null,
      "outputs": []
    },
    {
      "cell_type": "code",
      "source": [
        "test_padded_ecb.shape"
      ],
      "metadata": {
        "colab": {
          "base_uri": "https://localhost:8080/"
        },
        "id": "1NtcK88IjTaz",
        "outputId": "b4812a30-b5af-415e-c42b-a3d2f0dcd20d"
      },
      "execution_count": null,
      "outputs": [
        {
          "output_type": "execute_result",
          "data": {
            "text/plain": [
              "(46, 800)"
            ]
          },
          "metadata": {},
          "execution_count": 54
        }
      ]
    },
    {
      "cell_type": "code",
      "source": [
        "#Pull the macro data from the same rows of the matrix.\n",
        "X_test_ecb_restricted, y_test_ecb_restricted = make_matrixes(df_ecb_text, \"no aug\", scaled=0)"
      ],
      "metadata": {
        "colab": {
          "base_uri": "https://localhost:8080/"
        },
        "id": "5yMNIbwbiuRy",
        "outputId": "30ecc4f7-f2e4-4ef8-fd76-c9da9104990d"
      },
      "execution_count": null,
      "outputs": [
        {
          "output_type": "stream",
          "name": "stdout",
          "text": [
            "(46, 3) (46,)\n"
          ]
        }
      ]
    },
    {
      "cell_type": "code",
      "source": [
        "model.evaluate({'input_1': test_padded_ecb,'input_2': X_test_ecb_restricted}, {'dense_2': y_test_ecb_restricted}) "
      ],
      "metadata": {
        "colab": {
          "base_uri": "https://localhost:8080/"
        },
        "id": "aGFg_SfAaMc3",
        "outputId": "f33bfee0-7883-4048-ae57-d6fe1eec1120"
      },
      "execution_count": null,
      "outputs": [
        {
          "output_type": "stream",
          "name": "stdout",
          "text": [
            "2/2 [==============================] - 0s 63ms/step - loss: 0.0514 - root_mean_squared_error: 0.2268\n"
          ]
        },
        {
          "output_type": "execute_result",
          "data": {
            "text/plain": [
              "[0.051429104059934616, 0.22677986323833466]"
            ]
          },
          "metadata": {},
          "execution_count": 55
        }
      ]
    },
    {
      "cell_type": "markdown",
      "source": [
        "### Variation: a single bidirectional LSTM with text and macro variables, US data.  \n",
        "\n",
        "Note that we have to drop the \"return_sequences=True\" to do this.  It gives me an RMSE of 0.231."
      ],
      "metadata": {
        "id": "1R6geRMZObLw"
      }
    },
    {
      "cell_type": "code",
      "execution_count": null,
      "metadata": {
        "id": "WaNP_Xg1OYwd"
      },
      "outputs": [],
      "source": [
        "from keras.layers import Dense, Embedding, LSTM, Bidirectional, Input\n",
        "from keras.models import Model\n",
        "\n",
        "def make_model_single_bi_lstm(max_length,embedding_dim):\n",
        "\n",
        "    # Defining the embedding layer\n",
        "    input1=Input(shape=(max_length,)) # max_length is the length of each input sequence\n",
        "    \n",
        "    embedding_layer = Embedding(vocab_size, embedding_dim, \n",
        "                                input_length=max_length,trainable=True\n",
        "                                )(input1)\n",
        "\n",
        "                                \n",
        "    # Building LSTM for text features                          \n",
        "      \n",
        "    bi_lstm_1 = Bidirectional(LSTM(embedding_dim))(embedding_layer) # original first layer - \n",
        "    # the return_sequences=True gives it an extra dimension that then has to be fixed with the second lstm before concatenation\n",
        "\n",
        "    #bi_lstm_2 = Bidirectional(LSTM(embedding_dim))(bi_lstm_1)  #original second LSTM\n",
        "    lstm_output =  Model(inputs = input1,outputs = bi_lstm_1) \n",
        "    \n",
        "#Inputting Number features\n",
        "    input2=Input(shape=(3,))  \n",
        "    \n",
        "    # Merging inputs\n",
        "    merge = tf.keras.layers.concatenate([lstm_output.output,input2])\n",
        "    \n",
        "    # Building dense layers for regression with number features\n",
        "    reg_dense1 = Dense(480, activation='relu')(merge) \n",
        "    reg_dense2 = Dense(464, activation='relu')(reg_dense1)\n",
        "    output1 = Dense(1, activation='linear')(reg_dense2)\n",
        "  \n",
        " \n",
        "    model = Model(inputs=[lstm_output.input,input2], outputs=[output1])  \n",
        " \n",
        "    return model"
      ]
    },
    {
      "cell_type": "code",
      "execution_count": null,
      "metadata": {
        "id": "2hB3SKPFOYwg"
      },
      "outputs": [],
      "source": [
        "tf.keras.backend.clear_session() \n",
        "np.random.seed(42)\n",
        "tf.random.set_seed(42)"
      ]
    },
    {
      "cell_type": "code",
      "execution_count": null,
      "metadata": {
        "id": "cuJmiAcUOYwh"
      },
      "outputs": [],
      "source": [
        "import keras\n",
        "from keras.optimizers import Adam\n",
        "\n",
        "model = make_model_single_bi_lstm(max_length,16)"
      ]
    },
    {
      "cell_type": "code",
      "execution_count": null,
      "metadata": {
        "id": "Rcy1_kXkOYwh",
        "colab": {
          "base_uri": "https://localhost:8080/"
        },
        "outputId": "21cd6764-268e-471f-b1cd-a2d4f6fa4b66"
      },
      "outputs": [
        {
          "output_type": "stream",
          "name": "stdout",
          "text": [
            "Model: \"model_1\"\n",
            "__________________________________________________________________________________________________\n",
            " Layer (type)                   Output Shape         Param #     Connected to                     \n",
            "==================================================================================================\n",
            " input_1 (InputLayer)           [(None, 800)]        0           []                               \n",
            "                                                                                                  \n",
            " embedding (Embedding)          (None, 800, 16)      20800       ['input_1[0][0]']                \n",
            "                                                                                                  \n",
            " bidirectional (Bidirectional)  (None, 32)           4224        ['embedding[0][0]']              \n",
            "                                                                                                  \n",
            " input_2 (InputLayer)           [(None, 3)]          0           []                               \n",
            "                                                                                                  \n",
            " concatenate (Concatenate)      (None, 35)           0           ['bidirectional[0][0]',          \n",
            "                                                                  'input_2[0][0]']                \n",
            "                                                                                                  \n",
            " dense (Dense)                  (None, 480)          17280       ['concatenate[0][0]']            \n",
            "                                                                                                  \n",
            " dense_1 (Dense)                (None, 464)          223184      ['dense[0][0]']                  \n",
            "                                                                                                  \n",
            " dense_2 (Dense)                (None, 1)            465         ['dense_1[0][0]']                \n",
            "                                                                                                  \n",
            "==================================================================================================\n",
            "Total params: 265,953\n",
            "Trainable params: 265,953\n",
            "Non-trainable params: 0\n",
            "__________________________________________________________________________________________________\n"
          ]
        }
      ],
      "source": [
        "model.summary()"
      ]
    },
    {
      "cell_type": "code",
      "execution_count": null,
      "metadata": {
        "id": "bi1vNnEXOYwi"
      },
      "outputs": [],
      "source": [
        "# Model Compiling\n",
        "model.compile(optimizer=opt, loss=regression_losses,metrics=regression_metrics) # original was model.compile(optimizer=opt, loss=\"mse\",metrics=metrics)"
      ]
    },
    {
      "cell_type": "code",
      "execution_count": null,
      "metadata": {
        "id": "edt7_lxKOYwi"
      },
      "outputs": [],
      "source": [
        "# Model Fitting \n",
        "H = model.fit(x=[padded_us, X_train_us], # text training input first, then numerical training in put\n",
        "y={'dense_2': training_labels_final_us},\n",
        "validation_data=([val_padded_us, X_val_us],{'dense_2': val_labels_final_us}),\n",
        "epochs=2500,verbose=0, callbacks=[early_stop]) \n",
        "\n",
        " "
      ]
    },
    {
      "cell_type": "code",
      "execution_count": null,
      "metadata": {
        "colab": {
          "base_uri": "https://localhost:8080/"
        },
        "outputId": "ae3cd599-70a9-4a55-fe67-eab638dfad81",
        "id": "OX-_b9kAOYwj"
      },
      "outputs": [
        {
          "output_type": "stream",
          "name": "stdout",
          "text": [
            "2/2 [==============================] - 1s 26ms/step - loss: 0.0534 - root_mean_squared_error: 0.2310\n"
          ]
        },
        {
          "output_type": "execute_result",
          "data": {
            "text/plain": [
              "[0.05337190255522728, 0.23102359473705292]"
            ]
          },
          "metadata": {},
          "execution_count": 122
        }
      ],
      "source": [
        "model.evaluate({'input_1': test_padded_us,'input_2': X_test_us}, {'dense_2': y_test_us}) \n"
      ]
    },
    {
      "cell_type": "code",
      "source": [],
      "metadata": {
        "id": "TP7HU6_3OYwj"
      },
      "execution_count": null,
      "outputs": []
    },
    {
      "cell_type": "markdown",
      "source": [
        "## Classification Model (Predicting Next Rate up or not) with both text and macrovariable input.   **Precision =1.000**!\n",
        "\n",
        "We chose not to use early stopping here because we got excellent results with a standard choice of 200 epochs."
      ],
      "metadata": {
        "id": "CtXqEvVDIrjj"
      }
    },
    {
      "cell_type": "code",
      "source": [
        "from keras.layers import Dense, Embedding, LSTM, Bidirectional, Input\n",
        "from keras.models import Model\n",
        "\n",
        "def classification_model_no_matrix(max_length,embedding_dim):\n",
        "\n",
        "    # Defining the embedding layer\n",
        "    input1=Input(shape=(max_length,))\n",
        "    \n",
        "    embedding_layer = Embedding(vocab_size, embedding_dim,  \n",
        "                                input_length=max_length,trainable=True\n",
        "                                )(input1)\n",
        "\n",
        "                                \n",
        "    # Building LSTM for text features                          \n",
        "    bi_lstm_1 = Bidirectional(LSTM(embedding_dim,return_sequences=True))(embedding_layer)\n",
        "    \n",
        "    bi_lstm_2 = Bidirectional(LSTM(embedding_dim))(bi_lstm_1)   \n",
        "    lstm_output =  Model(inputs = input1,outputs = bi_lstm_2)\n",
        "    \n",
        "    #Inputting Number features\n",
        "    input2=Input(shape=(3,))  \n",
        "    \n",
        "    # Merging inputs\n",
        "    merge = tf.keras.layers.concatenate([lstm_output.output,input2])\n",
        "    \n",
        "    # Building dense layers for classification with number features\n",
        "    clf_dense1 = Dense(4, activation='relu')(merge) \n",
        "    clf_dense2 = Dense(4, activation='relu')(clf_dense1) \n",
        "    \n",
        "    # 2 Categories in classification\n",
        "    output2 = Dense(1, activation='sigmoid')(clf_dense1)\n",
        " \n",
        "    model = Model(inputs=[lstm_output.input,input2], outputs=[output2]) \n",
        " \n",
        "    return model"
      ],
      "metadata": {
        "id": "LAJ3g--dI1Wx"
      },
      "execution_count": null,
      "outputs": []
    },
    {
      "cell_type": "code",
      "source": [
        "tf.keras.backend.clear_session() \n",
        "np.random.seed(42)\n",
        "tf.random.set_seed(42)"
      ],
      "metadata": {
        "id": "Jw6tEj0EMv1s"
      },
      "execution_count": null,
      "outputs": []
    },
    {
      "cell_type": "code",
      "source": [
        "model_basic_class = classification_model_no_matrix(max_length,16)"
      ],
      "metadata": {
        "id": "i35PCzAdJD3G"
      },
      "execution_count": null,
      "outputs": []
    },
    {
      "cell_type": "code",
      "execution_count": null,
      "metadata": {
        "colab": {
          "base_uri": "https://localhost:8080/"
        },
        "outputId": "a84e65f3-e855-450a-d6a7-fa6689583b32",
        "id": "lsrkzKK-J2L9"
      },
      "outputs": [
        {
          "output_type": "stream",
          "name": "stdout",
          "text": [
            "Model: \"model_1\"\n",
            "__________________________________________________________________________________________________\n",
            " Layer (type)                   Output Shape         Param #     Connected to                     \n",
            "==================================================================================================\n",
            " input_1 (InputLayer)           [(None, 800)]        0           []                               \n",
            "                                                                                                  \n",
            " embedding (Embedding)          (None, 800, 16)      20800       ['input_1[0][0]']                \n",
            "                                                                                                  \n",
            " bidirectional (Bidirectional)  (None, 800, 32)      4224        ['embedding[0][0]']              \n",
            "                                                                                                  \n",
            " bidirectional_1 (Bidirectional  (None, 32)          6272        ['bidirectional[0][0]']          \n",
            " )                                                                                                \n",
            "                                                                                                  \n",
            " input_2 (InputLayer)           [(None, 3)]          0           []                               \n",
            "                                                                                                  \n",
            " concatenate (Concatenate)      (None, 35)           0           ['bidirectional_1[0][0]',        \n",
            "                                                                  'input_2[0][0]']                \n",
            "                                                                                                  \n",
            " dense (Dense)                  (None, 4)            144         ['concatenate[0][0]']            \n",
            "                                                                                                  \n",
            " dense_2 (Dense)                (None, 1)            5           ['dense[0][0]']                  \n",
            "                                                                                                  \n",
            "==================================================================================================\n",
            "Total params: 31,445\n",
            "Trainable params: 31,445\n",
            "Non-trainable params: 0\n",
            "__________________________________________________________________________________________________\n"
          ]
        }
      ],
      "source": [
        "model_basic_class.summary()"
      ]
    },
    {
      "cell_type": "code",
      "execution_count": null,
      "metadata": {
        "id": "MfoTtacjJ2L_"
      },
      "outputs": [],
      "source": [
        "class_losses ={'dense_2':tf.keras.losses.BinaryCrossentropy()}\n",
        "class_metrics = {'dense_2': tf.keras.metrics.Precision()} \n",
        " \n",
        "opt = Adam(learning_rate=0.001) "
      ]
    },
    {
      "cell_type": "code",
      "execution_count": null,
      "metadata": {
        "id": "TPSmmTtcKPrp"
      },
      "outputs": [],
      "source": [
        "# Model Compiling\n",
        "model_basic_class.compile(optimizer=opt, loss=class_losses,metrics=class_metrics) "
      ]
    },
    {
      "cell_type": "code",
      "execution_count": null,
      "metadata": {
        "id": "TxvUrlarKPrq"
      },
      "outputs": [],
      "source": [
        "# Model Fitting \n",
        "#early_stop_clf = EarlyStopping(monitor='val_precision', mode='max', patience=300, verbose=False)\n",
        "H = model_basic_class.fit(x=[padded_us, X_train_us], # text training input first, then numerical training in put\n",
        "y={'dense_2': clf_train_us}, # two sets of labels, one for the next rate and one for the classification\n",
        "validation_data=([val_padded_us, X_val_us],{'dense_2': clf_val_us}), # validation for text, validation for numerical\n",
        "epochs=200,verbose=0) \n",
        "\n",
        " "
      ]
    },
    {
      "cell_type": "code",
      "execution_count": null,
      "metadata": {
        "colab": {
          "base_uri": "https://localhost:8080/"
        },
        "outputId": "b4a0d91e-c7a4-41a5-df9d-cb8c3c7612a9",
        "id": "f55rlFXBKPrs"
      },
      "outputs": [
        {
          "output_type": "stream",
          "name": "stdout",
          "text": [
            "2/2 [==============================] - 1s 61ms/step - loss: 0.4422 - precision: 1.0000\n"
          ]
        },
        {
          "output_type": "execute_result",
          "data": {
            "text/plain": [
              "[0.4422171115875244, 1.0]"
            ]
          },
          "metadata": {},
          "execution_count": 167
        }
      ],
      "source": [
        "model_basic_class.evaluate({'input_1': test_padded_us,'input_2': X_test_us}, {'dense_2': clf_test_us}) "
      ]
    },
    {
      "cell_type": "code",
      "source": [
        "plt.plot(H.history['val_precision'])"
      ],
      "metadata": {
        "colab": {
          "base_uri": "https://localhost:8080/",
          "height": 282
        },
        "outputId": "c58c2743-7152-49b3-c762-f9878de51c2d",
        "id": "_VC3oYWmKPrs"
      },
      "execution_count": null,
      "outputs": [
        {
          "output_type": "execute_result",
          "data": {
            "text/plain": [
              "[<matplotlib.lines.Line2D at 0x7f43f3cb4760>]"
            ]
          },
          "metadata": {},
          "execution_count": 168
        },
        {
          "output_type": "display_data",
          "data": {
            "text/plain": [
              "<Figure size 432x288 with 1 Axes>"
            ],
            "image/png": "[encoded data removed]"
          },
          "metadata": {
            "needs_background": "light"
          }
        }
      ]
    },
    {
      "cell_type": "markdown",
      "metadata": {
        "id": "J_k1wZhYND2H"
      },
      "source": [
        "# **Pre-trained embedding specialized for Central Banks**\n"
      ]
    },
    {
      "cell_type": "markdown",
      "metadata": {
        "id": "UE75Z1v6ND2H"
      },
      "source": [
        "First we apply the central bank-specific embeddings by Zahner and Baumgaertner predicting the next rate.  We will first explore the embeddings then run the models.  We find there are over 72,000 word vectors and 300 features per word.  "
      ]
    },
    {
      "cell_type": "code",
      "execution_count": null,
      "metadata": {
        "id": "MErAW7f3ND2I"
      },
      "outputs": [],
      "source": [
        "zb = pd.read_csv('word_embeddings_3b.csv') "
      ]
    },
    {
      "cell_type": "code",
      "execution_count": null,
      "metadata": {
        "colab": {
          "base_uri": "https://localhost:8080/"
        },
        "id": "jfz9L4GyYjiL",
        "outputId": "159c416d-2c9d-4dc5-e708-e39bcb2b8313"
      },
      "outputs": [
        {
          "output_type": "execute_result",
          "data": {
            "text/plain": [
              "(73082, 301)"
            ]
          },
          "metadata": {},
          "execution_count": 46
        }
      ],
      "source": [
        "zb.shape"
      ]
    },
    {
      "cell_type": "code",
      "execution_count": null,
      "metadata": {
        "id": "Egu7UblMND2J"
      },
      "outputs": [],
      "source": [
        "zb=zb.set_index('word')\n"
      ]
    },
    {
      "cell_type": "code",
      "execution_count": null,
      "metadata": {
        "id": "r2qwWbayND2J"
      },
      "outputs": [],
      "source": [
        "zb_transposed = zb.T"
      ]
    },
    {
      "cell_type": "code",
      "execution_count": null,
      "metadata": {
        "id": "nxkUhBxIND2K"
      },
      "outputs": [],
      "source": [
        "list_of_columns = zb.values.tolist() "
      ]
    },
    {
      "cell_type": "code",
      "execution_count": null,
      "metadata": {
        "id": "2vNAz2WYND2L"
      },
      "outputs": [],
      "source": [
        "words=list(zb_transposed.columns.values)"
      ]
    },
    {
      "cell_type": "code",
      "execution_count": null,
      "metadata": {
        "colab": {
          "base_uri": "https://localhost:8080/"
        },
        "id": "HhraL6JSND2X",
        "outputId": "42c42032-ac80-48ee-d0fd-7ba4b0494ee7"
      },
      "outputs": [
        {
          "output_type": "stream",
          "name": "stdout",
          "text": [
            "Found 72096 word vectors.\n"
          ]
        }
      ],
      "source": [
        "embeddings_index = {} # key: word, value: vector\n",
        "\n",
        "for i in range(len(words)):\n",
        "    embeddings_index[words[i]]=list_of_columns[i]\n",
        "\n",
        "\n",
        "print(\"Found %s word vectors.\" % len(embeddings_index))"
      ]
    },
    {
      "cell_type": "markdown",
      "metadata": {
        "id": "0IejIYOIXGmo"
      },
      "source": [
        "### Prepare pretrained embeddings see how many words in our vocabulary are in the pre-trained model\n",
        "\n",
        "Source:  https://keras.io/examples/nlp/pretrained_word_embeddings/"
      ]
    },
    {
      "cell_type": "code",
      "execution_count": null,
      "metadata": {
        "id": "_Be6537tND2c",
        "scrolled": true,
        "colab": {
          "base_uri": "https://localhost:8080/"
        },
        "outputId": "b642c5ac-0155-4224-c118-6e95f7807466"
      },
      "outputs": [
        {
          "output_type": "stream",
          "name": "stdout",
          "text": [
            "<OOV>\n",
            "actionsthe\n",
            "banksinformation\n"
          ]
        }
      ],
      "source": [
        "\n",
        "num_tokens = len(range(vocab_size)) + 2\n",
        "embedding_dim = 300 #number of features per word in pre-trained model\n",
        "hits = 0 \n",
        "misses = 0\n",
        "\n",
        "# Prepare embedding matrix\n",
        "embedding_matrix = np.zeros((num_tokens, embedding_dim))\n",
        "for word, i in word_index.items():\n",
        "    embedding_vector = embeddings_index.get(word)\n",
        "    if embedding_vector is not None:\n",
        "        # Words not found in embedding index will be all-zeros.\n",
        "        # This includes the representation for \"padding\" and \"OOV\"\n",
        "        embedding_matrix[i] = embedding_vector\n",
        "        hits += 1\n",
        "    else:\n",
        "        misses += 1\n",
        "        #print(word, end =\"\")\n",
        "        print(word)\n",
        "#print(\"Converted %d words (%d misses)\" % (hits, misses))\n"
      ]
    },
    {
      "cell_type": "code",
      "execution_count": null,
      "metadata": {
        "colab": {
          "base_uri": "https://localhost:8080/"
        },
        "id": "MrPgV4GcND2c",
        "outputId": "2de76fc2-2bab-45c1-fb80-c0fbb9aed1e4"
      },
      "outputs": [
        {
          "output_type": "stream",
          "name": "stdout",
          "text": [
            "(1302, 300)\n"
          ]
        }
      ],
      "source": [
        "print(embedding_matrix.shape)"
      ]
    },
    {
      "cell_type": "markdown",
      "metadata": {
        "id": "wnj-81PgWqsg"
      },
      "source": [
        "## Define and test model\n",
        "\n",
        "This inputs the text through our embedding matrix and the numerical features.  It predicts the next rate (RMSE).  \n",
        "\n",
        "We tried numerous variants of an LSTM model including 2 bidirectional LSTMs (below), a single uni-directional LSTM, and 2 unidirectional-LSTM layers. All had similar performance.\n",
        "\n",
        "The following resource was very helpful.  https://blog.paperspace.com/combining-multiple-features-outputs-keras/"
      ]
    },
    {
      "cell_type": "markdown",
      "source": [
        "## US data, text and macros, ZB embeddings: RMSE 0.198"
      ],
      "metadata": {
        "id": "fcWkNCx7GI19"
      }
    },
    {
      "cell_type": "code",
      "execution_count": null,
      "metadata": {
        "id": "X5lZ4zBC2WvK"
      },
      "outputs": [],
      "source": [
        "from keras.layers import Dense, Embedding, LSTM, Bidirectional, Input\n",
        "from keras.models import Model\n",
        "\n",
        "def make_model(max_length,embedding_matrix,embedding_dim):\n",
        "\n",
        "    # Defining the embedding layer\n",
        "    input1=Input(shape=(max_length,))\n",
        "    \n",
        "    embedding_layer = Embedding(embedding_matrix.shape[0], embedding_matrix.shape[1],  #len(word_index)+1,100\n",
        "                                weights=[embedding_matrix],\n",
        "                                input_length=max_length,\n",
        "                                trainable=False)(input1)\n",
        "                                \n",
        "    # Building LSTM for text features                          \n",
        "    bi_lstm_1 = Bidirectional(LSTM(embedding_dim,return_sequences=True))(embedding_layer)\n",
        "    \n",
        "    bi_lstm_2 = Bidirectional(LSTM(embedding_dim))(bi_lstm_1)   \n",
        "    lstm_output =  Model(inputs = input1,outputs = bi_lstm_2)\n",
        "    \n",
        "    #Inputting Number features\n",
        "    input2=Input(shape=(3,))  \n",
        "    \n",
        "    # Merging inputs\n",
        "    merge = tf.keras.layers.concatenate([lstm_output.output,input2])\n",
        "    \n",
        "    # Building dense layers for regression with number features\n",
        "    reg_dense1 = Dense(480, activation='relu')(merge) \n",
        "    reg_dense2 = Dense(464, activation='relu')(reg_dense1) \n",
        "    output1 = Dense(1, activation='linear')(reg_dense2)\n",
        "\n",
        "    model = Model(inputs=[lstm_output.input,input2], outputs=[output1]) \n",
        " \n",
        "    return model"
      ]
    },
    {
      "cell_type": "code",
      "execution_count": null,
      "metadata": {
        "id": "KMiWbQAd2WvN"
      },
      "outputs": [],
      "source": [
        "tf.keras.backend.clear_session() \n",
        "np.random.seed(42)\n",
        "tf.random.set_seed(42)"
      ]
    },
    {
      "cell_type": "code",
      "execution_count": null,
      "metadata": {
        "id": "mHPcfZ1G2WvO"
      },
      "outputs": [],
      "source": [
        "model = make_model(max_length,embedding_matrix,300)"
      ]
    },
    {
      "cell_type": "code",
      "execution_count": null,
      "metadata": {
        "colab": {
          "base_uri": "https://localhost:8080/"
        },
        "outputId": "a6293741-781a-4232-99a8-d41648835622",
        "id": "V9iDeTMT2WvO"
      },
      "outputs": [
        {
          "output_type": "stream",
          "name": "stdout",
          "text": [
            "Model: \"model_1\"\n",
            "__________________________________________________________________________________________________\n",
            " Layer (type)                   Output Shape         Param #     Connected to                     \n",
            "==================================================================================================\n",
            " input_1 (InputLayer)           [(None, 800)]        0           []                               \n",
            "                                                                                                  \n",
            " embedding (Embedding)          (None, 800, 300)     390600      ['input_1[0][0]']                \n",
            "                                                                                                  \n",
            " bidirectional (Bidirectional)  (None, 800, 600)     1442400     ['embedding[0][0]']              \n",
            "                                                                                                  \n",
            " bidirectional_1 (Bidirectional  (None, 600)         2162400     ['bidirectional[0][0]']          \n",
            " )                                                                                                \n",
            "                                                                                                  \n",
            " input_2 (InputLayer)           [(None, 3)]          0           []                               \n",
            "                                                                                                  \n",
            " concatenate (Concatenate)      (None, 603)          0           ['bidirectional_1[0][0]',        \n",
            "                                                                  'input_2[0][0]']                \n",
            "                                                                                                  \n",
            " dense (Dense)                  (None, 480)          289920      ['concatenate[0][0]']            \n",
            "                                                                                                  \n",
            " dense_1 (Dense)                (None, 464)          223184      ['dense[0][0]']                  \n",
            "                                                                                                  \n",
            " dense_2 (Dense)                (None, 1)            465         ['dense_1[0][0]']                \n",
            "                                                                                                  \n",
            "==================================================================================================\n",
            "Total params: 4,508,969\n",
            "Trainable params: 4,118,369\n",
            "Non-trainable params: 390,600\n",
            "__________________________________________________________________________________________________\n"
          ]
        }
      ],
      "source": [
        "model.summary()"
      ]
    },
    {
      "cell_type": "code",
      "execution_count": null,
      "metadata": {
        "id": "JiTGONQf2WvQ"
      },
      "outputs": [],
      "source": [
        "# Model Compiling\n",
        "model.compile(optimizer=opt, loss=regression_losses,metrics=regression_metrics) #model.compile(optimizer=opt, loss=\"mse\",metrics=metrics)"
      ]
    },
    {
      "cell_type": "code",
      "execution_count": null,
      "metadata": {
        "id": "qzB4MS5Q2WvR"
      },
      "outputs": [],
      "source": [
        "# Model Fitting \n",
        "H = model.fit(x=[padded_us, X_train_us], # text training input first, then numerical training in put\n",
        "y={'dense_2': training_labels_final_us}, # two sets of labels, one for the next rate and one for the classification\n",
        "validation_data=([val_padded_us, X_val_us],{'dense_2': val_labels_final_us}), # validation for text, validation for numerical\n",
        "epochs=2500,verbose=0, callbacks=[early_stop]) \n",
        "\n",
        " "
      ]
    },
    {
      "cell_type": "code",
      "execution_count": null,
      "metadata": {
        "colab": {
          "base_uri": "https://localhost:8080/"
        },
        "outputId": "575e2743-644c-4d82-f4cf-187c96a7d885",
        "id": "wkstLrzf2WvS"
      },
      "outputs": [
        {
          "output_type": "stream",
          "name": "stdout",
          "text": [
            "2/2 [==============================] - 1s 56ms/step - loss: 0.0393 - root_mean_squared_error: 0.1983\n"
          ]
        },
        {
          "output_type": "execute_result",
          "data": {
            "text/plain": [
              "[0.03933556005358696, 0.19833193719387054]"
            ]
          },
          "metadata": {},
          "execution_count": 148
        }
      ],
      "source": [
        "model.evaluate({'input_1': test_padded_us,'input_2': X_test_us}, {'dense_2': y_test_us}) "
      ]
    },
    {
      "cell_type": "code",
      "source": [
        "plt.plot(H.history['val_root_mean_squared_error'])"
      ],
      "metadata": {
        "colab": {
          "base_uri": "https://localhost:8080/",
          "height": 282
        },
        "id": "cpFUauqhGj3t",
        "outputId": "1fadd65e-aad0-4359-a9a4-374e8cd5f94e"
      },
      "execution_count": null,
      "outputs": [
        {
          "output_type": "execute_result",
          "data": {
            "text/plain": [
              "[<matplotlib.lines.Line2D at 0x7f44fc04f130>]"
            ]
          },
          "metadata": {},
          "execution_count": 149
        },
        {
          "output_type": "display_data",
          "data": {
            "text/plain": [
              "<Figure size 432x288 with 1 Axes>"
            ],
            "image/png": "[encoded data removed]"
          },
          "metadata": {
            "needs_background": "light"
          }
        }
      ]
    },
    {
      "cell_type": "code",
      "source": [],
      "metadata": {
        "id": "EdNb4u0bLzii"
      },
      "execution_count": null,
      "outputs": []
    },
    {
      "cell_type": "markdown",
      "metadata": {
        "id": "p3mtKEPMA4o5"
      },
      "source": [
        "# **GloVe Embeddings**\n",
        "\n",
        "After downloading GloVe, we adapt our code to use it.  GloVe contains 400,000 tokens and comes with a variety of embedding dims.  We chose the smallest - 50 features per token.\n",
        "\n",
        "All but 45 words in our vocab were in GloVE.  The \"misses\" tended to be words with apostrophes, abbreviations and compound words **(later we will clean our data to better match the pre-trained embeddings).**"
      ]
    },
    {
      "cell_type": "code",
      "execution_count": null,
      "metadata": {
        "id": "mk-BciFfgX9G"
      },
      "outputs": [],
      "source": [
        "#!wget http://nlp.stanford.edu/data/glove.6B.zip\n",
        "#!unzip -q glove.6B.zip"
      ]
    },
    {
      "cell_type": "code",
      "execution_count": null,
      "metadata": {
        "colab": {
          "base_uri": "https://localhost:8080/"
        },
        "id": "xDgozhp9ND2q",
        "outputId": "1a191355-4211-486d-cef3-a992521652fd"
      },
      "outputs": [
        {
          "output_type": "stream",
          "name": "stdout",
          "text": [
            "Found 400000 word vectors.\n"
          ]
        }
      ],
      "source": [
        "embeddings_index_glove = {}\n",
        "with open('glove.6B.50d.txt', encoding=\"utf8\") as f:\n",
        "    for line in f:\n",
        "        word, coefs = line.split(maxsplit=1)\n",
        "        coefs = np.fromstring(coefs, \"f\", sep=\" \")\n",
        "        embeddings_index_glove[word] = coefs\n",
        "\n",
        "print(\"Found %s word vectors.\" % len(embeddings_index_glove))"
      ]
    },
    {
      "cell_type": "code",
      "execution_count": null,
      "metadata": {
        "colab": {
          "base_uri": "https://localhost:8080/"
        },
        "id": "g7j6F9IMND2q",
        "outputId": "2e716616-58af-4049-8a40-d6a412721c9e"
      },
      "outputs": [
        {
          "output_type": "stream",
          "name": "stdout",
          "text": [
            "<OOV>\n",
            "covid\n",
            "actionsthe\n",
            "banksinformation\n",
            "Converted 1254 words (4 misses)\n"
          ]
        }
      ],
      "source": [
        "num_tokens = len(range(vocab_size)) + 2 #vocab size was specified in Part I\n",
        "embedding_dim = 50 #we chose the 50-dim embedding of GloVE\n",
        "hits = 0\n",
        "misses = 0\n",
        "\n",
        "# Prepare embedding matrix. This matrix matches OUR vocabulary to the ELEMENTS in GloVE.\n",
        "embedding_matrix_glove = np.zeros((num_tokens, embedding_dim))\n",
        "for word, i in word_index.items():\n",
        "    embedding_vector = embeddings_index_glove.get(word)\n",
        "    if embedding_vector is not None:\n",
        "        # Words not found in embedding index will be all-zeros.\n",
        "        # This includes the representation for \"padding\" and \"OOV\"\n",
        "        embedding_matrix_glove[i] = embedding_vector\n",
        "        hits += 1\n",
        "    else:\n",
        "        misses += 1\n",
        "        #print(word, end =\"\")\n",
        "        print(word)\n",
        "print(\"Converted %d words (%d misses)\" % (hits, misses))"
      ]
    },
    {
      "cell_type": "code",
      "execution_count": null,
      "metadata": {
        "id": "0SL8_Dh5kayo"
      },
      "outputs": [],
      "source": [
        "tf.keras.backend.clear_session() \n",
        "np.random.seed(42)\n",
        "tf.random.set_seed(42)"
      ]
    },
    {
      "cell_type": "markdown",
      "metadata": {
        "id": "G_ON1LYFshqN"
      },
      "source": [
        "### US data, text and macros, GloVe embedding matrix: RMSE 0.2241\n",
        "\n"
      ]
    },
    {
      "cell_type": "code",
      "execution_count": null,
      "metadata": {
        "id": "RbEzwLs8kayq"
      },
      "outputs": [],
      "source": [
        "import keras\n",
        "from keras.optimizers import Adam\n",
        "\n",
        "model_glove = make_model(max_length,embedding_matrix_glove,50)"
      ]
    },
    {
      "cell_type": "code",
      "execution_count": null,
      "metadata": {
        "colab": {
          "base_uri": "https://localhost:8080/"
        },
        "id": "8w65r361kayq",
        "outputId": "59b181b8-bc6b-4195-b597-e32a2e833e41"
      },
      "outputs": [
        {
          "output_type": "stream",
          "name": "stdout",
          "text": [
            "Model: \"model_1\"\n",
            "__________________________________________________________________________________________________\n",
            " Layer (type)                   Output Shape         Param #     Connected to                     \n",
            "==================================================================================================\n",
            " input_1 (InputLayer)           [(None, 800)]        0           []                               \n",
            "                                                                                                  \n",
            " embedding (Embedding)          (None, 800, 50)      65100       ['input_1[0][0]']                \n",
            "                                                                                                  \n",
            " bidirectional (Bidirectional)  (None, 800, 100)     40400       ['embedding[0][0]']              \n",
            "                                                                                                  \n",
            " bidirectional_1 (Bidirectional  (None, 100)         60400       ['bidirectional[0][0]']          \n",
            " )                                                                                                \n",
            "                                                                                                  \n",
            " input_2 (InputLayer)           [(None, 3)]          0           []                               \n",
            "                                                                                                  \n",
            " concatenate (Concatenate)      (None, 103)          0           ['bidirectional_1[0][0]',        \n",
            "                                                                  'input_2[0][0]']                \n",
            "                                                                                                  \n",
            " dense (Dense)                  (None, 480)          49920       ['concatenate[0][0]']            \n",
            "                                                                                                  \n",
            " dense_1 (Dense)                (None, 464)          223184      ['dense[0][0]']                  \n",
            "                                                                                                  \n",
            " dense_2 (Dense)                (None, 1)            465         ['dense_1[0][0]']                \n",
            "                                                                                                  \n",
            "==================================================================================================\n",
            "Total params: 439,469\n",
            "Trainable params: 374,369\n",
            "Non-trainable params: 65,100\n",
            "__________________________________________________________________________________________________\n"
          ]
        }
      ],
      "source": [
        "model_glove.summary()"
      ]
    },
    {
      "cell_type": "code",
      "execution_count": null,
      "metadata": {
        "id": "0jpdxvOPkayr"
      },
      "outputs": [],
      "source": [
        "# Model Compiling\n",
        "model_glove.compile(optimizer=opt, loss=regression_losses,metrics=regression_metrics)"
      ]
    },
    {
      "cell_type": "code",
      "execution_count": null,
      "metadata": {
        "id": "kGtyKSG_kays"
      },
      "outputs": [],
      "source": [
        "# Model Fitting\n",
        " \n",
        "early_stop = EarlyStopping(monitor='val_root_mean_squared_error', \n",
        "                           mode='min', patience=50, verbose=False)\n",
        "H = model_glove.fit(x=[padded_us, X_train_us], # text training input first, then numerical training in put\n",
        "y={'dense_2': training_labels_final_us}, # two sets of labels, one for the next rate and one for the classification\n",
        "validation_data=([val_padded_us, X_val_us],{'dense_2': val_labels_final_us}), # validation for text, validation for numerical\n",
        "verbose=0, \n",
        "epochs=2500,\n",
        "callbacks=[early_stop]) \n",
        "\n",
        " "
      ]
    },
    {
      "cell_type": "code",
      "execution_count": null,
      "metadata": {
        "colab": {
          "base_uri": "https://localhost:8080/"
        },
        "id": "BK4XTcYEkayt",
        "outputId": "59a94230-87ac-46e2-a649-9e46e18d99a9"
      },
      "outputs": [
        {
          "output_type": "stream",
          "name": "stdout",
          "text": [
            "2/2 [==============================] - 1s 93ms/step - loss: 0.0502 - root_mean_squared_error: 0.2241\n"
          ]
        },
        {
          "output_type": "execute_result",
          "data": {
            "text/plain": [
              "[0.05019845440983772, 0.2240501195192337]"
            ]
          },
          "metadata": {},
          "execution_count": 159
        }
      ],
      "source": [
        "model_glove.evaluate({'input_1': test_padded_us,'input_2': X_test_us}, {'dense_2': y_test_us})"
      ]
    },
    {
      "cell_type": "code",
      "source": [],
      "metadata": {
        "id": "_Y_4VN5XaXHj"
      },
      "execution_count": null,
      "outputs": []
    },
    {
      "cell_type": "code",
      "source": [
        "#df_train_us.to_excel('/content/df_train_us_1204.xlsx')\n",
        "#df_val_us.to_excel('/content/df_val_us_1204.xlsx')\n",
        "#df_test_us.to_excel('/content/df_val_us_1204.xlsx')"
      ],
      "metadata": {
        "id": "EWAR3odEhGXI"
      },
      "execution_count": null,
      "outputs": []
    }
  ],
  "metadata": {
    "colab": {
      "collapsed_sections": [
        "p-ZC7xHqSV2W",
        "RtjN8c-4DuZs"
      ],
      "provenance": [],
      "toc_visible": true
    },
    "gpuClass": "standard",
    "kernelspec": {
      "display_name": "Python 3 (ipykernel)",
      "language": "python",
      "name": "python3"
    },
    "language_info": {
      "codemirror_mode": {
        "name": "ipython",
        "version": 3
      },
      "file_extension": ".py",
      "mimetype": "text/x-python",
      "name": "python",
      "nbconvert_exporter": "python",
      "pygments_lexer": "ipython3",
      "version": "3.9.7"
    },
    "accelerator": "GPU"
  },
  "nbformat": 4,
  "nbformat_minor": 0
}